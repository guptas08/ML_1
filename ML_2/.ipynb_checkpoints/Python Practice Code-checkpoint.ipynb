{
 "cells": [
  {
   "cell_type": "code",
   "execution_count": 165,
   "metadata": {},
   "outputs": [],
   "source": [
    "s=\"abc\""
   ]
  },
  {
   "cell_type": "code",
   "execution_count": 166,
   "metadata": {},
   "outputs": [
    {
     "data": {
      "text/plain": [
       "'Abc'"
      ]
     },
     "execution_count": 166,
     "metadata": {},
     "output_type": "execute_result"
    }
   ],
   "source": [
    "s.capitalize()"
   ]
  },
  {
   "cell_type": "code",
   "execution_count": 167,
   "metadata": {},
   "outputs": [
    {
     "name": "stdout",
     "output_type": "stream",
     "text": [
      "S.capitalize() -> str\n",
      "\n",
      "Return a capitalized version of S, i.e. make the first character\n",
      "have upper case and the rest lower case.\n"
     ]
    }
   ],
   "source": [
    "print(s.capitalize.__doc__)"
   ]
  },
  {
   "cell_type": "code",
   "execution_count": 168,
   "metadata": {},
   "outputs": [
    {
     "name": "stdout",
     "output_type": "stream",
     "text": [
      "Help on built-in function capitalize:\n",
      "\n",
      "capitalize(...) method of builtins.str instance\n",
      "    S.capitalize() -> str\n",
      "    \n",
      "    Return a capitalized version of S, i.e. make the first character\n",
      "    have upper case and the rest lower case.\n",
      "\n"
     ]
    }
   ],
   "source": [
    "help(s.capitalize)"
   ]
  },
  {
   "cell_type": "code",
   "execution_count": 169,
   "metadata": {},
   "outputs": [
    {
     "data": {
      "text/plain": [
       "'ab'"
      ]
     },
     "execution_count": 169,
     "metadata": {},
     "output_type": "execute_result"
    }
   ],
   "source": [
    "s[0:2]"
   ]
  },
  {
   "cell_type": "code",
   "execution_count": 170,
   "metadata": {},
   "outputs": [
    {
     "data": {
      "text/plain": [
       "'abc'"
      ]
     },
     "execution_count": 170,
     "metadata": {},
     "output_type": "execute_result"
    }
   ],
   "source": [
    "s[:3]"
   ]
  },
  {
   "cell_type": "code",
   "execution_count": 171,
   "metadata": {},
   "outputs": [],
   "source": [
    "a=\"Société Générale S.A., often nicknamed \\\"SocGen\\\", is a French multinational investment bank and financial services company headquartered in Paris, France.The bank was founded by a group of industrialists and financiers during the Second Empire, on May 4, 1864.[8] The bank's first chairman was the prominent industrialist Eugène Schneider, followed by Edward Charles Blount.The company started to hire employees and establish offices. Coverage of France went ahead at a steady rate. By 1870, the bank had 15 branches in Paris and 32 in the rest of France. It set up a permanent office in London in 1871. At the beginning, the bank used its own resources almost entirely for both financial and banking operations. In 1871, Société Générale moved into the public French issues market with a national debenture loan launched to cover the war indemnity stipulated in the Treaty of Frankfurt.In 1886, Société Générale was part of the bank consortium (along with the Franco-Egyptian Bank and the Crédit Industriel et Commercial) that financed the construction of the Eiffel Tower.From 1871 to 1893, France went through a period of economic gloom marked by the failure of several banking establishments. The company continued to grow at a more moderate pace. In 1889, there were 148 banking outlets, demonstrating the group's capacity to withstand unfavourable economic conditions\""
   ]
  },
  {
   "cell_type": "code",
   "execution_count": 172,
   "metadata": {},
   "outputs": [
    {
     "data": {
      "text/plain": [
       "['Société',\n",
       " 'Générale',\n",
       " 'S.A.,',\n",
       " 'often',\n",
       " 'nicknamed',\n",
       " '\"SocGen\",',\n",
       " 'is',\n",
       " 'a',\n",
       " 'French',\n",
       " 'multinational',\n",
       " 'investment',\n",
       " 'bank',\n",
       " 'and',\n",
       " 'financial',\n",
       " 'services',\n",
       " 'company',\n",
       " 'headquartered',\n",
       " 'in',\n",
       " 'Paris,',\n",
       " 'France.The',\n",
       " 'bank',\n",
       " 'was',\n",
       " 'founded',\n",
       " 'by',\n",
       " 'a',\n",
       " 'group',\n",
       " 'of',\n",
       " 'industrialists',\n",
       " 'and',\n",
       " 'financiers',\n",
       " 'during',\n",
       " 'the',\n",
       " 'Second',\n",
       " 'Empire,',\n",
       " 'on',\n",
       " 'May',\n",
       " '4,',\n",
       " '1864.[8]',\n",
       " 'The',\n",
       " \"bank's\",\n",
       " 'first',\n",
       " 'chairman',\n",
       " 'was',\n",
       " 'the',\n",
       " 'prominent',\n",
       " 'industrialist',\n",
       " 'Eugène',\n",
       " 'Schneider,',\n",
       " 'followed',\n",
       " 'by',\n",
       " 'Edward',\n",
       " 'Charles',\n",
       " 'Blount.The',\n",
       " 'company',\n",
       " 'started',\n",
       " 'to',\n",
       " 'hire',\n",
       " 'employees',\n",
       " 'and',\n",
       " 'establish',\n",
       " 'offices.',\n",
       " 'Coverage',\n",
       " 'of',\n",
       " 'France',\n",
       " 'went',\n",
       " 'ahead',\n",
       " 'at',\n",
       " 'a',\n",
       " 'steady',\n",
       " 'rate.',\n",
       " 'By',\n",
       " '1870,',\n",
       " 'the',\n",
       " 'bank',\n",
       " 'had',\n",
       " '15',\n",
       " 'branches',\n",
       " 'in',\n",
       " 'Paris',\n",
       " 'and',\n",
       " '32',\n",
       " 'in',\n",
       " 'the',\n",
       " 'rest',\n",
       " 'of',\n",
       " 'France.',\n",
       " 'It',\n",
       " 'set',\n",
       " 'up',\n",
       " 'a',\n",
       " 'permanent',\n",
       " 'office',\n",
       " 'in',\n",
       " 'London',\n",
       " 'in',\n",
       " '1871.',\n",
       " 'At',\n",
       " 'the',\n",
       " 'beginning,',\n",
       " 'the',\n",
       " 'bank',\n",
       " 'used',\n",
       " 'its',\n",
       " 'own',\n",
       " 'resources',\n",
       " 'almost',\n",
       " 'entirely',\n",
       " 'for',\n",
       " 'both',\n",
       " 'financial',\n",
       " 'and',\n",
       " 'banking',\n",
       " 'operations.',\n",
       " 'In',\n",
       " '1871,',\n",
       " 'Société',\n",
       " 'Générale',\n",
       " 'moved',\n",
       " 'into',\n",
       " 'the',\n",
       " 'public',\n",
       " 'French',\n",
       " 'issues',\n",
       " 'market',\n",
       " 'with',\n",
       " 'a',\n",
       " 'national',\n",
       " 'debenture',\n",
       " 'loan',\n",
       " 'launched',\n",
       " 'to',\n",
       " 'cover',\n",
       " 'the',\n",
       " 'war',\n",
       " 'indemnity',\n",
       " 'stipulated',\n",
       " 'in',\n",
       " 'the',\n",
       " 'Treaty',\n",
       " 'of',\n",
       " 'Frankfurt.In',\n",
       " '1886,',\n",
       " 'Société',\n",
       " 'Générale',\n",
       " 'was',\n",
       " 'part',\n",
       " 'of',\n",
       " 'the',\n",
       " 'bank',\n",
       " 'consortium',\n",
       " '(along',\n",
       " 'with',\n",
       " 'the',\n",
       " 'Franco-Egyptian',\n",
       " 'Bank',\n",
       " 'and',\n",
       " 'the',\n",
       " 'Crédit',\n",
       " 'Industriel',\n",
       " 'et',\n",
       " 'Commercial)',\n",
       " 'that',\n",
       " 'financed',\n",
       " 'the',\n",
       " 'construction',\n",
       " 'of',\n",
       " 'the',\n",
       " 'Eiffel',\n",
       " 'Tower.From',\n",
       " '1871',\n",
       " 'to',\n",
       " '1893,',\n",
       " 'France',\n",
       " 'went',\n",
       " 'through',\n",
       " 'a',\n",
       " 'period',\n",
       " 'of',\n",
       " 'economic',\n",
       " 'gloom',\n",
       " 'marked',\n",
       " 'by',\n",
       " 'the',\n",
       " 'failure',\n",
       " 'of',\n",
       " 'several',\n",
       " 'banking',\n",
       " 'establishments.',\n",
       " 'The',\n",
       " 'company',\n",
       " 'continued',\n",
       " 'to',\n",
       " 'grow',\n",
       " 'at',\n",
       " 'a',\n",
       " 'more',\n",
       " 'moderate',\n",
       " 'pace.',\n",
       " 'In',\n",
       " '1889,',\n",
       " 'there',\n",
       " 'were',\n",
       " '148',\n",
       " 'banking',\n",
       " 'outlets,',\n",
       " 'demonstrating',\n",
       " 'the',\n",
       " \"group's\",\n",
       " 'capacity',\n",
       " 'to',\n",
       " 'withstand',\n",
       " 'unfavourable',\n",
       " 'economic',\n",
       " 'conditions']"
      ]
     },
     "execution_count": 172,
     "metadata": {},
     "output_type": "execute_result"
    }
   ],
   "source": [
    "b=a.split(\" \")\n",
    "b"
   ]
  },
  {
   "cell_type": "code",
   "execution_count": 173,
   "metadata": {},
   "outputs": [
    {
     "data": {
      "text/plain": [
       "list"
      ]
     },
     "execution_count": 173,
     "metadata": {},
     "output_type": "execute_result"
    }
   ],
   "source": [
    "type(b)"
   ]
  },
  {
   "cell_type": "code",
   "execution_count": 174,
   "metadata": {},
   "outputs": [
    {
     "data": {
      "text/plain": [
       "['Société',\n",
       " 'Générale',\n",
       " 'S.A.,',\n",
       " 'often',\n",
       " 'nicknamed',\n",
       " '\"SocGen\",',\n",
       " 'is',\n",
       " 'a',\n",
       " 'French',\n",
       " 'multinational',\n",
       " 'investment',\n",
       " 'bank',\n",
       " 'and',\n",
       " 'financial',\n",
       " 'services',\n",
       " 'company',\n",
       " 'headquartered',\n",
       " 'in',\n",
       " 'Paris,',\n",
       " 'France.The',\n",
       " 'bank',\n",
       " 'was',\n",
       " 'founded',\n",
       " 'by',\n",
       " 'a',\n",
       " 'group',\n",
       " 'of',\n",
       " 'industrialists',\n",
       " 'and',\n",
       " 'financiers',\n",
       " 'during',\n",
       " 'the',\n",
       " 'Second',\n",
       " 'Empire,',\n",
       " 'on',\n",
       " 'May',\n",
       " '4,',\n",
       " '1864.[8]',\n",
       " 'The',\n",
       " \"bank's\",\n",
       " 'first',\n",
       " 'chairman',\n",
       " 'was',\n",
       " 'the',\n",
       " 'prominent',\n",
       " 'industrialist',\n",
       " 'Eugène',\n",
       " 'Schneider,',\n",
       " 'followed',\n",
       " 'by',\n",
       " 'Edward',\n",
       " 'Charles',\n",
       " 'Blount.The',\n",
       " 'company',\n",
       " 'started',\n",
       " 'to',\n",
       " 'hire',\n",
       " 'employees',\n",
       " 'and',\n",
       " 'establish',\n",
       " 'offices.',\n",
       " 'Coverage',\n",
       " 'of',\n",
       " 'France',\n",
       " 'went',\n",
       " 'ahead',\n",
       " 'at',\n",
       " 'a',\n",
       " 'steady',\n",
       " 'rate.',\n",
       " 'By',\n",
       " '1870,',\n",
       " 'the',\n",
       " 'bank',\n",
       " 'had',\n",
       " '15',\n",
       " 'branches',\n",
       " 'in',\n",
       " 'Paris',\n",
       " 'and',\n",
       " '32',\n",
       " 'in',\n",
       " 'the',\n",
       " 'rest',\n",
       " 'of',\n",
       " 'France.',\n",
       " 'It',\n",
       " 'set',\n",
       " 'up',\n",
       " 'a',\n",
       " 'permanent',\n",
       " 'office',\n",
       " 'in',\n",
       " 'London',\n",
       " 'in',\n",
       " '1871.',\n",
       " 'At',\n",
       " 'the',\n",
       " 'beginning,',\n",
       " 'the',\n",
       " 'bank',\n",
       " 'used',\n",
       " 'its',\n",
       " 'own',\n",
       " 'resources',\n",
       " 'almost',\n",
       " 'entirely',\n",
       " 'for',\n",
       " 'both',\n",
       " 'financial',\n",
       " 'and',\n",
       " 'banking',\n",
       " 'operations.',\n",
       " 'In',\n",
       " '1871,',\n",
       " 'Société',\n",
       " 'Générale',\n",
       " 'moved',\n",
       " 'into',\n",
       " 'the',\n",
       " 'public',\n",
       " 'French',\n",
       " 'issues',\n",
       " 'market',\n",
       " 'with',\n",
       " 'a',\n",
       " 'national',\n",
       " 'debenture',\n",
       " 'loan',\n",
       " 'launched',\n",
       " 'to',\n",
       " 'cover',\n",
       " 'the',\n",
       " 'war',\n",
       " 'indemnity',\n",
       " 'stipulated',\n",
       " 'in',\n",
       " 'the',\n",
       " 'Treaty',\n",
       " 'of',\n",
       " 'Frankfurt.In',\n",
       " '1886,',\n",
       " 'Société',\n",
       " 'Générale',\n",
       " 'was',\n",
       " 'part',\n",
       " 'of',\n",
       " 'the',\n",
       " 'bank',\n",
       " 'consortium',\n",
       " '(along',\n",
       " 'with',\n",
       " 'the',\n",
       " 'Franco-Egyptian',\n",
       " 'Bank',\n",
       " 'and',\n",
       " 'the',\n",
       " 'Crédit',\n",
       " 'Industriel',\n",
       " 'et',\n",
       " 'Commercial)',\n",
       " 'that',\n",
       " 'financed',\n",
       " 'the',\n",
       " 'construction',\n",
       " 'of',\n",
       " 'the',\n",
       " 'Eiffel',\n",
       " 'Tower.From',\n",
       " '1871',\n",
       " 'to',\n",
       " '1893,',\n",
       " 'France',\n",
       " 'went',\n",
       " 'through',\n",
       " 'a',\n",
       " 'period',\n",
       " 'of',\n",
       " 'economic',\n",
       " 'gloom',\n",
       " 'marked',\n",
       " 'by',\n",
       " 'the',\n",
       " 'failure',\n",
       " 'of',\n",
       " 'several',\n",
       " 'banking',\n",
       " 'establishments.',\n",
       " 'The',\n",
       " 'company',\n",
       " 'continued',\n",
       " 'to',\n",
       " 'grow',\n",
       " 'at',\n",
       " 'a',\n",
       " 'more',\n",
       " 'moderate',\n",
       " 'pace.',\n",
       " 'In',\n",
       " '1889,',\n",
       " 'there',\n",
       " 'were',\n",
       " '148',\n",
       " 'banking',\n",
       " 'outlets,',\n",
       " 'demonstrating',\n",
       " 'the',\n",
       " \"group's\",\n",
       " 'capacity',\n",
       " 'to',\n",
       " 'withstand',\n",
       " 'unfavourable',\n",
       " 'economic',\n",
       " 'conditions',\n",
       " 1]"
      ]
     },
     "execution_count": 174,
     "metadata": {},
     "output_type": "execute_result"
    }
   ],
   "source": [
    "b.append(1)\n",
    "b"
   ]
  },
  {
   "cell_type": "code",
   "execution_count": 175,
   "metadata": {},
   "outputs": [
    {
     "data": {
      "text/plain": [
       "['Société',\n",
       " 'Générale',\n",
       " 'S.A.,',\n",
       " 'often',\n",
       " 'nicknamed',\n",
       " '\"SocGen\",',\n",
       " 'is',\n",
       " 'a',\n",
       " 'French',\n",
       " 'multinational',\n",
       " 'investment',\n",
       " 'bank',\n",
       " 'and',\n",
       " 'financial',\n",
       " 'services',\n",
       " 'company',\n",
       " 'headquartered',\n",
       " 'in',\n",
       " 'Paris,',\n",
       " 'France.The',\n",
       " 'bank',\n",
       " 'was',\n",
       " 'founded',\n",
       " 'by',\n",
       " 'a',\n",
       " 'group',\n",
       " 'of',\n",
       " 'industrialists',\n",
       " 'and',\n",
       " 'financiers',\n",
       " 'during',\n",
       " 'the',\n",
       " 'Second',\n",
       " 'Empire,',\n",
       " 'on',\n",
       " 'May',\n",
       " '4,',\n",
       " '1864.[8]',\n",
       " 'The',\n",
       " \"bank's\",\n",
       " 'first',\n",
       " 'chairman',\n",
       " 'was',\n",
       " 'the',\n",
       " 'prominent',\n",
       " 'industrialist',\n",
       " 'Eugène',\n",
       " 'Schneider,',\n",
       " 'followed',\n",
       " 'by',\n",
       " 'Edward',\n",
       " 'Charles',\n",
       " 'Blount.The',\n",
       " 'company',\n",
       " 'started',\n",
       " 'to',\n",
       " 'hire',\n",
       " 'employees',\n",
       " 'and',\n",
       " 'establish',\n",
       " 'offices.',\n",
       " 'Coverage',\n",
       " 'of',\n",
       " 'France',\n",
       " 'went',\n",
       " 'ahead',\n",
       " 'at',\n",
       " 'a',\n",
       " 'steady',\n",
       " 'rate.',\n",
       " 'By',\n",
       " '1870,',\n",
       " 'the',\n",
       " 'bank',\n",
       " 'had',\n",
       " '15',\n",
       " 'branches',\n",
       " 'in',\n",
       " 'Paris',\n",
       " 'and',\n",
       " '32',\n",
       " 'in',\n",
       " 'the',\n",
       " 'rest',\n",
       " 'of',\n",
       " 'France.',\n",
       " 'It',\n",
       " 'set',\n",
       " 'up',\n",
       " 'a',\n",
       " 'permanent',\n",
       " 'office',\n",
       " 'in',\n",
       " 'London',\n",
       " 'in',\n",
       " '1871.',\n",
       " 'At',\n",
       " 'the',\n",
       " 'beginning,',\n",
       " 'the',\n",
       " 'bank',\n",
       " 'used',\n",
       " 'its',\n",
       " 'own',\n",
       " 'resources',\n",
       " 'almost',\n",
       " 'entirely',\n",
       " 'for',\n",
       " 'both',\n",
       " 'financial',\n",
       " 'and',\n",
       " 'banking',\n",
       " 'operations.',\n",
       " 'In',\n",
       " '1871,',\n",
       " 'Société',\n",
       " 'Générale',\n",
       " 'moved',\n",
       " 'into',\n",
       " 'the',\n",
       " 'public',\n",
       " 'French',\n",
       " 'issues',\n",
       " 'market',\n",
       " 'with',\n",
       " 'a',\n",
       " 'national',\n",
       " 'debenture',\n",
       " 'loan',\n",
       " 'launched',\n",
       " 'to',\n",
       " 'cover',\n",
       " 'the',\n",
       " 'war',\n",
       " 'indemnity',\n",
       " 'stipulated',\n",
       " 'in',\n",
       " 'the',\n",
       " 'Treaty',\n",
       " 'of',\n",
       " 'Frankfurt.In',\n",
       " '1886,',\n",
       " 'Société',\n",
       " 'Générale',\n",
       " 'was',\n",
       " 'part',\n",
       " 'of',\n",
       " 'the',\n",
       " 'bank',\n",
       " 'consortium',\n",
       " '(along',\n",
       " 'with',\n",
       " 'the',\n",
       " 'Franco-Egyptian',\n",
       " 'Bank',\n",
       " 'and',\n",
       " 'the',\n",
       " 'Crédit',\n",
       " 'Industriel',\n",
       " 'et',\n",
       " 'Commercial)',\n",
       " 'that',\n",
       " 'financed',\n",
       " 'the',\n",
       " 'construction',\n",
       " 'of',\n",
       " 'the',\n",
       " 'Eiffel',\n",
       " 'Tower.From',\n",
       " '1871',\n",
       " 'to',\n",
       " '1893,',\n",
       " 'France',\n",
       " 'went',\n",
       " 'through',\n",
       " 'a',\n",
       " 'period',\n",
       " 'of',\n",
       " 'economic',\n",
       " 'gloom',\n",
       " 'marked',\n",
       " 'by',\n",
       " 'the',\n",
       " 'failure',\n",
       " 'of',\n",
       " 'several',\n",
       " 'banking',\n",
       " 'establishments.',\n",
       " 'The',\n",
       " 'company',\n",
       " 'continued',\n",
       " 'to',\n",
       " 'grow',\n",
       " 'at',\n",
       " 'a',\n",
       " 'more',\n",
       " 'moderate',\n",
       " 'pace.',\n",
       " 'In',\n",
       " '1889,',\n",
       " 'there',\n",
       " 'were',\n",
       " '148',\n",
       " 'banking',\n",
       " 'outlets,',\n",
       " 'demonstrating',\n",
       " 'the',\n",
       " \"group's\",\n",
       " 'capacity',\n",
       " 'to',\n",
       " 'withstand',\n",
       " 'unfavourable',\n",
       " 'economic',\n",
       " 'conditions']"
      ]
     },
     "execution_count": 175,
     "metadata": {},
     "output_type": "execute_result"
    }
   ],
   "source": [
    "b.pop()\n",
    "b"
   ]
  },
  {
   "cell_type": "code",
   "execution_count": 176,
   "metadata": {},
   "outputs": [
    {
     "data": {
      "text/plain": [
       "'société générale s.a., often nicknamed \"socgen\", is a french multinational investment bank and financial services company headquartered in paris, france.the bank was founded by a group of industrialists and financiers during the second empire, on may 4, 1864.[8] the bank\\'s first chairman was the prominent industrialist eugène schneider, followed by edward charles blount.the company started to hire employees and establish offices. coverage of france went ahead at a steady rate. by 1870, the bank had 15 branches in paris and 32 in the rest of france. it set up a permanent office in london in 1871. at the beginning, the bank used its own resources almost entirely for both financial and banking operations. in 1871, société générale moved into the public french issues market with a national debenture loan launched to cover the war indemnity stipulated in the treaty of frankfurt.in 1886, société générale was part of the bank consortium (along with the franco-egyptian bank and the crédit industriel et commercial) that financed the construction of the eiffel tower.from 1871 to 1893, france went through a period of economic gloom marked by the failure of several banking establishments. the company continued to grow at a more moderate pace. in 1889, there were 148 banking outlets, demonstrating the group\\'s capacity to withstand unfavourable economic conditions'"
      ]
     },
     "execution_count": 176,
     "metadata": {},
     "output_type": "execute_result"
    }
   ],
   "source": [
    "a.lower()"
   ]
  },
  {
   "cell_type": "code",
   "execution_count": 177,
   "metadata": {},
   "outputs": [
    {
     "data": {
      "text/plain": [
       "21"
      ]
     },
     "execution_count": 177,
     "metadata": {},
     "output_type": "execute_result"
    }
   ],
   "source": [
    "a.lower().count(\"the\")"
   ]
  },
  {
   "cell_type": "code",
   "execution_count": 178,
   "metadata": {},
   "outputs": [],
   "source": [
    "L=[\"1\",2,3.3]"
   ]
  },
  {
   "cell_type": "code",
   "execution_count": 179,
   "metadata": {},
   "outputs": [
    {
     "data": {
      "text/plain": [
       "list"
      ]
     },
     "execution_count": 179,
     "metadata": {},
     "output_type": "execute_result"
    }
   ],
   "source": [
    "type(L)"
   ]
  },
  {
   "cell_type": "code",
   "execution_count": 180,
   "metadata": {},
   "outputs": [
    {
     "name": "stdout",
     "output_type": "stream",
     "text": [
      "3\n",
      "5\n",
      "7\n",
      "9\n",
      "11\n",
      "13\n",
      "15\n",
      "17\n",
      "19\n",
      "21\n",
      "23\n",
      "25\n",
      "27\n",
      "29\n",
      "31\n"
     ]
    }
   ],
   "source": [
    "i=1\n",
    "while i<=30:\n",
    "    i=i+2\n",
    "    print (i)\n"
   ]
  },
  {
   "cell_type": "code",
   "execution_count": 181,
   "metadata": {},
   "outputs": [
    {
     "name": "stdout",
     "output_type": "stream",
     "text": [
      "3628800\n"
     ]
    }
   ],
   "source": [
    "n=10\n",
    "f=1\n",
    "while n>=1:\n",
    "    f=n*f    \n",
    "    n=n-1\n",
    "print(f)"
   ]
  },
  {
   "cell_type": "code",
   "execution_count": 182,
   "metadata": {},
   "outputs": [
    {
     "name": "stdout",
     "output_type": "stream",
     "text": [
      "1\n",
      "3\n",
      "5\n",
      "7\n",
      "9\n"
     ]
    }
   ],
   "source": [
    "for i in range (1,10,2):\n",
    "    print(i)"
   ]
  },
  {
   "cell_type": "code",
   "execution_count": 183,
   "metadata": {},
   "outputs": [
    {
     "name": "stdout",
     "output_type": "stream",
     "text": [
      "10\n",
      "8\n",
      "6\n",
      "4\n",
      "2\n"
     ]
    }
   ],
   "source": [
    "for i in range (10,1,-2):\n",
    "    print(i)"
   ]
  },
  {
   "cell_type": "code",
   "execution_count": 184,
   "metadata": {},
   "outputs": [
    {
     "name": "stdout",
     "output_type": "stream",
     "text": [
      "3628800\n"
     ]
    }
   ],
   "source": [
    "f=1\n",
    "for i in range (10,1,-1):\n",
    "    f=f*i\n",
    "print(f)"
   ]
  },
  {
   "cell_type": "code",
   "execution_count": 185,
   "metadata": {},
   "outputs": [
    {
     "name": "stdout",
     "output_type": "stream",
     "text": [
      "Société\n",
      "Générale\n",
      "S.A.,\n",
      "often\n",
      "nicknamed\n",
      "\"SocGen\",\n",
      "is\n",
      "a\n",
      "French\n",
      "multinational\n",
      "investment\n",
      "bank\n",
      "and\n",
      "financial\n",
      "services\n",
      "company\n",
      "headquartered\n",
      "in\n",
      "Paris,\n",
      "France.The\n",
      "bank\n",
      "was\n",
      "founded\n",
      "by\n",
      "a\n",
      "group\n",
      "of\n",
      "industrialists\n",
      "and\n",
      "financiers\n",
      "during\n",
      "the\n",
      "Second\n",
      "Empire,\n",
      "on\n",
      "May\n",
      "4,\n",
      "1864.[8]\n",
      "The\n",
      "bank's\n",
      "first\n",
      "chairman\n",
      "was\n",
      "the\n",
      "prominent\n",
      "industrialist\n",
      "Eugène\n",
      "Schneider,\n",
      "followed\n",
      "by\n",
      "Edward\n",
      "Charles\n",
      "Blount.The\n",
      "company\n",
      "started\n",
      "to\n",
      "hire\n",
      "employees\n",
      "and\n",
      "establish\n",
      "offices.\n",
      "Coverage\n",
      "of\n",
      "France\n",
      "went\n",
      "ahead\n",
      "at\n",
      "a\n",
      "steady\n",
      "rate.\n",
      "By\n",
      "1870,\n",
      "the\n",
      "bank\n",
      "had\n",
      "15\n",
      "branches\n",
      "in\n",
      "Paris\n",
      "and\n",
      "32\n",
      "in\n",
      "the\n",
      "rest\n",
      "of\n",
      "France.\n",
      "It\n",
      "set\n",
      "up\n",
      "a\n",
      "permanent\n",
      "office\n",
      "in\n",
      "London\n",
      "in\n",
      "1871.\n",
      "At\n",
      "the\n",
      "beginning,\n",
      "the\n",
      "bank\n",
      "used\n",
      "its\n",
      "own\n",
      "resources\n",
      "almost\n",
      "entirely\n",
      "for\n",
      "both\n",
      "financial\n",
      "and\n",
      "banking\n",
      "operations.\n",
      "In\n",
      "1871,\n",
      "Société\n",
      "Générale\n",
      "moved\n",
      "into\n",
      "the\n",
      "public\n",
      "French\n",
      "issues\n",
      "market\n",
      "with\n",
      "a\n",
      "national\n",
      "debenture\n",
      "loan\n",
      "launched\n",
      "to\n",
      "cover\n",
      "the\n",
      "war\n",
      "indemnity\n",
      "stipulated\n",
      "in\n",
      "the\n",
      "Treaty\n",
      "of\n",
      "Frankfurt.In\n",
      "1886,\n",
      "Société\n",
      "Générale\n",
      "was\n",
      "part\n",
      "of\n",
      "the\n",
      "bank\n",
      "consortium\n",
      "(along\n",
      "with\n",
      "the\n",
      "Franco-Egyptian\n",
      "Bank\n",
      "and\n",
      "the\n",
      "Crédit\n",
      "Industriel\n",
      "et\n",
      "Commercial)\n",
      "that\n",
      "financed\n",
      "the\n",
      "construction\n",
      "of\n",
      "the\n",
      "Eiffel\n",
      "Tower.From\n",
      "1871\n",
      "to\n",
      "1893,\n",
      "France\n",
      "went\n",
      "through\n",
      "a\n",
      "period\n",
      "of\n",
      "economic\n",
      "gloom\n",
      "marked\n",
      "by\n",
      "the\n",
      "failure\n",
      "of\n",
      "several\n",
      "banking\n",
      "establishments.\n",
      "The\n",
      "company\n",
      "continued\n",
      "to\n",
      "grow\n",
      "at\n",
      "a\n",
      "more\n",
      "moderate\n",
      "pace.\n",
      "In\n",
      "1889,\n",
      "there\n",
      "were\n",
      "148\n",
      "banking\n",
      "outlets,\n",
      "demonstrating\n",
      "the\n",
      "group's\n",
      "capacity\n",
      "to\n",
      "withstand\n",
      "unfavourable\n",
      "economic\n",
      "conditions\n"
     ]
    }
   ],
   "source": [
    "for i in b:\n",
    "    print(i)"
   ]
  },
  {
   "cell_type": "code",
   "execution_count": 186,
   "metadata": {},
   "outputs": [
    {
     "name": "stdout",
     "output_type": "stream",
     "text": [
      "S\n",
      "o\n",
      "c\n",
      "i\n",
      "é\n",
      "t\n",
      "é\n",
      " \n",
      "G\n",
      "é\n",
      "n\n",
      "é\n",
      "r\n",
      "a\n",
      "l\n",
      "e\n",
      " \n",
      "S\n",
      ".\n",
      "A\n",
      ".\n",
      ",\n",
      " \n",
      "o\n",
      "f\n",
      "t\n",
      "e\n",
      "n\n",
      " \n",
      "n\n",
      "i\n",
      "c\n",
      "k\n",
      "n\n",
      "a\n",
      "m\n",
      "e\n",
      "d\n",
      " \n",
      "\"\n",
      "S\n",
      "o\n",
      "c\n",
      "G\n",
      "e\n",
      "n\n",
      "\"\n",
      ",\n",
      " \n",
      "i\n",
      "s\n",
      " \n",
      "a\n",
      " \n",
      "F\n",
      "r\n",
      "e\n",
      "n\n",
      "c\n",
      "h\n",
      " \n",
      "m\n",
      "u\n",
      "l\n",
      "t\n",
      "i\n",
      "n\n",
      "a\n",
      "t\n",
      "i\n",
      "o\n",
      "n\n",
      "a\n",
      "l\n",
      " \n",
      "i\n",
      "n\n",
      "v\n",
      "e\n",
      "s\n",
      "t\n",
      "m\n",
      "e\n",
      "n\n",
      "t\n",
      " \n",
      "b\n",
      "a\n",
      "n\n",
      "k\n",
      " \n",
      "a\n",
      "n\n",
      "d\n",
      " \n",
      "f\n",
      "i\n",
      "n\n",
      "a\n",
      "n\n",
      "c\n",
      "i\n",
      "a\n",
      "l\n",
      " \n",
      "s\n",
      "e\n",
      "r\n",
      "v\n",
      "i\n",
      "c\n",
      "e\n",
      "s\n",
      " \n",
      "c\n",
      "o\n",
      "m\n",
      "p\n",
      "a\n",
      "n\n",
      "y\n",
      " \n",
      "h\n",
      "e\n",
      "a\n",
      "d\n",
      "q\n",
      "u\n",
      "a\n",
      "r\n",
      "t\n",
      "e\n",
      "r\n",
      "e\n",
      "d\n",
      " \n",
      "i\n",
      "n\n",
      " \n",
      "P\n",
      "a\n",
      "r\n",
      "i\n",
      "s\n",
      ",\n",
      " \n",
      "F\n",
      "r\n",
      "a\n",
      "n\n",
      "c\n",
      "e\n",
      ".\n",
      "T\n",
      "h\n",
      "e\n",
      " \n",
      "b\n",
      "a\n",
      "n\n",
      "k\n",
      " \n",
      "w\n",
      "a\n",
      "s\n",
      " \n",
      "f\n",
      "o\n",
      "u\n",
      "n\n",
      "d\n",
      "e\n",
      "d\n",
      " \n",
      "b\n",
      "y\n",
      " \n",
      "a\n",
      " \n",
      "g\n",
      "r\n",
      "o\n",
      "u\n",
      "p\n",
      " \n",
      "o\n",
      "f\n",
      " \n",
      "i\n",
      "n\n",
      "d\n",
      "u\n",
      "s\n",
      "t\n",
      "r\n",
      "i\n",
      "a\n",
      "l\n",
      "i\n",
      "s\n",
      "t\n",
      "s\n",
      " \n",
      "a\n",
      "n\n",
      "d\n",
      " \n",
      "f\n",
      "i\n",
      "n\n",
      "a\n",
      "n\n",
      "c\n",
      "i\n",
      "e\n",
      "r\n",
      "s\n",
      " \n",
      "d\n",
      "u\n",
      "r\n",
      "i\n",
      "n\n",
      "g\n",
      " \n",
      "t\n",
      "h\n",
      "e\n",
      " \n",
      "S\n",
      "e\n",
      "c\n",
      "o\n",
      "n\n",
      "d\n",
      " \n",
      "E\n",
      "m\n",
      "p\n",
      "i\n",
      "r\n",
      "e\n",
      ",\n",
      " \n",
      "o\n",
      "n\n",
      " \n",
      "M\n",
      "a\n",
      "y\n",
      " \n",
      "4\n",
      ",\n",
      " \n",
      "1\n",
      "8\n",
      "6\n",
      "4\n",
      ".\n",
      "[\n",
      "8\n",
      "]\n",
      " \n",
      "T\n",
      "h\n",
      "e\n",
      " \n",
      "b\n",
      "a\n",
      "n\n",
      "k\n",
      "'\n",
      "s\n",
      " \n",
      "f\n",
      "i\n",
      "r\n",
      "s\n",
      "t\n",
      " \n",
      "c\n",
      "h\n",
      "a\n",
      "i\n",
      "r\n",
      "m\n",
      "a\n",
      "n\n",
      " \n",
      "w\n",
      "a\n",
      "s\n",
      " \n",
      "t\n",
      "h\n",
      "e\n",
      " \n",
      "p\n",
      "r\n",
      "o\n",
      "m\n",
      "i\n",
      "n\n",
      "e\n",
      "n\n",
      "t\n",
      " \n",
      "i\n",
      "n\n",
      "d\n",
      "u\n",
      "s\n",
      "t\n",
      "r\n",
      "i\n",
      "a\n",
      "l\n",
      "i\n",
      "s\n",
      "t\n",
      " \n",
      "E\n",
      "u\n",
      "g\n",
      "è\n",
      "n\n",
      "e\n",
      " \n",
      "S\n",
      "c\n",
      "h\n",
      "n\n",
      "e\n",
      "i\n",
      "d\n",
      "e\n",
      "r\n",
      ",\n",
      " \n",
      "f\n",
      "o\n",
      "l\n",
      "l\n",
      "o\n",
      "w\n",
      "e\n",
      "d\n",
      " \n",
      "b\n",
      "y\n",
      " \n",
      "E\n",
      "d\n",
      "w\n",
      "a\n",
      "r\n",
      "d\n",
      " \n",
      "C\n",
      "h\n",
      "a\n",
      "r\n",
      "l\n",
      "e\n",
      "s\n",
      " \n",
      "B\n",
      "l\n",
      "o\n",
      "u\n",
      "n\n",
      "t\n",
      ".\n",
      "T\n",
      "h\n",
      "e\n",
      " \n",
      "c\n",
      "o\n",
      "m\n",
      "p\n",
      "a\n",
      "n\n",
      "y\n",
      " \n",
      "s\n",
      "t\n",
      "a\n",
      "r\n",
      "t\n",
      "e\n",
      "d\n",
      " \n",
      "t\n",
      "o\n",
      " \n",
      "h\n",
      "i\n",
      "r\n",
      "e\n",
      " \n",
      "e\n",
      "m\n",
      "p\n",
      "l\n",
      "o\n",
      "y\n",
      "e\n",
      "e\n",
      "s\n",
      " \n",
      "a\n",
      "n\n",
      "d\n",
      " \n",
      "e\n",
      "s\n",
      "t\n",
      "a\n",
      "b\n",
      "l\n",
      "i\n",
      "s\n",
      "h\n",
      " \n",
      "o\n",
      "f\n",
      "f\n",
      "i\n",
      "c\n",
      "e\n",
      "s\n",
      ".\n",
      " \n",
      "C\n",
      "o\n",
      "v\n",
      "e\n",
      "r\n",
      "a\n",
      "g\n",
      "e\n",
      " \n",
      "o\n",
      "f\n",
      " \n",
      "F\n",
      "r\n",
      "a\n",
      "n\n",
      "c\n",
      "e\n",
      " \n",
      "w\n",
      "e\n",
      "n\n",
      "t\n",
      " \n",
      "a\n",
      "h\n",
      "e\n",
      "a\n",
      "d\n",
      " \n",
      "a\n",
      "t\n",
      " \n",
      "a\n",
      " \n",
      "s\n",
      "t\n",
      "e\n",
      "a\n",
      "d\n",
      "y\n",
      " \n",
      "r\n",
      "a\n",
      "t\n",
      "e\n",
      ".\n",
      " \n",
      "B\n",
      "y\n",
      " \n",
      "1\n",
      "8\n",
      "7\n",
      "0\n",
      ",\n",
      " \n",
      "t\n",
      "h\n",
      "e\n",
      " \n",
      "b\n",
      "a\n",
      "n\n",
      "k\n",
      " \n",
      "h\n",
      "a\n",
      "d\n",
      " \n",
      "1\n",
      "5\n",
      " \n",
      "b\n",
      "r\n",
      "a\n",
      "n\n",
      "c\n",
      "h\n",
      "e\n",
      "s\n",
      " \n",
      "i\n",
      "n\n",
      " \n",
      "P\n",
      "a\n",
      "r\n",
      "i\n",
      "s\n",
      " \n",
      "a\n",
      "n\n",
      "d\n",
      " \n",
      "3\n",
      "2\n",
      " \n",
      "i\n",
      "n\n",
      " \n",
      "t\n",
      "h\n",
      "e\n",
      " \n",
      "r\n",
      "e\n",
      "s\n",
      "t\n",
      " \n",
      "o\n",
      "f\n",
      " \n",
      "F\n",
      "r\n",
      "a\n",
      "n\n",
      "c\n",
      "e\n",
      ".\n",
      " \n",
      "I\n",
      "t\n",
      " \n",
      "s\n",
      "e\n",
      "t\n",
      " \n",
      "u\n",
      "p\n",
      " \n",
      "a\n",
      " \n",
      "p\n",
      "e\n",
      "r\n",
      "m\n",
      "a\n",
      "n\n",
      "e\n",
      "n\n",
      "t\n",
      " \n",
      "o\n",
      "f\n",
      "f\n",
      "i\n",
      "c\n",
      "e\n",
      " \n",
      "i\n",
      "n\n",
      " \n",
      "L\n",
      "o\n",
      "n\n",
      "d\n",
      "o\n",
      "n\n",
      " \n",
      "i\n",
      "n\n",
      " \n",
      "1\n",
      "8\n",
      "7\n",
      "1\n",
      ".\n",
      " \n",
      "A\n",
      "t\n",
      " \n",
      "t\n",
      "h\n",
      "e\n",
      " \n",
      "b\n",
      "e\n",
      "g\n",
      "i\n",
      "n\n",
      "n\n",
      "i\n",
      "n\n",
      "g\n",
      ",\n",
      " \n",
      "t\n",
      "h\n",
      "e\n",
      " \n",
      "b\n",
      "a\n",
      "n\n",
      "k\n",
      " \n",
      "u\n",
      "s\n",
      "e\n",
      "d\n",
      " \n",
      "i\n",
      "t\n",
      "s\n",
      " \n",
      "o\n",
      "w\n",
      "n\n",
      " \n",
      "r\n",
      "e\n",
      "s\n",
      "o\n",
      "u\n",
      "r\n",
      "c\n",
      "e\n",
      "s\n",
      " \n",
      "a\n",
      "l\n",
      "m\n",
      "o\n",
      "s\n",
      "t\n",
      " \n",
      "e\n",
      "n\n",
      "t\n",
      "i\n",
      "r\n",
      "e\n",
      "l\n",
      "y\n",
      " \n",
      "f\n",
      "o\n",
      "r\n",
      " \n",
      "b\n",
      "o\n",
      "t\n",
      "h\n",
      " \n",
      "f\n",
      "i\n",
      "n\n",
      "a\n",
      "n\n",
      "c\n",
      "i\n",
      "a\n",
      "l\n",
      " \n",
      "a\n",
      "n\n",
      "d\n",
      " \n",
      "b\n",
      "a\n",
      "n\n",
      "k\n",
      "i\n",
      "n\n",
      "g\n",
      " \n",
      "o\n",
      "p\n",
      "e\n",
      "r\n",
      "a\n",
      "t\n",
      "i\n",
      "o\n",
      "n\n",
      "s\n",
      ".\n",
      " \n",
      "I\n",
      "n\n",
      " \n",
      "1\n",
      "8\n",
      "7\n",
      "1\n",
      ",\n",
      " \n",
      "S\n",
      "o\n",
      "c\n",
      "i\n",
      "é\n",
      "t\n",
      "é\n",
      " \n",
      "G\n",
      "é\n",
      "n\n",
      "é\n",
      "r\n",
      "a\n",
      "l\n",
      "e\n",
      " \n",
      "m\n",
      "o\n",
      "v\n",
      "e\n",
      "d\n",
      " \n",
      "i\n",
      "n\n",
      "t\n",
      "o\n",
      " \n",
      "t\n",
      "h\n",
      "e\n",
      " \n",
      "p\n",
      "u\n",
      "b\n",
      "l\n",
      "i\n",
      "c\n",
      " \n",
      "F\n",
      "r\n",
      "e\n",
      "n\n",
      "c\n",
      "h\n",
      " \n",
      "i\n",
      "s\n",
      "s\n",
      "u\n",
      "e\n",
      "s\n",
      " \n",
      "m\n",
      "a\n",
      "r\n",
      "k\n",
      "e\n",
      "t\n",
      " \n",
      "w\n",
      "i\n",
      "t\n",
      "h\n",
      " \n",
      "a\n",
      " \n",
      "n\n",
      "a\n",
      "t\n",
      "i\n",
      "o\n",
      "n\n",
      "a\n",
      "l\n",
      " \n",
      "d\n",
      "e\n",
      "b\n",
      "e\n",
      "n\n",
      "t\n",
      "u\n",
      "r\n",
      "e\n",
      " \n",
      "l\n",
      "o\n",
      "a\n",
      "n\n",
      " \n",
      "l\n",
      "a\n",
      "u\n",
      "n\n",
      "c\n",
      "h\n",
      "e\n",
      "d\n",
      " \n",
      "t\n",
      "o\n",
      " \n",
      "c\n",
      "o\n",
      "v\n",
      "e\n",
      "r\n",
      " \n",
      "t\n",
      "h\n",
      "e\n",
      " \n",
      "w\n",
      "a\n",
      "r\n",
      " \n",
      "i\n",
      "n\n",
      "d\n",
      "e\n",
      "m\n",
      "n\n",
      "i\n",
      "t\n",
      "y\n",
      " \n",
      "s\n",
      "t\n",
      "i\n",
      "p\n",
      "u\n",
      "l\n",
      "a\n",
      "t\n",
      "e\n",
      "d\n",
      " \n",
      "i\n",
      "n\n",
      " \n",
      "t\n",
      "h\n",
      "e\n",
      " \n",
      "T\n",
      "r\n",
      "e\n",
      "a\n",
      "t\n",
      "y\n",
      " \n",
      "o\n",
      "f\n",
      " \n",
      "F\n",
      "r\n",
      "a\n",
      "n\n",
      "k\n",
      "f\n",
      "u\n",
      "r\n",
      "t\n",
      ".\n",
      "I\n",
      "n\n",
      " \n",
      "1\n",
      "8\n",
      "8\n",
      "6\n",
      ",\n",
      " \n",
      "S\n",
      "o\n",
      "c\n",
      "i\n",
      "é\n",
      "t\n",
      "é\n",
      " \n",
      "G\n",
      "é\n",
      "n\n",
      "é\n",
      "r\n",
      "a\n",
      "l\n",
      "e\n",
      " \n",
      "w\n",
      "a\n",
      "s\n",
      " \n",
      "p\n",
      "a\n",
      "r\n",
      "t\n",
      " \n",
      "o\n",
      "f\n",
      " \n",
      "t\n",
      "h\n",
      "e\n",
      " \n",
      "b\n",
      "a\n",
      "n\n",
      "k\n",
      " \n",
      "c\n",
      "o\n",
      "n\n",
      "s\n",
      "o\n",
      "r\n",
      "t\n",
      "i\n",
      "u\n",
      "m\n",
      " \n",
      "(\n",
      "a\n",
      "l\n",
      "o\n",
      "n\n",
      "g\n",
      " \n",
      "w\n",
      "i\n",
      "t\n",
      "h\n",
      " \n",
      "t\n",
      "h\n",
      "e\n",
      " \n",
      "F\n",
      "r\n",
      "a\n",
      "n\n",
      "c\n",
      "o\n",
      "-\n",
      "E\n",
      "g\n",
      "y\n",
      "p\n",
      "t\n",
      "i\n",
      "a\n",
      "n\n",
      " \n",
      "B\n",
      "a\n",
      "n\n",
      "k\n",
      " \n",
      "a\n",
      "n\n",
      "d\n",
      " \n",
      "t\n",
      "h\n",
      "e\n",
      " \n",
      "C\n",
      "r\n",
      "é\n",
      "d\n",
      "i\n",
      "t\n",
      " \n",
      "I\n",
      "n\n",
      "d\n",
      "u\n",
      "s\n",
      "t\n",
      "r\n",
      "i\n",
      "e\n",
      "l\n",
      " \n",
      "e\n",
      "t\n",
      " \n",
      "C\n",
      "o\n",
      "m\n",
      "m\n",
      "e\n",
      "r\n",
      "c\n",
      "i\n",
      "a\n",
      "l\n",
      ")\n",
      " \n",
      "t\n",
      "h\n",
      "a\n",
      "t\n",
      " \n",
      "f\n",
      "i\n",
      "n\n",
      "a\n",
      "n\n",
      "c\n",
      "e\n",
      "d\n",
      " \n",
      "t\n",
      "h\n",
      "e\n",
      " \n",
      "c\n",
      "o\n",
      "n\n",
      "s\n",
      "t\n",
      "r\n",
      "u\n",
      "c\n",
      "t\n",
      "i\n",
      "o\n",
      "n\n",
      " \n",
      "o\n",
      "f\n",
      " \n",
      "t\n",
      "h\n",
      "e\n",
      " \n",
      "E\n",
      "i\n",
      "f\n",
      "f\n",
      "e\n",
      "l\n",
      " \n",
      "T\n",
      "o\n",
      "w\n",
      "e\n",
      "r\n",
      ".\n",
      "F\n",
      "r\n",
      "o\n",
      "m\n",
      " \n",
      "1\n",
      "8\n",
      "7\n",
      "1\n",
      " \n",
      "t\n",
      "o\n",
      " \n",
      "1\n",
      "8\n",
      "9\n",
      "3\n",
      ",\n",
      " \n",
      "F\n",
      "r\n",
      "a\n",
      "n\n",
      "c\n",
      "e\n",
      " \n",
      "w\n",
      "e\n",
      "n\n",
      "t\n",
      " \n",
      "t\n",
      "h\n",
      "r\n",
      "o\n",
      "u\n",
      "g\n",
      "h\n",
      " \n",
      "a\n",
      " \n",
      "p\n",
      "e\n",
      "r\n",
      "i\n",
      "o\n",
      "d\n",
      " \n",
      "o\n",
      "f\n",
      " \n",
      "e\n",
      "c\n",
      "o\n",
      "n\n",
      "o\n",
      "m\n",
      "i\n",
      "c\n",
      " \n",
      "g\n",
      "l\n",
      "o\n",
      "o\n",
      "m\n",
      " \n",
      "m\n",
      "a\n",
      "r\n",
      "k\n",
      "e\n",
      "d\n",
      " \n",
      "b\n",
      "y\n",
      " \n",
      "t\n",
      "h\n",
      "e\n",
      " \n",
      "f\n",
      "a\n",
      "i\n",
      "l\n",
      "u\n",
      "r\n",
      "e\n",
      " \n",
      "o\n",
      "f\n",
      " \n",
      "s\n",
      "e\n",
      "v\n",
      "e\n",
      "r\n",
      "a\n",
      "l\n",
      " \n",
      "b\n",
      "a\n",
      "n\n",
      "k\n",
      "i\n",
      "n\n",
      "g\n",
      " \n",
      "e\n",
      "s\n",
      "t\n",
      "a\n",
      "b\n",
      "l\n",
      "i\n",
      "s\n",
      "h\n",
      "m\n",
      "e\n",
      "n\n",
      "t\n",
      "s\n",
      ".\n",
      " \n",
      "T\n",
      "h\n",
      "e\n",
      " \n",
      "c\n",
      "o\n",
      "m\n",
      "p\n",
      "a\n",
      "n\n",
      "y\n",
      " \n",
      "c\n",
      "o\n",
      "n\n",
      "t\n",
      "i\n",
      "n\n",
      "u\n",
      "e\n",
      "d\n",
      " \n",
      "t\n",
      "o\n",
      " \n",
      "g\n",
      "r\n",
      "o\n",
      "w\n",
      " \n",
      "a\n",
      "t\n",
      " \n",
      "a\n",
      " \n",
      "m\n",
      "o\n",
      "r\n",
      "e\n",
      " \n",
      "m\n",
      "o\n",
      "d\n",
      "e\n",
      "r\n",
      "a\n",
      "t\n",
      "e\n",
      " \n",
      "p\n",
      "a\n",
      "c\n",
      "e\n",
      ".\n",
      " \n",
      "I\n",
      "n\n",
      " \n",
      "1\n",
      "8\n",
      "8\n",
      "9\n",
      ",\n",
      " \n",
      "t\n",
      "h\n",
      "e\n",
      "r\n",
      "e\n",
      " \n",
      "w\n",
      "e\n",
      "r\n",
      "e\n",
      " \n",
      "1\n",
      "4\n",
      "8\n",
      " \n",
      "b\n",
      "a\n",
      "n\n",
      "k\n",
      "i\n",
      "n\n",
      "g\n",
      " \n",
      "o\n",
      "u\n",
      "t\n",
      "l\n",
      "e\n",
      "t\n",
      "s\n",
      ",\n",
      " \n",
      "d\n",
      "e\n",
      "m\n",
      "o\n",
      "n\n",
      "s\n",
      "t\n",
      "r\n",
      "a\n",
      "t\n",
      "i\n",
      "n\n",
      "g\n",
      " \n",
      "t\n",
      "h\n",
      "e\n",
      " \n",
      "g\n",
      "r\n",
      "o\n",
      "u\n",
      "p\n",
      "'\n",
      "s\n",
      " \n",
      "c\n",
      "a\n",
      "p\n",
      "a\n",
      "c\n",
      "i\n",
      "t\n",
      "y\n",
      " \n",
      "t\n",
      "o\n",
      " \n",
      "w\n",
      "i\n",
      "t\n",
      "h\n",
      "s\n",
      "t\n",
      "a\n",
      "n\n",
      "d\n",
      " \n",
      "u\n",
      "n\n",
      "f\n",
      "a\n",
      "v\n",
      "o\n",
      "u\n",
      "r\n",
      "a\n",
      "b\n",
      "l\n",
      "e\n",
      " \n",
      "e\n",
      "c\n",
      "o\n",
      "n\n",
      "o\n",
      "m\n",
      "i\n",
      "c\n",
      " \n",
      "c\n",
      "o\n",
      "n\n",
      "d\n",
      "i\n",
      "t\n",
      "i\n",
      "o\n",
      "n\n",
      "s\n"
     ]
    }
   ],
   "source": [
    "for i in a:\n",
    "    print (i)"
   ]
  },
  {
   "cell_type": "code",
   "execution_count": 187,
   "metadata": {},
   "outputs": [],
   "source": [
    "X=[22,23,24,40,45]"
   ]
  },
  {
   "cell_type": "code",
   "execution_count": 188,
   "metadata": {},
   "outputs": [
    {
     "name": "stdout",
     "output_type": "stream",
     "text": [
      "30.8\n"
     ]
    }
   ],
   "source": [
    "s=0\n",
    "c=0\n",
    "for i in X:\n",
    "    s=s+i\n",
    "    c=c+1\n",
    "print(s/c)\n",
    "    "
   ]
  },
  {
   "cell_type": "code",
   "execution_count": 189,
   "metadata": {},
   "outputs": [],
   "source": [
    "d={\"A\":1,\"B\":2} #Dict"
   ]
  },
  {
   "cell_type": "code",
   "execution_count": 190,
   "metadata": {},
   "outputs": [
    {
     "name": "stdout",
     "output_type": "stream",
     "text": [
      "A 1\n",
      "B 2\n"
     ]
    }
   ],
   "source": [
    "for i,j in d.items():\n",
    "    print(i,j)"
   ]
  },
  {
   "cell_type": "code",
   "execution_count": 191,
   "metadata": {},
   "outputs": [],
   "source": [
    "#functions\n",
    "def functionname(x):\n",
    "    return x**2\n",
    "    \n",
    "    \n"
   ]
  },
  {
   "cell_type": "code",
   "execution_count": 192,
   "metadata": {},
   "outputs": [
    {
     "data": {
      "text/plain": [
       "100"
      ]
     },
     "execution_count": 192,
     "metadata": {},
     "output_type": "execute_result"
    }
   ],
   "source": [
    "functionname(10)"
   ]
  },
  {
   "cell_type": "code",
   "execution_count": 193,
   "metadata": {},
   "outputs": [
    {
     "data": {
      "text/plain": [
       "100"
      ]
     },
     "execution_count": 193,
     "metadata": {},
     "output_type": "execute_result"
    }
   ],
   "source": [
    "f=lambda x: x**2\n",
    "f(10)"
   ]
  },
  {
   "cell_type": "code",
   "execution_count": 194,
   "metadata": {},
   "outputs": [],
   "source": [
    "\n",
    "def fib(x):\n",
    "    first=1\n",
    "    sec=1\n",
    "    series=[first,sec]\n",
    "    for i in range(x+1):\n",
    "        if i==first+sec:\n",
    "            series.append(i)\n",
    "            first=sec\n",
    "            sec=i\n",
    "      \n",
    "    return series"
   ]
  },
  {
   "cell_type": "code",
   "execution_count": 195,
   "metadata": {},
   "outputs": [
    {
     "data": {
      "text/plain": [
       "[1, 1, 2, 3, 5, 8, 13, 21, 34, 55, 89]"
      ]
     },
     "execution_count": 195,
     "metadata": {},
     "output_type": "execute_result"
    }
   ],
   "source": [
    "fib(100)"
   ]
  },
  {
   "cell_type": "code",
   "execution_count": 196,
   "metadata": {},
   "outputs": [],
   "source": [
    "def factorial(x):\n",
    "    f=1\n",
    "    for i in range (10,1,-1):\n",
    "        f=f*i\n",
    "    return f"
   ]
  },
  {
   "cell_type": "code",
   "execution_count": 197,
   "metadata": {},
   "outputs": [
    {
     "data": {
      "text/plain": [
       "3628800"
      ]
     },
     "execution_count": 197,
     "metadata": {},
     "output_type": "execute_result"
    }
   ],
   "source": [
    "factorial(10)"
   ]
  },
  {
   "cell_type": "code",
   "execution_count": 198,
   "metadata": {},
   "outputs": [],
   "source": [
    "def fact(x):\n",
    "    if x==0 or x==1:\n",
    "        return 1\n",
    "    else:\n",
    "        return x*fact(x-1)"
   ]
  },
  {
   "cell_type": "code",
   "execution_count": 199,
   "metadata": {},
   "outputs": [
    {
     "data": {
      "text/plain": [
       "3628800"
      ]
     },
     "execution_count": 199,
     "metadata": {},
     "output_type": "execute_result"
    }
   ],
   "source": [
    "fact(10)"
   ]
  },
  {
   "cell_type": "code",
   "execution_count": 200,
   "metadata": {},
   "outputs": [],
   "source": [
    "import abc"
   ]
  },
  {
   "cell_type": "code",
   "execution_count": 201,
   "metadata": {},
   "outputs": [],
   "source": [
    "#abc.fact(10)"
   ]
  },
  {
   "cell_type": "code",
   "execution_count": 202,
   "metadata": {},
   "outputs": [],
   "source": [
    "import numpy as np"
   ]
  },
  {
   "cell_type": "code",
   "execution_count": 203,
   "metadata": {},
   "outputs": [
    {
     "name": "stdout",
     "output_type": "stream",
     "text": [
      "array(object, dtype=None, copy=True, order='K', subok=False, ndmin=0)\n",
      "\n",
      "    Create an array.\n",
      "\n",
      "    Parameters\n",
      "    ----------\n",
      "    object : array_like\n",
      "        An array, any object exposing the array interface, an object whose\n",
      "        __array__ method returns an array, or any (nested) sequence.\n",
      "    dtype : data-type, optional\n",
      "        The desired data-type for the array.  If not given, then the type will\n",
      "        be determined as the minimum type required to hold the objects in the\n",
      "        sequence.  This argument can only be used to 'upcast' the array.  For\n",
      "        downcasting, use the .astype(t) method.\n",
      "    copy : bool, optional\n",
      "        If true (default), then the object is copied.  Otherwise, a copy will\n",
      "        only be made if __array__ returns a copy, if obj is a nested sequence,\n",
      "        or if a copy is needed to satisfy any of the other requirements\n",
      "        (`dtype`, `order`, etc.).\n",
      "    order : {'K', 'A', 'C', 'F'}, optional\n",
      "        Specify the memory layout of the array. If object is not an array, the\n",
      "        newly created array will be in C order (row major) unless 'F' is\n",
      "        specified, in which case it will be in Fortran order (column major).\n",
      "        If object is an array the following holds.\n",
      "\n",
      "        ===== ========= ===================================================\n",
      "        order  no copy                     copy=True\n",
      "        ===== ========= ===================================================\n",
      "        'K'   unchanged F & C order preserved, otherwise most similar order\n",
      "        'A'   unchanged F order if input is F and not C, otherwise C order\n",
      "        'C'   C order   C order\n",
      "        'F'   F order   F order\n",
      "        ===== ========= ===================================================\n",
      "\n",
      "        When ``copy=False`` and a copy is made for other reasons, the result is\n",
      "        the same as if ``copy=True``, with some exceptions for `A`, see the\n",
      "        Notes section. The default order is 'K'.\n",
      "    subok : bool, optional\n",
      "        If True, then sub-classes will be passed-through, otherwise\n",
      "        the returned array will be forced to be a base-class array (default).\n",
      "    ndmin : int, optional\n",
      "        Specifies the minimum number of dimensions that the resulting\n",
      "        array should have.  Ones will be pre-pended to the shape as\n",
      "        needed to meet this requirement.\n",
      "\n",
      "    Returns\n",
      "    -------\n",
      "    out : ndarray\n",
      "        An array object satisfying the specified requirements.\n",
      "\n",
      "    See Also\n",
      "    --------\n",
      "    empty_like : Return an empty array with shape and type of input.\n",
      "    ones_like : Return an array of ones with shape and type of input.\n",
      "    zeros_like : Return an array of zeros with shape and type of input.\n",
      "    full_like : Return a new array with shape of input filled with value.\n",
      "    empty : Return a new uninitialized array.\n",
      "    ones : Return a new array setting values to one.\n",
      "    zeros : Return a new array setting values to zero.\n",
      "    full : Return a new array of given shape filled with value.\n",
      "\n",
      "\n",
      "    Notes\n",
      "    -----\n",
      "    When order is 'A' and `object` is an array in neither 'C' nor 'F' order,\n",
      "    and a copy is forced by a change in dtype, then the order of the result is\n",
      "    not necessarily 'C' as expected. This is likely a bug.\n",
      "\n",
      "    Examples\n",
      "    --------\n",
      "    >>> np.array([1, 2, 3])\n",
      "    array([1, 2, 3])\n",
      "\n",
      "    Upcasting:\n",
      "\n",
      "    >>> np.array([1, 2, 3.0])\n",
      "    array([ 1.,  2.,  3.])\n",
      "\n",
      "    More than one dimension:\n",
      "\n",
      "    >>> np.array([[1, 2], [3, 4]])\n",
      "    array([[1, 2],\n",
      "           [3, 4]])\n",
      "\n",
      "    Minimum dimensions 2:\n",
      "\n",
      "    >>> np.array([1, 2, 3], ndmin=2)\n",
      "    array([[1, 2, 3]])\n",
      "\n",
      "    Type provided:\n",
      "\n",
      "    >>> np.array([1, 2, 3], dtype=complex)\n",
      "    array([ 1.+0.j,  2.+0.j,  3.+0.j])\n",
      "\n",
      "    Data-type consisting of more than one element:\n",
      "\n",
      "    >>> x = np.array([(1,2),(3,4)],dtype=[('a','<i4'),('b','<i4')])\n",
      "    >>> x['a']\n",
      "    array([1, 3])\n",
      "\n",
      "    Creating an array from sub-classes:\n",
      "\n",
      "    >>> np.array(np.mat('1 2; 3 4'))\n",
      "    array([[1, 2],\n",
      "           [3, 4]])\n",
      "\n",
      "    >>> np.array(np.mat('1 2; 3 4'), subok=True)\n",
      "    matrix([[1, 2],\n",
      "            [3, 4]])\n"
     ]
    }
   ],
   "source": [
    "print(np.array.__doc__)"
   ]
  },
  {
   "cell_type": "code",
   "execution_count": 204,
   "metadata": {},
   "outputs": [
    {
     "data": {
      "text/plain": [
       "array([3, 2, 4, 5])"
      ]
     },
     "execution_count": 204,
     "metadata": {},
     "output_type": "execute_result"
    }
   ],
   "source": [
    "np.array([3,2,4,5.5],dtype='int')"
   ]
  },
  {
   "cell_type": "code",
   "execution_count": 205,
   "metadata": {},
   "outputs": [],
   "source": [
    "a=np.array([3,2,4,5.5])"
   ]
  },
  {
   "cell_type": "code",
   "execution_count": 206,
   "metadata": {},
   "outputs": [
    {
     "data": {
      "text/plain": [
       "dtype('float64')"
      ]
     },
     "execution_count": 206,
     "metadata": {},
     "output_type": "execute_result"
    }
   ],
   "source": [
    "a.dtype"
   ]
  },
  {
   "cell_type": "code",
   "execution_count": 207,
   "metadata": {},
   "outputs": [
    {
     "data": {
      "text/plain": [
       "array([3, 2, 4, 5])"
      ]
     },
     "execution_count": 207,
     "metadata": {},
     "output_type": "execute_result"
    }
   ],
   "source": [
    "a.astype('int')"
   ]
  },
  {
   "cell_type": "code",
   "execution_count": 208,
   "metadata": {},
   "outputs": [],
   "source": [
    "b=np.arange(20)"
   ]
  },
  {
   "cell_type": "code",
   "execution_count": 209,
   "metadata": {},
   "outputs": [
    {
     "data": {
      "text/plain": [
       "1"
      ]
     },
     "execution_count": 209,
     "metadata": {},
     "output_type": "execute_result"
    }
   ],
   "source": [
    "b.ndim"
   ]
  },
  {
   "cell_type": "code",
   "execution_count": 210,
   "metadata": {},
   "outputs": [
    {
     "data": {
      "text/plain": [
       "array([0, 1, 2, 3, 4])"
      ]
     },
     "execution_count": 210,
     "metadata": {},
     "output_type": "execute_result"
    }
   ],
   "source": [
    "b[:5]"
   ]
  },
  {
   "cell_type": "code",
   "execution_count": 211,
   "metadata": {},
   "outputs": [
    {
     "data": {
      "text/plain": [
       "array([15, 16, 17, 18, 19])"
      ]
     },
     "execution_count": 211,
     "metadata": {},
     "output_type": "execute_result"
    }
   ],
   "source": [
    "b[-5:]"
   ]
  },
  {
   "cell_type": "code",
   "execution_count": 212,
   "metadata": {},
   "outputs": [],
   "source": [
    "m=b.reshape(5,4)"
   ]
  },
  {
   "cell_type": "code",
   "execution_count": 213,
   "metadata": {},
   "outputs": [
    {
     "data": {
      "text/plain": [
       "array([[  0,  10,  20,  30],\n",
       "       [ 40,  50,  60,  70],\n",
       "       [ 80,  90, 100, 110],\n",
       "       [120, 130, 140, 150],\n",
       "       [160, 170, 180, 190]])"
      ]
     },
     "execution_count": 213,
     "metadata": {},
     "output_type": "execute_result"
    }
   ],
   "source": [
    "m*10"
   ]
  },
  {
   "cell_type": "code",
   "execution_count": 214,
   "metadata": {},
   "outputs": [
    {
     "data": {
      "text/plain": [
       "array([30., 20., 40., 55.])"
      ]
     },
     "execution_count": 214,
     "metadata": {},
     "output_type": "execute_result"
    }
   ],
   "source": [
    "a*10"
   ]
  },
  {
   "cell_type": "code",
   "execution_count": 215,
   "metadata": {},
   "outputs": [
    {
     "name": "stdout",
     "output_type": "stream",
     "text": [
      "[[ 0  1  2  3  4]\n",
      " [ 5  6  7  8  9]\n",
      " [10 11 12 13 14]\n",
      " [15 16 17 18 19]]\n"
     ]
    }
   ],
   "source": [
    "n=b.reshape(4,5)\n",
    "print(n)"
   ]
  },
  {
   "cell_type": "code",
   "execution_count": 216,
   "metadata": {},
   "outputs": [
    {
     "data": {
      "text/plain": [
       "array([[ 70,  76,  82,  88,  94],\n",
       "       [190, 212, 234, 256, 278],\n",
       "       [310, 348, 386, 424, 462],\n",
       "       [430, 484, 538, 592, 646],\n",
       "       [550, 620, 690, 760, 830]])"
      ]
     },
     "execution_count": 216,
     "metadata": {},
     "output_type": "execute_result"
    }
   ],
   "source": [
    "m.dot(n)"
   ]
  },
  {
   "cell_type": "code",
   "execution_count": 217,
   "metadata": {},
   "outputs": [
    {
     "data": {
      "text/plain": [
       "array([[ 0,  1,  2,  3],\n",
       "       [ 4,  5,  6,  7],\n",
       "       [ 8,  9, 10, 11],\n",
       "       [12, 13, 14, 15],\n",
       "       [16, 17, 18, 19]])"
      ]
     },
     "execution_count": 217,
     "metadata": {},
     "output_type": "execute_result"
    }
   ],
   "source": [
    "m"
   ]
  },
  {
   "cell_type": "code",
   "execution_count": 218,
   "metadata": {},
   "outputs": [
    {
     "data": {
      "text/plain": [
       "array([0, 1, 2, 3])"
      ]
     },
     "execution_count": 218,
     "metadata": {},
     "output_type": "execute_result"
    }
   ],
   "source": [
    "m[0,:]"
   ]
  },
  {
   "cell_type": "code",
   "execution_count": 219,
   "metadata": {},
   "outputs": [
    {
     "data": {
      "text/plain": [
       "array([[ 9, 10],\n",
       "       [13, 14],\n",
       "       [17, 18]])"
      ]
     },
     "execution_count": 219,
     "metadata": {},
     "output_type": "execute_result"
    }
   ],
   "source": [
    "m[2:,1:3]"
   ]
  },
  {
   "cell_type": "code",
   "execution_count": 220,
   "metadata": {},
   "outputs": [
    {
     "data": {
      "text/plain": [
       "array([3. , 2. , 4. , 5.5])"
      ]
     },
     "execution_count": 220,
     "metadata": {},
     "output_type": "execute_result"
    }
   ],
   "source": [
    "a"
   ]
  },
  {
   "cell_type": "code",
   "execution_count": 221,
   "metadata": {},
   "outputs": [
    {
     "data": {
      "text/plain": [
       "array([4. , 5.5])"
      ]
     },
     "execution_count": 221,
     "metadata": {},
     "output_type": "execute_result"
    }
   ],
   "source": [
    "a[a>=4]"
   ]
  },
  {
   "cell_type": "code",
   "execution_count": 222,
   "metadata": {},
   "outputs": [
    {
     "data": {
      "text/plain": [
       "array([ 4,  5,  6,  7,  8,  9, 10, 11, 12, 13, 14, 15, 16, 17, 18, 19])"
      ]
     },
     "execution_count": 222,
     "metadata": {},
     "output_type": "execute_result"
    }
   ],
   "source": [
    "m[m>=4]"
   ]
  },
  {
   "cell_type": "code",
   "execution_count": 223,
   "metadata": {},
   "outputs": [
    {
     "data": {
      "text/plain": [
       "array([1, 3, 5])"
      ]
     },
     "execution_count": 223,
     "metadata": {},
     "output_type": "execute_result"
    }
   ],
   "source": [
    "c=np.array([1,2,3,4,5,6])\n",
    "c[c%2==1]\n"
   ]
  },
  {
   "cell_type": "code",
   "execution_count": 224,
   "metadata": {},
   "outputs": [],
   "source": [
    "def prime(x):\n",
    "    for i in range(2,x):\n",
    "        if x%i==0:\n",
    "            return False\n",
    "    return True"
   ]
  },
  {
   "cell_type": "code",
   "execution_count": 225,
   "metadata": {},
   "outputs": [
    {
     "data": {
      "text/plain": [
       "True"
      ]
     },
     "execution_count": 225,
     "metadata": {},
     "output_type": "execute_result"
    }
   ],
   "source": [
    "prime(11)"
   ]
  },
  {
   "cell_type": "code",
   "execution_count": 226,
   "metadata": {},
   "outputs": [],
   "source": [
    "z=np.arange(2,1000)"
   ]
  },
  {
   "cell_type": "code",
   "execution_count": 227,
   "metadata": {},
   "outputs": [
    {
     "name": "stdout",
     "output_type": "stream",
     "text": [
      "2\n",
      "3\n",
      "5\n",
      "7\n",
      "11\n",
      "13\n",
      "17\n",
      "19\n",
      "23\n",
      "29\n",
      "31\n",
      "37\n",
      "41\n",
      "43\n",
      "47\n",
      "53\n",
      "59\n",
      "61\n",
      "67\n",
      "71\n",
      "73\n",
      "79\n",
      "83\n",
      "89\n",
      "97\n",
      "101\n",
      "103\n",
      "107\n",
      "109\n",
      "113\n",
      "127\n",
      "131\n",
      "137\n",
      "139\n",
      "149\n",
      "151\n",
      "157\n",
      "163\n",
      "167\n",
      "173\n",
      "179\n",
      "181\n",
      "191\n",
      "193\n",
      "197\n",
      "199\n",
      "211\n",
      "223\n",
      "227\n",
      "229\n",
      "233\n",
      "239\n",
      "241\n",
      "251\n",
      "257\n",
      "263\n",
      "269\n",
      "271\n",
      "277\n",
      "281\n",
      "283\n",
      "293\n",
      "307\n",
      "311\n",
      "313\n",
      "317\n",
      "331\n",
      "337\n",
      "347\n",
      "349\n",
      "353\n",
      "359\n",
      "367\n",
      "373\n",
      "379\n",
      "383\n",
      "389\n",
      "397\n",
      "401\n",
      "409\n",
      "419\n",
      "421\n",
      "431\n",
      "433\n",
      "439\n",
      "443\n",
      "449\n",
      "457\n",
      "461\n",
      "463\n",
      "467\n",
      "479\n",
      "487\n",
      "491\n",
      "499\n",
      "503\n",
      "509\n",
      "521\n",
      "523\n",
      "541\n",
      "547\n",
      "557\n",
      "563\n",
      "569\n",
      "571\n",
      "577\n",
      "587\n",
      "593\n",
      "599\n",
      "601\n",
      "607\n",
      "613\n",
      "617\n",
      "619\n",
      "631\n",
      "641\n",
      "643\n",
      "647\n",
      "653\n",
      "659\n",
      "661\n",
      "673\n",
      "677\n",
      "683\n",
      "691\n",
      "701\n",
      "709\n",
      "719\n",
      "727\n",
      "733\n",
      "739\n",
      "743\n",
      "751\n",
      "757\n",
      "761\n",
      "769\n",
      "773\n",
      "787\n",
      "797\n",
      "809\n",
      "811\n",
      "821\n",
      "823\n",
      "827\n",
      "829\n",
      "839\n",
      "853\n",
      "857\n",
      "859\n",
      "863\n",
      "877\n",
      "881\n",
      "883\n",
      "887\n",
      "907\n",
      "911\n",
      "919\n",
      "929\n",
      "937\n",
      "941\n",
      "947\n",
      "953\n",
      "967\n",
      "971\n",
      "977\n",
      "983\n",
      "991\n",
      "997\n"
     ]
    }
   ],
   "source": [
    "for i in z:\n",
    "    if prime(i):\n",
    "        print (i)"
   ]
  },
  {
   "cell_type": "code",
   "execution_count": 228,
   "metadata": {},
   "outputs": [
    {
     "data": {
      "text/plain": [
       "2"
      ]
     },
     "execution_count": 228,
     "metadata": {},
     "output_type": "execute_result"
    }
   ],
   "source": [
    "m.ndim"
   ]
  },
  {
   "cell_type": "code",
   "execution_count": 229,
   "metadata": {},
   "outputs": [
    {
     "data": {
      "text/plain": [
       "1"
      ]
     },
     "execution_count": 229,
     "metadata": {},
     "output_type": "execute_result"
    }
   ],
   "source": [
    "z.ndim"
   ]
  },
  {
   "cell_type": "code",
   "execution_count": 230,
   "metadata": {},
   "outputs": [],
   "source": [
    "#z.shape()"
   ]
  },
  {
   "cell_type": "code",
   "execution_count": null,
   "metadata": {},
   "outputs": [],
   "source": []
  },
  {
   "cell_type": "code",
   "execution_count": 231,
   "metadata": {},
   "outputs": [
    {
     "data": {
      "text/plain": [
       "array([ 35,  70, 105, 140, 175, 210, 245, 280, 315, 350, 385, 420, 455,\n",
       "       490, 525, 560, 595, 630, 665, 700, 735, 770, 805, 840, 875, 910,\n",
       "       945, 980])"
      ]
     },
     "execution_count": 231,
     "metadata": {},
     "output_type": "execute_result"
    }
   ],
   "source": [
    "z[(z%5==0) & (z%7==0)]"
   ]
  },
  {
   "cell_type": "code",
   "execution_count": 232,
   "metadata": {},
   "outputs": [
    {
     "data": {
      "text/plain": [
       "array([  3,   5,   7,   9,  11,  13,  15,  17,  19,  21,  23,  25,  27,\n",
       "        29,  31,  33,  35,  37,  39,  41,  43,  45,  47,  49,  51,  53,\n",
       "        55,  57,  59,  61,  63,  65,  67,  69,  71,  73,  75,  77,  79,\n",
       "        81,  83,  85,  87,  89,  91,  93,  95,  97,  99, 101, 103, 105,\n",
       "       107, 109, 111, 113, 115, 117, 119, 121, 123, 125, 127, 129, 131,\n",
       "       133, 135, 137, 139, 141, 143, 145, 147, 149, 151, 153, 155, 157,\n",
       "       159, 161, 163, 165, 167, 169, 171, 173, 175, 177, 179, 181, 183,\n",
       "       185, 187, 189, 191, 193, 195, 197, 199, 201, 203, 205, 207, 209,\n",
       "       211, 213, 215, 217, 219, 221, 223, 225, 227, 229, 231, 233, 235,\n",
       "       237, 239, 241, 243, 245, 247, 249, 251, 253, 255, 257, 259, 261,\n",
       "       263, 265, 267, 269, 271, 273, 275, 277, 279, 281, 283, 285, 287,\n",
       "       289, 291, 293, 295, 297, 299, 301, 303, 305, 307, 309, 311, 313,\n",
       "       315, 317, 319, 321, 323, 325, 327, 329, 331, 333, 335, 337, 339,\n",
       "       341, 343, 345, 347, 349, 351, 353, 355, 357, 359, 361, 363, 365,\n",
       "       367, 369, 371, 373, 375, 377, 379, 381, 383, 385, 387, 389, 391,\n",
       "       393, 395, 397, 399, 401, 403, 405, 407, 409, 411, 413, 415, 417,\n",
       "       419, 421, 423, 425, 427, 429, 431, 433, 435, 437, 439, 441, 443,\n",
       "       445, 447, 449, 451, 453, 455, 457, 459, 461, 463, 465, 467, 469,\n",
       "       471, 473, 475, 477, 479, 481, 483, 485, 487, 489, 491, 493, 495,\n",
       "       497, 499, 501, 503, 505, 507, 509, 511, 513, 515, 517, 519, 521,\n",
       "       523, 525, 527, 529, 531, 533, 535, 537, 539, 541, 543, 545, 547,\n",
       "       549, 551, 553, 555, 557, 559, 561, 563, 565, 567, 569, 571, 573,\n",
       "       575, 577, 579, 581, 583, 585, 587, 589, 591, 593, 595, 597, 599,\n",
       "       601, 603, 605, 607, 609, 611, 613, 615, 617, 619, 621, 623, 625,\n",
       "       627, 629, 631, 633, 635, 637, 639, 641, 643, 645, 647, 649, 651,\n",
       "       653, 655, 657, 659, 661, 663, 665, 667, 669, 671, 673, 675, 677,\n",
       "       679, 681, 683, 685, 687, 689, 691, 693, 695, 697, 699, 701, 703,\n",
       "       705, 707, 709, 711, 713, 715, 717, 719, 721, 723, 725, 727, 729,\n",
       "       731, 733, 735, 737, 739, 741, 743, 745, 747, 749, 751, 753, 755,\n",
       "       757, 759, 761, 763, 765, 767, 769, 771, 773, 775, 777, 779, 781,\n",
       "       783, 785, 787, 789, 791, 793, 795, 797, 799, 801, 803, 805, 807,\n",
       "       809, 811, 813, 815, 817, 819, 821, 823, 825, 827, 829, 831, 833,\n",
       "       835, 837, 839, 841, 843, 845, 847, 849, 851, 853, 855, 857, 859,\n",
       "       861, 863, 865, 867, 869, 871, 873, 875, 877, 879, 881, 883, 885,\n",
       "       887, 889, 891, 893, 895, 897, 899, 901, 903, 905, 907, 909, 911,\n",
       "       913, 915, 917, 919, 921, 923, 925, 927, 929, 931, 933, 935, 937,\n",
       "       939, 941, 943, 945, 947, 949, 951, 953, 955, 957, 959, 961, 963,\n",
       "       965, 967, 969, 971, 973, 975, 977, 979, 981, 983, 985, 987, 989,\n",
       "       991, 993, 995, 997, 999])"
      ]
     },
     "execution_count": 232,
     "metadata": {},
     "output_type": "execute_result"
    }
   ],
   "source": [
    "z[~(z%2==0)] #not function"
   ]
  },
  {
   "cell_type": "code",
   "execution_count": 233,
   "metadata": {},
   "outputs": [
    {
     "data": {
      "text/plain": [
       "array([0.91153087, 0.33994979, 0.4058269 , 0.16624468, 0.801974  ,\n",
       "       0.61654133, 0.0315323 , 0.79764735, 0.31448857, 0.57723286])"
      ]
     },
     "execution_count": 233,
     "metadata": {},
     "output_type": "execute_result"
    }
   ],
   "source": [
    "np.random.random(10)"
   ]
  },
  {
   "cell_type": "code",
   "execution_count": 234,
   "metadata": {},
   "outputs": [],
   "source": [
    "def combination(n,x):\n",
    "    return fact(n)/(fact(x)*fact(n-x))\n"
   ]
  },
  {
   "cell_type": "code",
   "execution_count": 235,
   "metadata": {},
   "outputs": [
    {
     "data": {
      "text/plain": [
       "1.0"
      ]
     },
     "execution_count": 235,
     "metadata": {},
     "output_type": "execute_result"
    }
   ],
   "source": [
    "combination(3,0)"
   ]
  },
  {
   "cell_type": "code",
   "execution_count": 236,
   "metadata": {},
   "outputs": [],
   "source": [
    "def binomial_pmf(n,x,p):\n",
    "    q=1-p\n",
    "    return combination(n,x)*p**(x)*q**(n-x)"
   ]
  },
  {
   "cell_type": "code",
   "execution_count": 237,
   "metadata": {},
   "outputs": [
    {
     "data": {
      "text/plain": [
       "0.125"
      ]
     },
     "execution_count": 237,
     "metadata": {},
     "output_type": "execute_result"
    }
   ],
   "source": [
    "binomial_pmf(3,0,0.5)"
   ]
  },
  {
   "cell_type": "code",
   "execution_count": 238,
   "metadata": {},
   "outputs": [
    {
     "name": "stdout",
     "output_type": "stream",
     "text": [
      "\n",
      "        binomial(n, p, size=None)\n",
      "\n",
      "        Draw samples from a binomial distribution.\n",
      "\n",
      "        Samples are drawn from a binomial distribution with specified\n",
      "        parameters, n trials and p probability of success where\n",
      "        n an integer >= 0 and p is in the interval [0,1]. (n may be\n",
      "        input as a float, but it is truncated to an integer in use)\n",
      "\n",
      "        Parameters\n",
      "        ----------\n",
      "        n : int or array_like of ints\n",
      "            Parameter of the distribution, >= 0. Floats are also accepted,\n",
      "            but they will be truncated to integers.\n",
      "        p : float or array_like of floats\n",
      "            Parameter of the distribution, >= 0 and <=1.\n",
      "        size : int or tuple of ints, optional\n",
      "            Output shape.  If the given shape is, e.g., ``(m, n, k)``, then\n",
      "            ``m * n * k`` samples are drawn.  If size is ``None`` (default),\n",
      "            a single value is returned if ``n`` and ``p`` are both scalars.\n",
      "            Otherwise, ``np.broadcast(n, p).size`` samples are drawn.\n",
      "\n",
      "        Returns\n",
      "        -------\n",
      "        out : ndarray or scalar\n",
      "            Drawn samples from the parameterized binomial distribution, where\n",
      "            each sample is equal to the number of successes over the n trials.\n",
      "\n",
      "        See Also\n",
      "        --------\n",
      "        scipy.stats.binom : probability density function, distribution or\n",
      "            cumulative density function, etc.\n",
      "\n",
      "        Notes\n",
      "        -----\n",
      "        The probability density for the binomial distribution is\n",
      "\n",
      "        .. math:: P(N) = \\binom{n}{N}p^N(1-p)^{n-N},\n",
      "\n",
      "        where :math:`n` is the number of trials, :math:`p` is the probability\n",
      "        of success, and :math:`N` is the number of successes.\n",
      "\n",
      "        When estimating the standard error of a proportion in a population by\n",
      "        using a random sample, the normal distribution works well unless the\n",
      "        product p*n <=5, where p = population proportion estimate, and n =\n",
      "        number of samples, in which case the binomial distribution is used\n",
      "        instead. For example, a sample of 15 people shows 4 who are left\n",
      "        handed, and 11 who are right handed. Then p = 4/15 = 27%. 0.27*15 = 4,\n",
      "        so the binomial distribution should be used in this case.\n",
      "\n",
      "        References\n",
      "        ----------\n",
      "        .. [1] Dalgaard, Peter, \"Introductory Statistics with R\",\n",
      "               Springer-Verlag, 2002.\n",
      "        .. [2] Glantz, Stanton A. \"Primer of Biostatistics.\", McGraw-Hill,\n",
      "               Fifth Edition, 2002.\n",
      "        .. [3] Lentner, Marvin, \"Elementary Applied Statistics\", Bogden\n",
      "               and Quigley, 1972.\n",
      "        .. [4] Weisstein, Eric W. \"Binomial Distribution.\" From MathWorld--A\n",
      "               Wolfram Web Resource.\n",
      "               http://mathworld.wolfram.com/BinomialDistribution.html\n",
      "        .. [5] Wikipedia, \"Binomial distribution\",\n",
      "               https://en.wikipedia.org/wiki/Binomial_distribution\n",
      "\n",
      "        Examples\n",
      "        --------\n",
      "        Draw samples from the distribution:\n",
      "\n",
      "        >>> n, p = 10, .5  # number of trials, probability of each trial\n",
      "        >>> s = np.random.binomial(n, p, 1000)\n",
      "        # result of flipping a coin 10 times, tested 1000 times.\n",
      "\n",
      "        A real world example. A company drills 9 wild-cat oil exploration\n",
      "        wells, each with an estimated probability of success of 0.1. All nine\n",
      "        wells fail. What is the probability of that happening?\n",
      "\n",
      "        Let's do 20,000 trials of the model, and count the number that\n",
      "        generate zero positive results.\n",
      "\n",
      "        >>> sum(np.random.binomial(9, 0.1, 20000) == 0)/20000.\n",
      "        # answer = 0.38885, or 38%.\n",
      "\n",
      "        \n"
     ]
    }
   ],
   "source": [
    "print(np.random.binomial.__doc__)"
   ]
  },
  {
   "cell_type": "code",
   "execution_count": 239,
   "metadata": {},
   "outputs": [
    {
     "name": "stdout",
     "output_type": "stream",
     "text": [
      "[2 2 2 0 0 1 3 1 2 1]\n"
     ]
    },
    {
     "data": {
      "text/plain": [
       "0.2"
      ]
     },
     "execution_count": 239,
     "metadata": {},
     "output_type": "execute_result"
    }
   ],
   "source": [
    "size=10 # probability of 0 heads\n",
    "r=np.random.binomial(n=3,p=0.5,size=size)\n",
    "print(r)\n",
    "len(r[r==0])/size\n"
   ]
  },
  {
   "cell_type": "code",
   "execution_count": 240,
   "metadata": {},
   "outputs": [],
   "source": [
    "def poisson_pmf(x,lam):\n",
    "    return np.e**(-lam)*lam**x/fact(x)"
   ]
  },
  {
   "cell_type": "code",
   "execution_count": 241,
   "metadata": {},
   "outputs": [
    {
     "data": {
      "text/plain": [
       "0.012636055410679864"
      ]
     },
     "execution_count": 241,
     "metadata": {},
     "output_type": "execute_result"
    }
   ],
   "source": [
    "poisson_pmf(3,500*0.001)"
   ]
  },
  {
   "cell_type": "code",
   "execution_count": 242,
   "metadata": {},
   "outputs": [
    {
     "name": "stdout",
     "output_type": "stream",
     "text": [
      "0.2576939514911656\n"
     ]
    }
   ],
   "source": [
    "lam=50 #atleast sell 55 plates. \n",
    "total=0\n",
    "for i in range(55):\n",
    "    total=total+poisson_pmf(i,50)\n",
    "print(1-total)"
   ]
  },
  {
   "cell_type": "code",
   "execution_count": 243,
   "metadata": {},
   "outputs": [
    {
     "name": "stdout",
     "output_type": "stream",
     "text": [
      "0.1565131346397432\n"
     ]
    }
   ],
   "source": [
    "#No of bugs is below 15..probablity =20\n",
    "total=0\n",
    "for i in range(16):\n",
    "    total=total+poisson_pmf(i,20)\n",
    "print(total)\n"
   ]
  },
  {
   "cell_type": "code",
   "execution_count": 244,
   "metadata": {},
   "outputs": [
    {
     "data": {
      "text/plain": [
       "0.006737946999085469"
      ]
     },
     "execution_count": 244,
     "metadata": {},
     "output_type": "execute_result"
    }
   ],
   "source": [
    "#Football match b/w A and B. Total score 5 goals on avg\n",
    "\n",
    "poisson_pmf(0,5)"
   ]
  },
  {
   "cell_type": "code",
   "execution_count": 245,
   "metadata": {},
   "outputs": [
    {
     "name": "stdout",
     "output_type": "stream",
     "text": [
      "0.27068694033420004\n"
     ]
    }
   ],
   "source": [
    "#7 match series\n",
    "#Out of 100, India wins 39 times\n",
    "#waht is prob that india will win the series\n",
    "p=39/100\n",
    "total=0\n",
    "for i in range(4,8):\n",
    "    total+=binomial_pmf(n=7,p=p,x=i)\n",
    "print(total)"
   ]
  },
  {
   "cell_type": "code",
   "execution_count": 246,
   "metadata": {},
   "outputs": [],
   "source": [
    "def normal_pdf(x):\n",
    "    mu=25\n",
    "    sigma=2\n",
    "    A=(sigma*(2*np.pi)**0.5)**-1\n",
    "    B=-0.5*((x-mu)/sigma)**2\n",
    "    return A*np.e**B\n",
    "    \n",
    "    "
   ]
  },
  {
   "cell_type": "code",
   "execution_count": 247,
   "metadata": {},
   "outputs": [
    {
     "data": {
      "text/plain": [
       "0.15865525393145716"
      ]
     },
     "execution_count": 247,
     "metadata": {},
     "output_type": "execute_result"
    }
   ],
   "source": [
    "from scipy.integrate import quad\n",
    "res,err=quad(normal_pdf,a=0,b=23)\n",
    "res"
   ]
  },
  {
   "cell_type": "code",
   "execution_count": 248,
   "metadata": {},
   "outputs": [
    {
     "data": {
      "text/plain": [
       "0.15730535589982697"
      ]
     },
     "execution_count": 248,
     "metadata": {},
     "output_type": "execute_result"
    }
   ],
   "source": [
    "#probablity of double salary as bonus\n",
    "\n",
    "def normal_pdf(x):\n",
    "    mu=3\n",
    "    sigma=1\n",
    "    A=(sigma*(2*np.pi)**0.5)**-1\n",
    "    B=-0.5*((x-mu)/sigma)**2\n",
    "    return A*np.e**B\n",
    "\n",
    "res,err=quad(normal_pdf,a=0,b=2)\n",
    "res\n"
   ]
  },
  {
   "cell_type": "code",
   "execution_count": 249,
   "metadata": {},
   "outputs": [
    {
     "data": {
      "text/plain": [
       "(0.682689492137086, 7.579375928402476e-15)"
      ]
     },
     "execution_count": 249,
     "metadata": {},
     "output_type": "execute_result"
    }
   ],
   "source": [
    "quad(normal_pdf,a=2,b=4)\n"
   ]
  },
  {
   "cell_type": "code",
   "execution_count": 250,
   "metadata": {},
   "outputs": [
    {
     "name": "stdout",
     "output_type": "stream",
     "text": [
      "\n",
      "        normal(loc=0.0, scale=1.0, size=None)\n",
      "\n",
      "        Draw random samples from a normal (Gaussian) distribution.\n",
      "\n",
      "        The probability density function of the normal distribution, first\n",
      "        derived by De Moivre and 200 years later by both Gauss and Laplace\n",
      "        independently [2]_, is often called the bell curve because of\n",
      "        its characteristic shape (see the example below).\n",
      "\n",
      "        The normal distributions occurs often in nature.  For example, it\n",
      "        describes the commonly occurring distribution of samples influenced\n",
      "        by a large number of tiny, random disturbances, each with its own\n",
      "        unique distribution [2]_.\n",
      "\n",
      "        Parameters\n",
      "        ----------\n",
      "        loc : float or array_like of floats\n",
      "            Mean (\"centre\") of the distribution.\n",
      "        scale : float or array_like of floats\n",
      "            Standard deviation (spread or \"width\") of the distribution. Must be\n",
      "            non-negative.\n",
      "        size : int or tuple of ints, optional\n",
      "            Output shape.  If the given shape is, e.g., ``(m, n, k)``, then\n",
      "            ``m * n * k`` samples are drawn.  If size is ``None`` (default),\n",
      "            a single value is returned if ``loc`` and ``scale`` are both scalars.\n",
      "            Otherwise, ``np.broadcast(loc, scale).size`` samples are drawn.\n",
      "\n",
      "        Returns\n",
      "        -------\n",
      "        out : ndarray or scalar\n",
      "            Drawn samples from the parameterized normal distribution.\n",
      "\n",
      "        See Also\n",
      "        --------\n",
      "        scipy.stats.norm : probability density function, distribution or\n",
      "            cumulative density function, etc.\n",
      "\n",
      "        Notes\n",
      "        -----\n",
      "        The probability density for the Gaussian distribution is\n",
      "\n",
      "        .. math:: p(x) = \\frac{1}{\\sqrt{ 2 \\pi \\sigma^2 }}\n",
      "                         e^{ - \\frac{ (x - \\mu)^2 } {2 \\sigma^2} },\n",
      "\n",
      "        where :math:`\\mu` is the mean and :math:`\\sigma` the standard\n",
      "        deviation. The square of the standard deviation, :math:`\\sigma^2`,\n",
      "        is called the variance.\n",
      "\n",
      "        The function has its peak at the mean, and its \"spread\" increases with\n",
      "        the standard deviation (the function reaches 0.607 times its maximum at\n",
      "        :math:`x + \\sigma` and :math:`x - \\sigma` [2]_).  This implies that\n",
      "        `numpy.random.normal` is more likely to return samples lying close to\n",
      "        the mean, rather than those far away.\n",
      "\n",
      "        References\n",
      "        ----------\n",
      "        .. [1] Wikipedia, \"Normal distribution\",\n",
      "               https://en.wikipedia.org/wiki/Normal_distribution\n",
      "        .. [2] P. R. Peebles Jr., \"Central Limit Theorem\" in \"Probability,\n",
      "               Random Variables and Random Signal Principles\", 4th ed., 2001,\n",
      "               pp. 51, 51, 125.\n",
      "\n",
      "        Examples\n",
      "        --------\n",
      "        Draw samples from the distribution:\n",
      "\n",
      "        >>> mu, sigma = 0, 0.1 # mean and standard deviation\n",
      "        >>> s = np.random.normal(mu, sigma, 1000)\n",
      "\n",
      "        Verify the mean and the variance:\n",
      "\n",
      "        >>> abs(mu - np.mean(s))\n",
      "        0.0  # may vary\n",
      "\n",
      "        >>> abs(sigma - np.std(s, ddof=1))\n",
      "        0.1  # may vary\n",
      "\n",
      "        Display the histogram of the samples, along with\n",
      "        the probability density function:\n",
      "\n",
      "        >>> import matplotlib.pyplot as plt\n",
      "        >>> count, bins, ignored = plt.hist(s, 30, density=True)\n",
      "        >>> plt.plot(bins, 1/(sigma * np.sqrt(2 * np.pi)) *\n",
      "        ...                np.exp( - (bins - mu)**2 / (2 * sigma**2) ),\n",
      "        ...          linewidth=2, color='r')\n",
      "        >>> plt.show()\n",
      "\n",
      "        Two-by-four array of samples from N(3, 6.25):\n",
      "\n",
      "        >>> np.random.normal(3, 2.5, size=(2, 4))\n",
      "        array([[-4.49401501,  4.00950034, -1.81814867,  7.29718677],   # random\n",
      "               [ 0.39924804,  4.68456316,  4.99394529,  4.84057254]])  # random\n",
      "\n",
      "        \n"
     ]
    }
   ],
   "source": [
    "print(np.random.normal.__doc__)"
   ]
  },
  {
   "cell_type": "code",
   "execution_count": 251,
   "metadata": {},
   "outputs": [],
   "source": [
    "temp=np.random.normal(loc=25,scale=2,size=1000000)"
   ]
  },
  {
   "cell_type": "code",
   "execution_count": 252,
   "metadata": {},
   "outputs": [
    {
     "data": {
      "text/plain": [
       "array([26.65688854, 24.94278117, 26.05150322, ..., 27.88462145,\n",
       "       21.18988617, 25.37298893])"
      ]
     },
     "execution_count": 252,
     "metadata": {},
     "output_type": "execute_result"
    }
   ],
   "source": [
    "temp"
   ]
  },
  {
   "cell_type": "code",
   "execution_count": 253,
   "metadata": {},
   "outputs": [
    {
     "data": {
      "text/plain": [
       "1.59528"
      ]
     },
     "execution_count": 253,
     "metadata": {},
     "output_type": "execute_result"
    }
   ],
   "source": [
    "len(temp[temp<=23])/100000"
   ]
  },
  {
   "cell_type": "code",
   "execution_count": 254,
   "metadata": {},
   "outputs": [],
   "source": [
    "import matplotlib.pyplot as plt\n",
    "%matplotlib inline"
   ]
  },
  {
   "cell_type": "code",
   "execution_count": 255,
   "metadata": {},
   "outputs": [
    {
     "data": {
      "text/plain": [
       "Text(0,0.5,'freq')"
      ]
     },
     "execution_count": 255,
     "metadata": {},
     "output_type": "execute_result"
    },
    {
     "data": {
      "image/png": "[encoded data removed]",
      "text/plain": [
       "<Figure size 432x288 with 1 Axes>"
      ]
     },
     "metadata": {},
     "output_type": "display_data"
    }
   ],
   "source": [
    "plt.hist(temp,bins=100)\n",
    "plt.vlines(x=25,ymin=0,ymax=40000,color='r')\n",
    "plt.vlines(x=25+2,ymin=0,ymax=40000,color='g')\n",
    "plt.vlines(x=25-2,ymin=0,ymax=40000,color='g')\n",
    "plt.vlines(x=25+2*2,ymin=0,ymax=40000,color='y')\n",
    "plt.vlines(x=25-2*2,ymin=0,ymax=40000,color='y')\n",
    "plt.vlines(x=25+2*3,ymin=0,ymax=40000,color='b')\n",
    "plt.vlines(x=25-2*3,ymin=0,ymax=40000,color='b')\n",
    "plt.title(\"histogram of temp\")\n",
    "plt.xlabel(\"temp\")\n",
    "plt.ylabel(\"freq\")"
   ]
  },
  {
   "cell_type": "code",
   "execution_count": 256,
   "metadata": {},
   "outputs": [
    {
     "data": {
      "text/plain": [
       "array([ 0.82799567, -0.02789132,  0.52571506, ...,  1.44102647,\n",
       "       -1.90178443,  0.18691974])"
      ]
     },
     "execution_count": 256,
     "metadata": {},
     "output_type": "execute_result"
    }
   ],
   "source": [
    "z=(temp-temp.mean())/temp.std()\n",
    "z"
   ]
  },
  {
   "cell_type": "code",
   "execution_count": 257,
   "metadata": {},
   "outputs": [
    {
     "data": {
      "text/plain": [
       "Text(0,0.5,'freq')"
      ]
     },
     "execution_count": 257,
     "metadata": {},
     "output_type": "execute_result"
    },
    {
     "data": {
      "image/png": "[encoded data removed]",
      "text/plain": [
       "<Figure size 432x288 with 1 Axes>"
      ]
     },
     "metadata": {},
     "output_type": "display_data"
    }
   ],
   "source": [
    "plt.hist(z,bins=100)\n",
    "plt.vlines(x=0,ymin=0,ymax=40000,color='r')\n",
    "plt.vlines(x=1,ymin=0,ymax=40000,color='g')\n",
    "plt.vlines(x=-1,ymin=0,ymax=40000,color='g')\n",
    "plt.vlines(x=1*2,ymin=0,ymax=40000,color='y')\n",
    "plt.vlines(x=-1*2,ymin=0,ymax=40000,color='y')\n",
    "plt.vlines(x=1*3,ymin=0,ymax=40000,color='b')\n",
    "plt.vlines(x=-1*3,ymin=0,ymax=40000,color='b')\n",
    "plt.title(\"histogram of temp\")\n",
    "plt.xlabel(\"temp\")\n",
    "plt.ylabel(\"freq\")"
   ]
  },
  {
   "cell_type": "code",
   "execution_count": 258,
   "metadata": {},
   "outputs": [
    {
     "data": {
      "text/plain": [
       "array([ 0.82799567, -0.02789132,  0.52571506, ...,  1.44102647,\n",
       "       -1.90178443,  0.18691974])"
      ]
     },
     "execution_count": 258,
     "metadata": {},
     "output_type": "execute_result"
    }
   ],
   "source": [
    "z"
   ]
  },
  {
   "cell_type": "code",
   "execution_count": 259,
   "metadata": {},
   "outputs": [
    {
     "name": "stdout",
     "output_type": "stream",
     "text": [
      "Need Servciing\n"
     ]
    }
   ],
   "source": [
    "count=1000\n",
    "if len(z[(z>3) | (z<-3)])>count :\n",
    "    print(\"Need Servciing\")\n",
    "else:\n",
    "    pass"
   ]
  },
  {
   "cell_type": "code",
   "execution_count": 260,
   "metadata": {},
   "outputs": [
    {
     "data": {
      "text/plain": [
       "[<matplotlib.lines.Line2D at 0xd37df28>]"
      ]
     },
     "execution_count": 260,
     "metadata": {},
     "output_type": "execute_result"
    },
    {
     "data": {
      "image/png": "[encoded data removed]",
      "text/plain": [
       "<Figure size 432x288 with 1 Axes>"
      ]
     },
     "metadata": {},
     "output_type": "display_data"
    }
   ],
   "source": [
    "#On an avg herat should beat 80 times.Paitnet hear data\n",
    "\n",
    "paitent=np.random.normal(loc=100,scale=10,size=1000)\n",
    "plt.plot(paitent)"
   ]
  },
  {
   "cell_type": "code",
   "execution_count": 261,
   "metadata": {},
   "outputs": [],
   "source": [
    "z_paitent=(paitent-paitent.mean())/paitent.std()"
   ]
  },
  {
   "cell_type": "code",
   "execution_count": 262,
   "metadata": {},
   "outputs": [
    {
     "name": "stdout",
     "output_type": "stream",
     "text": [
      "call doc\n"
     ]
    }
   ],
   "source": [
    "if len(z_paitent[(z_paitent>3) | (z_paitent<-3)])>1:\n",
    "    print (\"call doc\")\n",
    "else:\n",
    "    print(\"dont call\")"
   ]
  },
  {
   "cell_type": "code",
   "execution_count": 263,
   "metadata": {},
   "outputs": [],
   "source": [
    "s1=np.random.normal(loc=100,scale=10,size=1000)\n",
    "s2=np.random.normal(loc=1500,scale=110,size=1000)\n"
   ]
  },
  {
   "cell_type": "code",
   "execution_count": 264,
   "metadata": {},
   "outputs": [],
   "source": [
    "z1=(s1-s1.mean())/s1.std()\n",
    "z2=(s2-s2.mean())/s2.std()\n"
   ]
  },
  {
   "cell_type": "code",
   "execution_count": 265,
   "metadata": {},
   "outputs": [
    {
     "name": "stdout",
     "output_type": "stream",
     "text": [
      "stock 2 is better\n"
     ]
    }
   ],
   "source": [
    "if len(z1[(z1>3) | (z1<-3)]) > len(z2[(z2>3) | (z2<-3)]):\n",
    "    print(\"stock 2 is better\")\n",
    "else:\n",
    "    print(\"stock 1 is better\")"
   ]
  },
  {
   "cell_type": "code",
   "execution_count": 266,
   "metadata": {},
   "outputs": [],
   "source": [
    "e=np.random.exponential(scale=7,size=1000)\n"
   ]
  },
  {
   "cell_type": "code",
   "execution_count": 267,
   "metadata": {},
   "outputs": [
    {
     "name": "stdout",
     "output_type": "stream",
     "text": [
      "send notificaton at day 21\n"
     ]
    }
   ],
   "source": [
    "def exponential_pdf(x):\n",
    "    lam=1/7\n",
    "    return lam*np.e**(-lam*x)\n",
    "\n",
    "#when your chance of grocery goes below 0.05% notification should be sent\n",
    "for i in range(1,30):\n",
    "    res=quad(exponential_pdf,a=0,b=i)[0]\n",
    "    if res>0.95:\n",
    "        print(\"send notificaton at day\",i)\n",
    "        break"
   ]
  },
  {
   "cell_type": "code",
   "execution_count": 268,
   "metadata": {},
   "outputs": [],
   "source": [
    "import pandas as pd\n",
    "df=pd.read_csv(\"iris.data\",header=None)"
   ]
  },
  {
   "cell_type": "code",
   "execution_count": 269,
   "metadata": {},
   "outputs": [
    {
     "data": {
      "text/plain": [
       "['.ipynb_checkpoints',\n",
       " 'abc.py',\n",
       " 'fwfwd',\n",
       " 'hist.png',\n",
       " 'iris.data',\n",
       " 'iris.names',\n",
       " 'Python Practice Code.ipynb',\n",
       " 'thinkstats2.pdf']"
      ]
     },
     "execution_count": 269,
     "metadata": {},
     "output_type": "execute_result"
    }
   ],
   "source": [
    "import os\n",
    "os.listdir()"
   ]
  },
  {
   "cell_type": "code",
   "execution_count": 270,
   "metadata": {},
   "outputs": [],
   "source": [
    "df.columns=[\"sepal_length\",\"sepal_width\",\"petal_length\",\"petal_width\",\"species\"]"
   ]
  },
  {
   "cell_type": "code",
   "execution_count": 271,
   "metadata": {},
   "outputs": [
    {
     "data": {
      "text/html": [
       "<div>\n",
       "<style scoped>\n",
       "    .dataframe tbody tr th:only-of-type {\n",
       "        vertical-align: middle;\n",
       "    }\n",
       "\n",
       "    .dataframe tbody tr th {\n",
       "        vertical-align: top;\n",
       "    }\n",
       "\n",
       "    .dataframe thead th {\n",
       "        text-align: right;\n",
       "    }\n",
       "</style>\n",
       "<table border=\"1\" class=\"dataframe\">\n",
       "  <thead>\n",
       "    <tr style=\"text-align: right;\">\n",
       "      <th></th>\n",
       "      <th>sepal_length</th>\n",
       "      <th>sepal_width</th>\n",
       "      <th>petal_length</th>\n",
       "      <th>petal_width</th>\n",
       "      <th>species</th>\n",
       "    </tr>\n",
       "  </thead>\n",
       "  <tbody>\n",
       "    <tr>\n",
       "      <th>0</th>\n",
       "      <td>5.1</td>\n",
       "      <td>3.5</td>\n",
       "      <td>1.4</td>\n",
       "      <td>0.2</td>\n",
       "      <td>Iris-setosa</td>\n",
       "    </tr>\n",
       "    <tr>\n",
       "      <th>1</th>\n",
       "      <td>4.9</td>\n",
       "      <td>3.0</td>\n",
       "      <td>1.4</td>\n",
       "      <td>0.2</td>\n",
       "      <td>Iris-setosa</td>\n",
       "    </tr>\n",
       "    <tr>\n",
       "      <th>2</th>\n",
       "      <td>4.7</td>\n",
       "      <td>3.2</td>\n",
       "      <td>1.3</td>\n",
       "      <td>0.2</td>\n",
       "      <td>Iris-setosa</td>\n",
       "    </tr>\n",
       "    <tr>\n",
       "      <th>3</th>\n",
       "      <td>4.6</td>\n",
       "      <td>3.1</td>\n",
       "      <td>1.5</td>\n",
       "      <td>0.2</td>\n",
       "      <td>Iris-setosa</td>\n",
       "    </tr>\n",
       "    <tr>\n",
       "      <th>4</th>\n",
       "      <td>5.0</td>\n",
       "      <td>3.6</td>\n",
       "      <td>1.4</td>\n",
       "      <td>0.2</td>\n",
       "      <td>Iris-setosa</td>\n",
       "    </tr>\n",
       "    <tr>\n",
       "      <th>5</th>\n",
       "      <td>5.4</td>\n",
       "      <td>3.9</td>\n",
       "      <td>1.7</td>\n",
       "      <td>0.4</td>\n",
       "      <td>Iris-setosa</td>\n",
       "    </tr>\n",
       "    <tr>\n",
       "      <th>6</th>\n",
       "      <td>4.6</td>\n",
       "      <td>3.4</td>\n",
       "      <td>1.4</td>\n",
       "      <td>0.3</td>\n",
       "      <td>Iris-setosa</td>\n",
       "    </tr>\n",
       "    <tr>\n",
       "      <th>7</th>\n",
       "      <td>5.0</td>\n",
       "      <td>3.4</td>\n",
       "      <td>1.5</td>\n",
       "      <td>0.2</td>\n",
       "      <td>Iris-setosa</td>\n",
       "    </tr>\n",
       "    <tr>\n",
       "      <th>8</th>\n",
       "      <td>4.4</td>\n",
       "      <td>2.9</td>\n",
       "      <td>1.4</td>\n",
       "      <td>0.2</td>\n",
       "      <td>Iris-setosa</td>\n",
       "    </tr>\n",
       "    <tr>\n",
       "      <th>9</th>\n",
       "      <td>4.9</td>\n",
       "      <td>3.1</td>\n",
       "      <td>1.5</td>\n",
       "      <td>0.1</td>\n",
       "      <td>Iris-setosa</td>\n",
       "    </tr>\n",
       "    <tr>\n",
       "      <th>10</th>\n",
       "      <td>5.4</td>\n",
       "      <td>3.7</td>\n",
       "      <td>1.5</td>\n",
       "      <td>0.2</td>\n",
       "      <td>Iris-setosa</td>\n",
       "    </tr>\n",
       "    <tr>\n",
       "      <th>11</th>\n",
       "      <td>4.8</td>\n",
       "      <td>3.4</td>\n",
       "      <td>1.6</td>\n",
       "      <td>0.2</td>\n",
       "      <td>Iris-setosa</td>\n",
       "    </tr>\n",
       "    <tr>\n",
       "      <th>12</th>\n",
       "      <td>4.8</td>\n",
       "      <td>3.0</td>\n",
       "      <td>1.4</td>\n",
       "      <td>0.1</td>\n",
       "      <td>Iris-setosa</td>\n",
       "    </tr>\n",
       "    <tr>\n",
       "      <th>13</th>\n",
       "      <td>4.3</td>\n",
       "      <td>3.0</td>\n",
       "      <td>1.1</td>\n",
       "      <td>0.1</td>\n",
       "      <td>Iris-setosa</td>\n",
       "    </tr>\n",
       "    <tr>\n",
       "      <th>14</th>\n",
       "      <td>5.8</td>\n",
       "      <td>4.0</td>\n",
       "      <td>1.2</td>\n",
       "      <td>0.2</td>\n",
       "      <td>Iris-setosa</td>\n",
       "    </tr>\n",
       "    <tr>\n",
       "      <th>15</th>\n",
       "      <td>5.7</td>\n",
       "      <td>4.4</td>\n",
       "      <td>1.5</td>\n",
       "      <td>0.4</td>\n",
       "      <td>Iris-setosa</td>\n",
       "    </tr>\n",
       "    <tr>\n",
       "      <th>16</th>\n",
       "      <td>5.4</td>\n",
       "      <td>3.9</td>\n",
       "      <td>1.3</td>\n",
       "      <td>0.4</td>\n",
       "      <td>Iris-setosa</td>\n",
       "    </tr>\n",
       "    <tr>\n",
       "      <th>17</th>\n",
       "      <td>5.1</td>\n",
       "      <td>3.5</td>\n",
       "      <td>1.4</td>\n",
       "      <td>0.3</td>\n",
       "      <td>Iris-setosa</td>\n",
       "    </tr>\n",
       "    <tr>\n",
       "      <th>18</th>\n",
       "      <td>5.7</td>\n",
       "      <td>3.8</td>\n",
       "      <td>1.7</td>\n",
       "      <td>0.3</td>\n",
       "      <td>Iris-setosa</td>\n",
       "    </tr>\n",
       "    <tr>\n",
       "      <th>19</th>\n",
       "      <td>5.1</td>\n",
       "      <td>3.8</td>\n",
       "      <td>1.5</td>\n",
       "      <td>0.3</td>\n",
       "      <td>Iris-setosa</td>\n",
       "    </tr>\n",
       "    <tr>\n",
       "      <th>20</th>\n",
       "      <td>5.4</td>\n",
       "      <td>3.4</td>\n",
       "      <td>1.7</td>\n",
       "      <td>0.2</td>\n",
       "      <td>Iris-setosa</td>\n",
       "    </tr>\n",
       "    <tr>\n",
       "      <th>21</th>\n",
       "      <td>5.1</td>\n",
       "      <td>3.7</td>\n",
       "      <td>1.5</td>\n",
       "      <td>0.4</td>\n",
       "      <td>Iris-setosa</td>\n",
       "    </tr>\n",
       "    <tr>\n",
       "      <th>22</th>\n",
       "      <td>4.6</td>\n",
       "      <td>3.6</td>\n",
       "      <td>1.0</td>\n",
       "      <td>0.2</td>\n",
       "      <td>Iris-setosa</td>\n",
       "    </tr>\n",
       "    <tr>\n",
       "      <th>23</th>\n",
       "      <td>5.1</td>\n",
       "      <td>3.3</td>\n",
       "      <td>1.7</td>\n",
       "      <td>0.5</td>\n",
       "      <td>Iris-setosa</td>\n",
       "    </tr>\n",
       "    <tr>\n",
       "      <th>24</th>\n",
       "      <td>4.8</td>\n",
       "      <td>3.4</td>\n",
       "      <td>1.9</td>\n",
       "      <td>0.2</td>\n",
       "      <td>Iris-setosa</td>\n",
       "    </tr>\n",
       "    <tr>\n",
       "      <th>25</th>\n",
       "      <td>5.0</td>\n",
       "      <td>3.0</td>\n",
       "      <td>1.6</td>\n",
       "      <td>0.2</td>\n",
       "      <td>Iris-setosa</td>\n",
       "    </tr>\n",
       "    <tr>\n",
       "      <th>26</th>\n",
       "      <td>5.0</td>\n",
       "      <td>3.4</td>\n",
       "      <td>1.6</td>\n",
       "      <td>0.4</td>\n",
       "      <td>Iris-setosa</td>\n",
       "    </tr>\n",
       "    <tr>\n",
       "      <th>27</th>\n",
       "      <td>5.2</td>\n",
       "      <td>3.5</td>\n",
       "      <td>1.5</td>\n",
       "      <td>0.2</td>\n",
       "      <td>Iris-setosa</td>\n",
       "    </tr>\n",
       "    <tr>\n",
       "      <th>28</th>\n",
       "      <td>5.2</td>\n",
       "      <td>3.4</td>\n",
       "      <td>1.4</td>\n",
       "      <td>0.2</td>\n",
       "      <td>Iris-setosa</td>\n",
       "    </tr>\n",
       "    <tr>\n",
       "      <th>29</th>\n",
       "      <td>4.7</td>\n",
       "      <td>3.2</td>\n",
       "      <td>1.6</td>\n",
       "      <td>0.2</td>\n",
       "      <td>Iris-setosa</td>\n",
       "    </tr>\n",
       "    <tr>\n",
       "      <th>...</th>\n",
       "      <td>...</td>\n",
       "      <td>...</td>\n",
       "      <td>...</td>\n",
       "      <td>...</td>\n",
       "      <td>...</td>\n",
       "    </tr>\n",
       "    <tr>\n",
       "      <th>120</th>\n",
       "      <td>6.9</td>\n",
       "      <td>3.2</td>\n",
       "      <td>5.7</td>\n",
       "      <td>2.3</td>\n",
       "      <td>Iris-virginica</td>\n",
       "    </tr>\n",
       "    <tr>\n",
       "      <th>121</th>\n",
       "      <td>5.6</td>\n",
       "      <td>2.8</td>\n",
       "      <td>4.9</td>\n",
       "      <td>2.0</td>\n",
       "      <td>Iris-virginica</td>\n",
       "    </tr>\n",
       "    <tr>\n",
       "      <th>122</th>\n",
       "      <td>7.7</td>\n",
       "      <td>2.8</td>\n",
       "      <td>6.7</td>\n",
       "      <td>2.0</td>\n",
       "      <td>Iris-virginica</td>\n",
       "    </tr>\n",
       "    <tr>\n",
       "      <th>123</th>\n",
       "      <td>6.3</td>\n",
       "      <td>2.7</td>\n",
       "      <td>4.9</td>\n",
       "      <td>1.8</td>\n",
       "      <td>Iris-virginica</td>\n",
       "    </tr>\n",
       "    <tr>\n",
       "      <th>124</th>\n",
       "      <td>6.7</td>\n",
       "      <td>3.3</td>\n",
       "      <td>5.7</td>\n",
       "      <td>2.1</td>\n",
       "      <td>Iris-virginica</td>\n",
       "    </tr>\n",
       "    <tr>\n",
       "      <th>125</th>\n",
       "      <td>7.2</td>\n",
       "      <td>3.2</td>\n",
       "      <td>6.0</td>\n",
       "      <td>1.8</td>\n",
       "      <td>Iris-virginica</td>\n",
       "    </tr>\n",
       "    <tr>\n",
       "      <th>126</th>\n",
       "      <td>6.2</td>\n",
       "      <td>2.8</td>\n",
       "      <td>4.8</td>\n",
       "      <td>1.8</td>\n",
       "      <td>Iris-virginica</td>\n",
       "    </tr>\n",
       "    <tr>\n",
       "      <th>127</th>\n",
       "      <td>6.1</td>\n",
       "      <td>3.0</td>\n",
       "      <td>4.9</td>\n",
       "      <td>1.8</td>\n",
       "      <td>Iris-virginica</td>\n",
       "    </tr>\n",
       "    <tr>\n",
       "      <th>128</th>\n",
       "      <td>6.4</td>\n",
       "      <td>2.8</td>\n",
       "      <td>5.6</td>\n",
       "      <td>2.1</td>\n",
       "      <td>Iris-virginica</td>\n",
       "    </tr>\n",
       "    <tr>\n",
       "      <th>129</th>\n",
       "      <td>7.2</td>\n",
       "      <td>3.0</td>\n",
       "      <td>5.8</td>\n",
       "      <td>1.6</td>\n",
       "      <td>Iris-virginica</td>\n",
       "    </tr>\n",
       "    <tr>\n",
       "      <th>130</th>\n",
       "      <td>7.4</td>\n",
       "      <td>2.8</td>\n",
       "      <td>6.1</td>\n",
       "      <td>1.9</td>\n",
       "      <td>Iris-virginica</td>\n",
       "    </tr>\n",
       "    <tr>\n",
       "      <th>131</th>\n",
       "      <td>7.9</td>\n",
       "      <td>3.8</td>\n",
       "      <td>6.4</td>\n",
       "      <td>2.0</td>\n",
       "      <td>Iris-virginica</td>\n",
       "    </tr>\n",
       "    <tr>\n",
       "      <th>132</th>\n",
       "      <td>6.4</td>\n",
       "      <td>2.8</td>\n",
       "      <td>5.6</td>\n",
       "      <td>2.2</td>\n",
       "      <td>Iris-virginica</td>\n",
       "    </tr>\n",
       "    <tr>\n",
       "      <th>133</th>\n",
       "      <td>6.3</td>\n",
       "      <td>2.8</td>\n",
       "      <td>5.1</td>\n",
       "      <td>1.5</td>\n",
       "      <td>Iris-virginica</td>\n",
       "    </tr>\n",
       "    <tr>\n",
       "      <th>134</th>\n",
       "      <td>6.1</td>\n",
       "      <td>2.6</td>\n",
       "      <td>5.6</td>\n",
       "      <td>1.4</td>\n",
       "      <td>Iris-virginica</td>\n",
       "    </tr>\n",
       "    <tr>\n",
       "      <th>135</th>\n",
       "      <td>7.7</td>\n",
       "      <td>3.0</td>\n",
       "      <td>6.1</td>\n",
       "      <td>2.3</td>\n",
       "      <td>Iris-virginica</td>\n",
       "    </tr>\n",
       "    <tr>\n",
       "      <th>136</th>\n",
       "      <td>6.3</td>\n",
       "      <td>3.4</td>\n",
       "      <td>5.6</td>\n",
       "      <td>2.4</td>\n",
       "      <td>Iris-virginica</td>\n",
       "    </tr>\n",
       "    <tr>\n",
       "      <th>137</th>\n",
       "      <td>6.4</td>\n",
       "      <td>3.1</td>\n",
       "      <td>5.5</td>\n",
       "      <td>1.8</td>\n",
       "      <td>Iris-virginica</td>\n",
       "    </tr>\n",
       "    <tr>\n",
       "      <th>138</th>\n",
       "      <td>6.0</td>\n",
       "      <td>3.0</td>\n",
       "      <td>4.8</td>\n",
       "      <td>1.8</td>\n",
       "      <td>Iris-virginica</td>\n",
       "    </tr>\n",
       "    <tr>\n",
       "      <th>139</th>\n",
       "      <td>6.9</td>\n",
       "      <td>3.1</td>\n",
       "      <td>5.4</td>\n",
       "      <td>2.1</td>\n",
       "      <td>Iris-virginica</td>\n",
       "    </tr>\n",
       "    <tr>\n",
       "      <th>140</th>\n",
       "      <td>6.7</td>\n",
       "      <td>3.1</td>\n",
       "      <td>5.6</td>\n",
       "      <td>2.4</td>\n",
       "      <td>Iris-virginica</td>\n",
       "    </tr>\n",
       "    <tr>\n",
       "      <th>141</th>\n",
       "      <td>6.9</td>\n",
       "      <td>3.1</td>\n",
       "      <td>5.1</td>\n",
       "      <td>2.3</td>\n",
       "      <td>Iris-virginica</td>\n",
       "    </tr>\n",
       "    <tr>\n",
       "      <th>142</th>\n",
       "      <td>5.8</td>\n",
       "      <td>2.7</td>\n",
       "      <td>5.1</td>\n",
       "      <td>1.9</td>\n",
       "      <td>Iris-virginica</td>\n",
       "    </tr>\n",
       "    <tr>\n",
       "      <th>143</th>\n",
       "      <td>6.8</td>\n",
       "      <td>3.2</td>\n",
       "      <td>5.9</td>\n",
       "      <td>2.3</td>\n",
       "      <td>Iris-virginica</td>\n",
       "    </tr>\n",
       "    <tr>\n",
       "      <th>144</th>\n",
       "      <td>6.7</td>\n",
       "      <td>3.3</td>\n",
       "      <td>5.7</td>\n",
       "      <td>2.5</td>\n",
       "      <td>Iris-virginica</td>\n",
       "    </tr>\n",
       "    <tr>\n",
       "      <th>145</th>\n",
       "      <td>6.7</td>\n",
       "      <td>3.0</td>\n",
       "      <td>5.2</td>\n",
       "      <td>2.3</td>\n",
       "      <td>Iris-virginica</td>\n",
       "    </tr>\n",
       "    <tr>\n",
       "      <th>146</th>\n",
       "      <td>6.3</td>\n",
       "      <td>2.5</td>\n",
       "      <td>5.0</td>\n",
       "      <td>1.9</td>\n",
       "      <td>Iris-virginica</td>\n",
       "    </tr>\n",
       "    <tr>\n",
       "      <th>147</th>\n",
       "      <td>6.5</td>\n",
       "      <td>3.0</td>\n",
       "      <td>5.2</td>\n",
       "      <td>2.0</td>\n",
       "      <td>Iris-virginica</td>\n",
       "    </tr>\n",
       "    <tr>\n",
       "      <th>148</th>\n",
       "      <td>6.2</td>\n",
       "      <td>3.4</td>\n",
       "      <td>5.4</td>\n",
       "      <td>2.3</td>\n",
       "      <td>Iris-virginica</td>\n",
       "    </tr>\n",
       "    <tr>\n",
       "      <th>149</th>\n",
       "      <td>5.9</td>\n",
       "      <td>3.0</td>\n",
       "      <td>5.1</td>\n",
       "      <td>1.8</td>\n",
       "      <td>Iris-virginica</td>\n",
       "    </tr>\n",
       "  </tbody>\n",
       "</table>\n",
       "<p>150 rows × 5 columns</p>\n",
       "</div>"
      ],
      "text/plain": [
       "     sepal_length  sepal_width  petal_length  petal_width         species\n",
       "0             5.1          3.5           1.4          0.2     Iris-setosa\n",
       "1             4.9          3.0           1.4          0.2     Iris-setosa\n",
       "2             4.7          3.2           1.3          0.2     Iris-setosa\n",
       "3             4.6          3.1           1.5          0.2     Iris-setosa\n",
       "4             5.0          3.6           1.4          0.2     Iris-setosa\n",
       "5             5.4          3.9           1.7          0.4     Iris-setosa\n",
       "6             4.6          3.4           1.4          0.3     Iris-setosa\n",
       "7             5.0          3.4           1.5          0.2     Iris-setosa\n",
       "8             4.4          2.9           1.4          0.2     Iris-setosa\n",
       "9             4.9          3.1           1.5          0.1     Iris-setosa\n",
       "10            5.4          3.7           1.5          0.2     Iris-setosa\n",
       "11            4.8          3.4           1.6          0.2     Iris-setosa\n",
       "12            4.8          3.0           1.4          0.1     Iris-setosa\n",
       "13            4.3          3.0           1.1          0.1     Iris-setosa\n",
       "14            5.8          4.0           1.2          0.2     Iris-setosa\n",
       "15            5.7          4.4           1.5          0.4     Iris-setosa\n",
       "16            5.4          3.9           1.3          0.4     Iris-setosa\n",
       "17            5.1          3.5           1.4          0.3     Iris-setosa\n",
       "18            5.7          3.8           1.7          0.3     Iris-setosa\n",
       "19            5.1          3.8           1.5          0.3     Iris-setosa\n",
       "20            5.4          3.4           1.7          0.2     Iris-setosa\n",
       "21            5.1          3.7           1.5          0.4     Iris-setosa\n",
       "22            4.6          3.6           1.0          0.2     Iris-setosa\n",
       "23            5.1          3.3           1.7          0.5     Iris-setosa\n",
       "24            4.8          3.4           1.9          0.2     Iris-setosa\n",
       "25            5.0          3.0           1.6          0.2     Iris-setosa\n",
       "26            5.0          3.4           1.6          0.4     Iris-setosa\n",
       "27            5.2          3.5           1.5          0.2     Iris-setosa\n",
       "28            5.2          3.4           1.4          0.2     Iris-setosa\n",
       "29            4.7          3.2           1.6          0.2     Iris-setosa\n",
       "..            ...          ...           ...          ...             ...\n",
       "120           6.9          3.2           5.7          2.3  Iris-virginica\n",
       "121           5.6          2.8           4.9          2.0  Iris-virginica\n",
       "122           7.7          2.8           6.7          2.0  Iris-virginica\n",
       "123           6.3          2.7           4.9          1.8  Iris-virginica\n",
       "124           6.7          3.3           5.7          2.1  Iris-virginica\n",
       "125           7.2          3.2           6.0          1.8  Iris-virginica\n",
       "126           6.2          2.8           4.8          1.8  Iris-virginica\n",
       "127           6.1          3.0           4.9          1.8  Iris-virginica\n",
       "128           6.4          2.8           5.6          2.1  Iris-virginica\n",
       "129           7.2          3.0           5.8          1.6  Iris-virginica\n",
       "130           7.4          2.8           6.1          1.9  Iris-virginica\n",
       "131           7.9          3.8           6.4          2.0  Iris-virginica\n",
       "132           6.4          2.8           5.6          2.2  Iris-virginica\n",
       "133           6.3          2.8           5.1          1.5  Iris-virginica\n",
       "134           6.1          2.6           5.6          1.4  Iris-virginica\n",
       "135           7.7          3.0           6.1          2.3  Iris-virginica\n",
       "136           6.3          3.4           5.6          2.4  Iris-virginica\n",
       "137           6.4          3.1           5.5          1.8  Iris-virginica\n",
       "138           6.0          3.0           4.8          1.8  Iris-virginica\n",
       "139           6.9          3.1           5.4          2.1  Iris-virginica\n",
       "140           6.7          3.1           5.6          2.4  Iris-virginica\n",
       "141           6.9          3.1           5.1          2.3  Iris-virginica\n",
       "142           5.8          2.7           5.1          1.9  Iris-virginica\n",
       "143           6.8          3.2           5.9          2.3  Iris-virginica\n",
       "144           6.7          3.3           5.7          2.5  Iris-virginica\n",
       "145           6.7          3.0           5.2          2.3  Iris-virginica\n",
       "146           6.3          2.5           5.0          1.9  Iris-virginica\n",
       "147           6.5          3.0           5.2          2.0  Iris-virginica\n",
       "148           6.2          3.4           5.4          2.3  Iris-virginica\n",
       "149           5.9          3.0           5.1          1.8  Iris-virginica\n",
       "\n",
       "[150 rows x 5 columns]"
      ]
     },
     "execution_count": 271,
     "metadata": {},
     "output_type": "execute_result"
    }
   ],
   "source": [
    "(df)"
   ]
  },
  {
   "cell_type": "code",
   "execution_count": 272,
   "metadata": {},
   "outputs": [],
   "source": [
    "s1=pd.Series([3,4,5])\n",
    "s2=pd.Series([1,2,3])\n",
    "d=pd.DataFrame(data={\"Col1\":s1,\"Col2\":s2})"
   ]
  },
  {
   "cell_type": "code",
   "execution_count": 273,
   "metadata": {},
   "outputs": [
    {
     "data": {
      "text/html": [
       "<div>\n",
       "<style scoped>\n",
       "    .dataframe tbody tr th:only-of-type {\n",
       "        vertical-align: middle;\n",
       "    }\n",
       "\n",
       "    .dataframe tbody tr th {\n",
       "        vertical-align: top;\n",
       "    }\n",
       "\n",
       "    .dataframe thead th {\n",
       "        text-align: right;\n",
       "    }\n",
       "</style>\n",
       "<table border=\"1\" class=\"dataframe\">\n",
       "  <thead>\n",
       "    <tr style=\"text-align: right;\">\n",
       "      <th></th>\n",
       "      <th>Col1</th>\n",
       "      <th>Col2</th>\n",
       "    </tr>\n",
       "  </thead>\n",
       "  <tbody>\n",
       "    <tr>\n",
       "      <th>0</th>\n",
       "      <td>3</td>\n",
       "      <td>1</td>\n",
       "    </tr>\n",
       "    <tr>\n",
       "      <th>1</th>\n",
       "      <td>4</td>\n",
       "      <td>2</td>\n",
       "    </tr>\n",
       "    <tr>\n",
       "      <th>2</th>\n",
       "      <td>5</td>\n",
       "      <td>3</td>\n",
       "    </tr>\n",
       "  </tbody>\n",
       "</table>\n",
       "</div>"
      ],
      "text/plain": [
       "   Col1  Col2\n",
       "0     3     1\n",
       "1     4     2\n",
       "2     5     3"
      ]
     },
     "execution_count": 273,
     "metadata": {},
     "output_type": "execute_result"
    }
   ],
   "source": [
    "d"
   ]
  },
  {
   "cell_type": "code",
   "execution_count": 274,
   "metadata": {},
   "outputs": [
    {
     "data": {
      "text/plain": [
       "0    3\n",
       "1    4\n",
       "2    5\n",
       "Name: Col1, dtype: int64"
      ]
     },
     "execution_count": 274,
     "metadata": {},
     "output_type": "execute_result"
    }
   ],
   "source": [
    "d.Col1"
   ]
  },
  {
   "cell_type": "code",
   "execution_count": 275,
   "metadata": {},
   "outputs": [
    {
     "data": {
      "text/plain": [
       "0    3\n",
       "1    4\n",
       "2    5\n",
       "Name: Col1, dtype: int64"
      ]
     },
     "execution_count": 275,
     "metadata": {},
     "output_type": "execute_result"
    }
   ],
   "source": [
    "d['Col1']"
   ]
  },
  {
   "cell_type": "code",
   "execution_count": 276,
   "metadata": {},
   "outputs": [
    {
     "data": {
      "image/png": "[encoded data removed]",
      "text/plain": [
       "<Figure size 432x288 with 1 Axes>"
      ]
     },
     "metadata": {},
     "output_type": "display_data"
    }
   ],
   "source": [
    "plt.hist(df.sepal_length,color='g',bins=7,label=\"Sepal Length\")\n",
    "plt.hist(df.sepal_width,color='b',bins=7,label=\"Sepal Width\")\n",
    "plt.hist(df.petal_length,color='r',bins=7,label=\"Petal Length\")\n",
    "plt.hist(df.petal_width,color='y',bins=7,label=\"Petal Width\")\n",
    "plt.legend()\n",
    "plt.savefig(\"hist.png\")"
   ]
  },
  {
   "cell_type": "code",
   "execution_count": 277,
   "metadata": {},
   "outputs": [
    {
     "data": {
      "text/plain": [
       "sepal_length    False\n",
       "sepal_width     False\n",
       "petal_length    False\n",
       "petal_width     False\n",
       "species         False\n",
       "dtype: bool"
      ]
     },
     "execution_count": 277,
     "metadata": {},
     "output_type": "execute_result"
    }
   ],
   "source": [
    "df.isna().any()"
   ]
  },
  {
   "cell_type": "code",
   "execution_count": 278,
   "metadata": {},
   "outputs": [
    {
     "data": {
      "text/plain": [
       "sepal_length    0\n",
       "sepal_width     0\n",
       "petal_length    0\n",
       "petal_width     0\n",
       "species         0\n",
       "dtype: int64"
      ]
     },
     "execution_count": 278,
     "metadata": {},
     "output_type": "execute_result"
    }
   ],
   "source": [
    "df.isna().sum()"
   ]
  },
  {
   "cell_type": "code",
   "execution_count": 279,
   "metadata": {},
   "outputs": [
    {
     "name": "stderr",
     "output_type": "stream",
     "text": [
      "C:\\Anaconda2\\envs\\py36\\lib\\site-packages\\ipykernel_launcher.py:1: SettingWithCopyWarning: \n",
      "A value is trying to be set on a copy of a slice from a DataFrame\n",
      "\n",
      "See the caveats in the documentation: http://pandas.pydata.org/pandas-docs/stable/indexing.html#indexing-view-versus-copy\n",
      "  \"\"\"Entry point for launching an IPython kernel.\n"
     ]
    }
   ],
   "source": [
    "df.petal_width[0]=None"
   ]
  },
  {
   "cell_type": "code",
   "execution_count": 280,
   "metadata": {},
   "outputs": [],
   "source": [
    "#df.petal_width.fillna(0.3)"
   ]
  },
  {
   "cell_type": "code",
   "execution_count": 281,
   "metadata": {},
   "outputs": [
    {
     "data": {
      "text/html": [
       "<div>\n",
       "<style scoped>\n",
       "    .dataframe tbody tr th:only-of-type {\n",
       "        vertical-align: middle;\n",
       "    }\n",
       "\n",
       "    .dataframe tbody tr th {\n",
       "        vertical-align: top;\n",
       "    }\n",
       "\n",
       "    .dataframe thead th {\n",
       "        text-align: right;\n",
       "    }\n",
       "</style>\n",
       "<table border=\"1\" class=\"dataframe\">\n",
       "  <thead>\n",
       "    <tr style=\"text-align: right;\">\n",
       "      <th></th>\n",
       "      <th>sepal_length</th>\n",
       "      <th>sepal_width</th>\n",
       "      <th>petal_length</th>\n",
       "      <th>petal_width</th>\n",
       "    </tr>\n",
       "  </thead>\n",
       "  <tbody>\n",
       "    <tr>\n",
       "      <th>count</th>\n",
       "      <td>150.000000</td>\n",
       "      <td>150.000000</td>\n",
       "      <td>150.000000</td>\n",
       "      <td>149.000000</td>\n",
       "    </tr>\n",
       "    <tr>\n",
       "      <th>mean</th>\n",
       "      <td>5.843333</td>\n",
       "      <td>3.054000</td>\n",
       "      <td>3.758667</td>\n",
       "      <td>1.205369</td>\n",
       "    </tr>\n",
       "    <tr>\n",
       "      <th>std</th>\n",
       "      <td>0.828066</td>\n",
       "      <td>0.433594</td>\n",
       "      <td>1.764420</td>\n",
       "      <td>0.761292</td>\n",
       "    </tr>\n",
       "    <tr>\n",
       "      <th>min</th>\n",
       "      <td>4.300000</td>\n",
       "      <td>2.000000</td>\n",
       "      <td>1.000000</td>\n",
       "      <td>0.100000</td>\n",
       "    </tr>\n",
       "    <tr>\n",
       "      <th>25%</th>\n",
       "      <td>5.100000</td>\n",
       "      <td>2.800000</td>\n",
       "      <td>1.600000</td>\n",
       "      <td>0.300000</td>\n",
       "    </tr>\n",
       "    <tr>\n",
       "      <th>50%</th>\n",
       "      <td>5.800000</td>\n",
       "      <td>3.000000</td>\n",
       "      <td>4.350000</td>\n",
       "      <td>1.300000</td>\n",
       "    </tr>\n",
       "    <tr>\n",
       "      <th>75%</th>\n",
       "      <td>6.400000</td>\n",
       "      <td>3.300000</td>\n",
       "      <td>5.100000</td>\n",
       "      <td>1.800000</td>\n",
       "    </tr>\n",
       "    <tr>\n",
       "      <th>max</th>\n",
       "      <td>7.900000</td>\n",
       "      <td>4.400000</td>\n",
       "      <td>6.900000</td>\n",
       "      <td>2.500000</td>\n",
       "    </tr>\n",
       "  </tbody>\n",
       "</table>\n",
       "</div>"
      ],
      "text/plain": [
       "       sepal_length  sepal_width  petal_length  petal_width\n",
       "count    150.000000   150.000000    150.000000   149.000000\n",
       "mean       5.843333     3.054000      3.758667     1.205369\n",
       "std        0.828066     0.433594      1.764420     0.761292\n",
       "min        4.300000     2.000000      1.000000     0.100000\n",
       "25%        5.100000     2.800000      1.600000     0.300000\n",
       "50%        5.800000     3.000000      4.350000     1.300000\n",
       "75%        6.400000     3.300000      5.100000     1.800000\n",
       "max        7.900000     4.400000      6.900000     2.500000"
      ]
     },
     "execution_count": 281,
     "metadata": {},
     "output_type": "execute_result"
    }
   ],
   "source": [
    "df.describe()"
   ]
  },
  {
   "cell_type": "code",
   "execution_count": 282,
   "metadata": {},
   "outputs": [
    {
     "data": {
      "text/plain": [
       "<matplotlib.axes._subplots.AxesSubplot at 0x510fba8>"
      ]
     },
     "execution_count": 282,
     "metadata": {},
     "output_type": "execute_result"
    },
    {
     "data": {
      "image/png": "[encoded data removed]",
      "text/plain": [
       "<Figure size 432x288 with 1 Axes>"
      ]
     },
     "metadata": {},
     "output_type": "display_data"
    }
   ],
   "source": [
    "import seaborn as sns\n",
    "sns.distplot(df.petal_length)"
   ]
  },
  {
   "cell_type": "code",
   "execution_count": 283,
   "metadata": {},
   "outputs": [
    {
     "data": {
      "text/plain": [
       "<matplotlib.axes._subplots.AxesSubplot at 0xcab0f28>"
      ]
     },
     "execution_count": 283,
     "metadata": {},
     "output_type": "execute_result"
    },
    {
     "data": {
      "image/png": "[encoded data removed]",
      "text/plain": [
       "<Figure size 432x288 with 1 Axes>"
      ]
     },
     "metadata": {},
     "output_type": "display_data"
    }
   ],
   "source": [
    "sns.scatterplot(df.petal_length,df.petal_width)"
   ]
  },
  {
   "cell_type": "code",
   "execution_count": 285,
   "metadata": {},
   "outputs": [
    {
     "ename": "ValueError",
     "evalue": "max must be larger than min in range parameter.",
     "output_type": "error",
     "traceback": [
      "\u001b[1;31m---------------------------------------------------------------------------\u001b[0m",
      "\u001b[1;31mValueError\u001b[0m                                Traceback (most recent call last)",
      "\u001b[1;32m<ipython-input-285-1a6fe1782b2f>\u001b[0m in \u001b[0;36m<module>\u001b[1;34m()\u001b[0m\n\u001b[1;32m----> 1\u001b[1;33m \u001b[0msns\u001b[0m\u001b[1;33m.\u001b[0m\u001b[0mpairplot\u001b[0m\u001b[1;33m(\u001b[0m\u001b[0mdf\u001b[0m\u001b[1;33m)\u001b[0m\u001b[1;33m\u001b[0m\u001b[0m\n\u001b[0m",
      "\u001b[1;32mC:\\Anaconda2\\envs\\py36\\lib\\site-packages\\seaborn\\axisgrid.py\u001b[0m in \u001b[0;36mpairplot\u001b[1;34m(data, hue, hue_order, palette, vars, x_vars, y_vars, kind, diag_kind, markers, height, aspect, dropna, plot_kws, diag_kws, grid_kws, size)\u001b[0m\n\u001b[0;32m   2105\u001b[0m     \u001b[1;32mif\u001b[0m \u001b[0mgrid\u001b[0m\u001b[1;33m.\u001b[0m\u001b[0msquare_grid\u001b[0m\u001b[1;33m:\u001b[0m\u001b[1;33m\u001b[0m\u001b[0m\n\u001b[0;32m   2106\u001b[0m         \u001b[1;32mif\u001b[0m \u001b[0mdiag_kind\u001b[0m \u001b[1;33m==\u001b[0m \u001b[1;34m\"hist\"\u001b[0m\u001b[1;33m:\u001b[0m\u001b[1;33m\u001b[0m\u001b[0m\n\u001b[1;32m-> 2107\u001b[1;33m             \u001b[0mgrid\u001b[0m\u001b[1;33m.\u001b[0m\u001b[0mmap_diag\u001b[0m\u001b[1;33m(\u001b[0m\u001b[0mplt\u001b[0m\u001b[1;33m.\u001b[0m\u001b[0mhist\u001b[0m\u001b[1;33m,\u001b[0m \u001b[1;33m**\u001b[0m\u001b[0mdiag_kws\u001b[0m\u001b[1;33m)\u001b[0m\u001b[1;33m\u001b[0m\u001b[0m\n\u001b[0m\u001b[0;32m   2108\u001b[0m         \u001b[1;32melif\u001b[0m \u001b[0mdiag_kind\u001b[0m \u001b[1;33m==\u001b[0m \u001b[1;34m\"kde\"\u001b[0m\u001b[1;33m:\u001b[0m\u001b[1;33m\u001b[0m\u001b[0m\n\u001b[0;32m   2109\u001b[0m             \u001b[0mdiag_kws\u001b[0m\u001b[1;33m.\u001b[0m\u001b[0msetdefault\u001b[0m\u001b[1;33m(\u001b[0m\u001b[1;34m\"shade\"\u001b[0m\u001b[1;33m,\u001b[0m \u001b[1;32mTrue\u001b[0m\u001b[1;33m)\u001b[0m\u001b[1;33m\u001b[0m\u001b[0m\n",
      "\u001b[1;32mC:\\Anaconda2\\envs\\py36\\lib\\site-packages\\seaborn\\axisgrid.py\u001b[0m in \u001b[0;36mmap_diag\u001b[1;34m(self, func, **kwargs)\u001b[0m\n\u001b[0;32m   1397\u001b[0m                     \u001b[0mcolor\u001b[0m \u001b[1;33m=\u001b[0m \u001b[0mfixed_color\u001b[0m\u001b[1;33m\u001b[0m\u001b[0m\n\u001b[0;32m   1398\u001b[0m \u001b[1;33m\u001b[0m\u001b[0m\n\u001b[1;32m-> 1399\u001b[1;33m                 \u001b[0mfunc\u001b[0m\u001b[1;33m(\u001b[0m\u001b[0mdata_k\u001b[0m\u001b[1;33m,\u001b[0m \u001b[0mlabel\u001b[0m\u001b[1;33m=\u001b[0m\u001b[0mlabel_k\u001b[0m\u001b[1;33m,\u001b[0m \u001b[0mcolor\u001b[0m\u001b[1;33m=\u001b[0m\u001b[0mcolor\u001b[0m\u001b[1;33m,\u001b[0m \u001b[1;33m**\u001b[0m\u001b[0mkwargs\u001b[0m\u001b[1;33m)\u001b[0m\u001b[1;33m\u001b[0m\u001b[0m\n\u001b[0m\u001b[0;32m   1400\u001b[0m \u001b[1;33m\u001b[0m\u001b[0m\n\u001b[0;32m   1401\u001b[0m             \u001b[0mself\u001b[0m\u001b[1;33m.\u001b[0m\u001b[0m_clean_axis\u001b[0m\u001b[1;33m(\u001b[0m\u001b[0max\u001b[0m\u001b[1;33m)\u001b[0m\u001b[1;33m\u001b[0m\u001b[0m\n",
      "\u001b[1;32mC:\\Anaconda2\\envs\\py36\\lib\\site-packages\\matplotlib\\pyplot.py\u001b[0m in \u001b[0;36mhist\u001b[1;34m(x, bins, range, density, weights, cumulative, bottom, histtype, align, orientation, rwidth, log, color, label, stacked, normed, hold, data, **kwargs)\u001b[0m\n\u001b[0;32m   3130\u001b[0m     \u001b[0mimage\u001b[0m \u001b[1;32mif\u001b[0m \u001b[0mthere\u001b[0m \u001b[1;32mis\u001b[0m \u001b[0mone\u001b[0m\u001b[1;33m.\u001b[0m \u001b[0mSee\u001b[0m\u001b[0;31m \u001b[0m\u001b[0;31m`\u001b[0m\u001b[0;31m`\u001b[0m\u001b[0mhelp\u001b[0m\u001b[1;33m(\u001b[0m\u001b[0mcolormaps\u001b[0m\u001b[1;33m)\u001b[0m\u001b[0;31m`\u001b[0m\u001b[0;31m`\u001b[0m \u001b[1;32mfor\u001b[0m \u001b[0mmore\u001b[0m \u001b[0minformation\u001b[0m\u001b[1;33m.\u001b[0m\u001b[1;33m\u001b[0m\u001b[0m\n\u001b[0;32m   3131\u001b[0m     \"\"\"\n\u001b[1;32m-> 3132\u001b[1;33m     \u001b[0mset_cmap\u001b[0m\u001b[1;33m(\u001b[0m\u001b[1;34m\"copper\"\u001b[0m\u001b[1;33m)\u001b[0m\u001b[1;33m\u001b[0m\u001b[0m\n\u001b[0m\u001b[0;32m   3133\u001b[0m \u001b[1;33m\u001b[0m\u001b[0m\n\u001b[0;32m   3134\u001b[0m \u001b[1;33m\u001b[0m\u001b[0m\n",
      "\u001b[1;32mC:\\Anaconda2\\envs\\py36\\lib\\site-packages\\matplotlib\\__init__.py\u001b[0m in \u001b[0;36minner\u001b[1;34m(ax, *args, **kwargs)\u001b[0m\n",
      "\u001b[1;32mC:\\Anaconda2\\envs\\py36\\lib\\site-packages\\matplotlib\\axes\\_axes.py\u001b[0m in \u001b[0;36mhist\u001b[1;34m(***failed resolving arguments***)\u001b[0m\n\u001b[0;32m   6528\u001b[0m \u001b[1;33m\u001b[0m\u001b[0m\n\u001b[0;32m   6529\u001b[0m             \u001b[1;33m(\u001b[0m\u001b[1;32mor\u001b[0m \u001b[0myou\u001b[0m \u001b[0mmay\u001b[0m \u001b[0malternatively\u001b[0m \u001b[0muse\u001b[0m\u001b[0;31m \u001b[0m\u001b[0;31m`\u001b[0m\u001b[1;33m~\u001b[0m\u001b[1;33m.\u001b[0m\u001b[0mbar\u001b[0m\u001b[1;33m(\u001b[0m\u001b[1;33m)\u001b[0m\u001b[0;31m`\u001b[0m\u001b[1;33m)\u001b[0m\u001b[1;33m.\u001b[0m\u001b[1;33m\u001b[0m\u001b[0m\n\u001b[1;32m-> 6530\u001b[1;33m \u001b[1;33m\u001b[0m\u001b[0m\n\u001b[0m\u001b[0;32m   6531\u001b[0m         \u001b[0mcumulative\u001b[0m \u001b[1;33m:\u001b[0m \u001b[0mbool\u001b[0m\u001b[1;33m,\u001b[0m \u001b[0moptional\u001b[0m\u001b[1;33m\u001b[0m\u001b[0m\n\u001b[0;32m   6532\u001b[0m             \u001b[0mIf\u001b[0m\u001b[0;31m \u001b[0m\u001b[0;31m`\u001b[0m\u001b[0;31m`\u001b[0m\u001b[1;32mTrue\u001b[0m\u001b[0;31m`\u001b[0m\u001b[0;31m`\u001b[0m\u001b[1;33m,\u001b[0m \u001b[0mthen\u001b[0m \u001b[0ma\u001b[0m \u001b[0mhistogram\u001b[0m \u001b[1;32mis\u001b[0m \u001b[0mcomputed\u001b[0m \u001b[0mwhere\u001b[0m \u001b[0meach\u001b[0m \u001b[0mbin\u001b[0m \u001b[0mgives\u001b[0m \u001b[0mthe\u001b[0m\u001b[1;33m\u001b[0m\u001b[0m\n",
      "\u001b[1;32m<__array_function__ internals>\u001b[0m in \u001b[0;36mhistogram\u001b[1;34m(*args, **kwargs)\u001b[0m\n",
      "\u001b[1;32mC:\\Anaconda2\\envs\\py36\\lib\\site-packages\\numpy\\lib\\histograms.py\u001b[0m in \u001b[0;36mhistogram\u001b[1;34m(a, bins, range, normed, weights, density)\u001b[0m\n\u001b[0;32m    783\u001b[0m     \u001b[0ma\u001b[0m\u001b[1;33m,\u001b[0m \u001b[0mweights\u001b[0m \u001b[1;33m=\u001b[0m \u001b[0m_ravel_and_check_weights\u001b[0m\u001b[1;33m(\u001b[0m\u001b[0ma\u001b[0m\u001b[1;33m,\u001b[0m \u001b[0mweights\u001b[0m\u001b[1;33m)\u001b[0m\u001b[1;33m\u001b[0m\u001b[0m\n\u001b[0;32m    784\u001b[0m \u001b[1;33m\u001b[0m\u001b[0m\n\u001b[1;32m--> 785\u001b[1;33m     \u001b[0mbin_edges\u001b[0m\u001b[1;33m,\u001b[0m \u001b[0muniform_bins\u001b[0m \u001b[1;33m=\u001b[0m \u001b[0m_get_bin_edges\u001b[0m\u001b[1;33m(\u001b[0m\u001b[0ma\u001b[0m\u001b[1;33m,\u001b[0m \u001b[0mbins\u001b[0m\u001b[1;33m,\u001b[0m \u001b[0mrange\u001b[0m\u001b[1;33m,\u001b[0m \u001b[0mweights\u001b[0m\u001b[1;33m)\u001b[0m\u001b[1;33m\u001b[0m\u001b[0m\n\u001b[0m\u001b[0;32m    786\u001b[0m \u001b[1;33m\u001b[0m\u001b[0m\n\u001b[0;32m    787\u001b[0m     \u001b[1;31m# Histogram is an integer or a float array depending on the weights.\u001b[0m\u001b[1;33m\u001b[0m\u001b[1;33m\u001b[0m\u001b[0m\n",
      "\u001b[1;32mC:\\Anaconda2\\envs\\py36\\lib\\site-packages\\numpy\\lib\\histograms.py\u001b[0m in \u001b[0;36m_get_bin_edges\u001b[1;34m(a, bins, range, weights)\u001b[0m\n\u001b[0;32m    417\u001b[0m             \u001b[1;32mraise\u001b[0m \u001b[0mValueError\u001b[0m\u001b[1;33m(\u001b[0m\u001b[1;34m'`bins` must be positive, when an integer'\u001b[0m\u001b[1;33m)\u001b[0m\u001b[1;33m\u001b[0m\u001b[0m\n\u001b[0;32m    418\u001b[0m \u001b[1;33m\u001b[0m\u001b[0m\n\u001b[1;32m--> 419\u001b[1;33m         \u001b[0mfirst_edge\u001b[0m\u001b[1;33m,\u001b[0m \u001b[0mlast_edge\u001b[0m \u001b[1;33m=\u001b[0m \u001b[0m_get_outer_edges\u001b[0m\u001b[1;33m(\u001b[0m\u001b[0ma\u001b[0m\u001b[1;33m,\u001b[0m \u001b[0mrange\u001b[0m\u001b[1;33m)\u001b[0m\u001b[1;33m\u001b[0m\u001b[0m\n\u001b[0m\u001b[0;32m    420\u001b[0m \u001b[1;33m\u001b[0m\u001b[0m\n\u001b[0;32m    421\u001b[0m     \u001b[1;32melif\u001b[0m \u001b[0mnp\u001b[0m\u001b[1;33m.\u001b[0m\u001b[0mndim\u001b[0m\u001b[1;33m(\u001b[0m\u001b[0mbins\u001b[0m\u001b[1;33m)\u001b[0m \u001b[1;33m==\u001b[0m \u001b[1;36m1\u001b[0m\u001b[1;33m:\u001b[0m\u001b[1;33m\u001b[0m\u001b[0m\n",
      "\u001b[1;32mC:\\Anaconda2\\envs\\py36\\lib\\site-packages\\numpy\\lib\\histograms.py\u001b[0m in \u001b[0;36m_get_outer_edges\u001b[1;34m(a, range)\u001b[0m\n\u001b[0;32m    304\u001b[0m         \u001b[1;32mif\u001b[0m \u001b[0mfirst_edge\u001b[0m \u001b[1;33m>\u001b[0m \u001b[0mlast_edge\u001b[0m\u001b[1;33m:\u001b[0m\u001b[1;33m\u001b[0m\u001b[0m\n\u001b[0;32m    305\u001b[0m             raise ValueError(\n\u001b[1;32m--> 306\u001b[1;33m                 'max must be larger than min in range parameter.')\n\u001b[0m\u001b[0;32m    307\u001b[0m         \u001b[1;32mif\u001b[0m \u001b[1;32mnot\u001b[0m \u001b[1;33m(\u001b[0m\u001b[0mnp\u001b[0m\u001b[1;33m.\u001b[0m\u001b[0misfinite\u001b[0m\u001b[1;33m(\u001b[0m\u001b[0mfirst_edge\u001b[0m\u001b[1;33m)\u001b[0m \u001b[1;32mand\u001b[0m \u001b[0mnp\u001b[0m\u001b[1;33m.\u001b[0m\u001b[0misfinite\u001b[0m\u001b[1;33m(\u001b[0m\u001b[0mlast_edge\u001b[0m\u001b[1;33m)\u001b[0m\u001b[1;33m)\u001b[0m\u001b[1;33m:\u001b[0m\u001b[1;33m\u001b[0m\u001b[0m\n\u001b[0;32m    308\u001b[0m             raise ValueError(\n",
      "\u001b[1;31mValueError\u001b[0m: max must be larger than min in range parameter."
     ]
    },
    {
     "data": {
      "image/png": "[encoded data removed]",
      "text/plain": [
       "<Figure size 720x720 with 20 Axes>"
      ]
     },
     "metadata": {},
     "output_type": "display_data"
    }
   ],
   "source": [
    "sns.pairplot(df)"
   ]
  },
  {
   "cell_type": "code",
   "execution_count": null,
   "metadata": {},
   "outputs": [],
   "source": []
  }
 ],
 "metadata": {
  "kernelspec": {
   "display_name": "Python 3",
   "language": "python",
   "name": "python3"
  },
  "language_info": {
   "codemirror_mode": {
    "name": "ipython",
    "version": 3
   },
   "file_extension": ".py",
   "mimetype": "text/x-python",
   "name": "python",
   "nbconvert_exporter": "python",
   "pygments_lexer": "ipython3",
   "version": "3.6.5"
  }
 },
 "nbformat": 4,
 "nbformat_minor": 2
}
