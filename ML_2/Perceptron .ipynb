{
 "cells": [
  {
   "cell_type": "code",
   "execution_count": 38,
   "metadata": {},
   "outputs": [],
   "source": [
    "import numpy as np\n",
    "class Perceptron:\n",
    "    def __init__(self,n_cols=2,lr=0.01,epochs=10):\n",
    "        self.epochs=epochs\n",
    "        self.lr=lr\n",
    "        self.slopes=np.zeros(n_cols)\n",
    "        \n",
    "    def neuron(self,z):\n",
    "        if z>0:\n",
    "            return 1\n",
    "        else:\n",
    "            return 0\n",
    "        \n",
    "    def predict(self,x):\n",
    "        z=np.dot(self.slopes,x)\n",
    "        return self.neuron(z)\n",
    "    \n",
    "    def fit(self,x,y):\n",
    "        for epochs in range(self.epochs):\n",
    "            print(epochs,self.slopes)\n",
    "            for xi,yi in zip(x,y):\n",
    "                yi_hat=self.predict(xi)\n",
    "                self.slopes=self.slopes+self.lr*(yi-yi_hat)*xi\n",
    "    \n",
    "        \n",
    "        \n",
    "        \n",
    "        "
   ]
  },
  {
   "cell_type": "code",
   "execution_count": 39,
   "metadata": {},
   "outputs": [],
   "source": [
    "from sklearn import datasets\n",
    "data=datasets.load_digits(n_class=2)\n",
    "X=data.data\n",
    "y=data.target"
   ]
  },
  {
   "cell_type": "code",
   "execution_count": 40,
   "metadata": {},
   "outputs": [],
   "source": [
    "import pandas as pd\n",
    "import numpy as np\n",
    "import matplotlib.pyplot as plt\n",
    "%matplotlib inline\n",
    "import seaborn as sns\n",
    "import scipy.stats as st"
   ]
  },
  {
   "cell_type": "code",
   "execution_count": 41,
   "metadata": {},
   "outputs": [
    {
     "data": {
      "text/plain": [
       "<matplotlib.image.AxesImage at 0xc73e438>"
      ]
     },
     "execution_count": 41,
     "metadata": {},
     "output_type": "execute_result"
    },
    {
     "data": {
      "image/png": "[encoded data removed]",
      "text/plain": [
       "<Figure size 432x288 with 1 Axes>"
      ]
     },
     "metadata": {
      "needs_background": "light"
     },
     "output_type": "display_data"
    }
   ],
   "source": [
    "plt.imshow(X[1].reshape(8,8))"
   ]
  },
  {
   "cell_type": "code",
   "execution_count": 42,
   "metadata": {},
   "outputs": [
    {
     "data": {
      "text/plain": [
       "<matplotlib.image.AxesImage at 0xc4e65c0>"
      ]
     },
     "execution_count": 42,
     "metadata": {},
     "output_type": "execute_result"
    },
    {
     "data": {
      "image/png": "[encoded data removed]",
      "text/plain": [
       "<Figure size 432x288 with 1 Axes>"
      ]
     },
     "metadata": {
      "needs_background": "light"
     },
     "output_type": "display_data"
    }
   ],
   "source": [
    "plt.imshow(X[0].reshape(8,8))"
   ]
  },
  {
   "cell_type": "code",
   "execution_count": 43,
   "metadata": {},
   "outputs": [
    {
     "data": {
      "text/plain": [
       "(360, 64)"
      ]
     },
     "execution_count": 43,
     "metadata": {},
     "output_type": "execute_result"
    }
   ],
   "source": [
    "X.shape"
   ]
  },
  {
   "cell_type": "code",
   "execution_count": 44,
   "metadata": {},
   "outputs": [],
   "source": [
    "#Normalizing data so that its between 0-1\n",
    "X=X/255.0"
   ]
  },
  {
   "cell_type": "code",
   "execution_count": 45,
   "metadata": {},
   "outputs": [
    {
     "data": {
      "text/plain": [
       "array([[0.        , 0.        , 0.01960784, ..., 0.        , 0.        ,\n",
       "        1.        ],\n",
       "       [0.        , 0.        , 0.        , ..., 0.        , 0.        ,\n",
       "        1.        ],\n",
       "       [0.        , 0.        , 0.00392157, ..., 0.        , 0.        ,\n",
       "        1.        ],\n",
       "       ...,\n",
       "       [0.        , 0.        , 0.01960784, ..., 0.00392157, 0.        ,\n",
       "        1.        ],\n",
       "       [0.        , 0.        , 0.02352941, ..., 0.        , 0.        ,\n",
       "        1.        ],\n",
       "       [0.        , 0.        , 0.02352941, ..., 0.        , 0.        ,\n",
       "        1.        ]])"
      ]
     },
     "execution_count": 45,
     "metadata": {},
     "output_type": "execute_result"
    }
   ],
   "source": [
    "#Adding intercept as 1 to the dataframe \n",
    "np.c_[X,np.ones(X.shape[0])]"
   ]
  },
  {
   "cell_type": "code",
   "execution_count": 46,
   "metadata": {},
   "outputs": [
    {
     "name": "stdout",
     "output_type": "stream",
     "text": [
      "0 [0. 0. 0. 0. 0. 0. 0. 0. 0. 0. 0. 0. 0. 0. 0. 0. 0. 0. 0. 0. 0. 0. 0. 0.\n",
      " 0. 0. 0. 0. 0. 0. 0. 0. 0. 0. 0. 0. 0. 0. 0. 0. 0. 0. 0. 0. 0. 0. 0. 0.\n",
      " 0. 0. 0. 0. 0. 0. 0. 0. 0. 0. 0. 0. 0. 0. 0. 0.]\n",
      "1 [ 0.00000000e+00  0.00000000e+00 -3.13725490e-04 -4.70588235e-04\n",
      " -3.13725490e-04  3.52941176e-04  2.74509804e-04  0.00000000e+00\n",
      "  0.00000000e+00 -1.96078431e-04 -9.01960784e-04 -1.96078431e-04\n",
      "  3.13725490e-04  1.17647059e-04 -1.56862745e-04  0.00000000e+00\n",
      "  0.00000000e+00 -1.17647059e-04 -3.13725490e-04  7.84313725e-04\n",
      "  9.80392157e-04 -1.17647059e-04 -3.92156863e-04  0.00000000e+00\n",
      "  0.00000000e+00 -1.17647059e-04 -7.84313725e-05  4.70588235e-04\n",
      "  9.41176471e-04 -3.92156863e-05 -6.66666667e-04  0.00000000e+00\n",
      "  0.00000000e+00 -5.88235294e-04 -9.01960784e-04  4.70588235e-04\n",
      "  9.41176471e-04  1.17647059e-04 -5.88235294e-04  0.00000000e+00\n",
      "  0.00000000e+00 -3.52941176e-04 -1.09803922e-03  4.31372549e-04\n",
      "  9.01960784e-04 -3.92156863e-05 -3.52941176e-04  0.00000000e+00\n",
      "  0.00000000e+00 -7.84313725e-05 -1.05882353e-03 -1.96078431e-04\n",
      "  7.84313725e-05 -1.17647059e-04  1.96078431e-04  0.00000000e+00\n",
      "  0.00000000e+00  0.00000000e+00 -3.52941176e-04 -5.88235294e-04\n",
      "  7.84313725e-05  7.05882353e-04  2.74509804e-04  0.00000000e+00]\n",
      "2 [ 0.00000000e+00  0.00000000e+00 -1.96078431e-04 -2.74509804e-04\n",
      "  1.17647059e-04  6.27450980e-04  2.74509804e-04  0.00000000e+00\n",
      "  0.00000000e+00 -1.56862745e-04 -8.62745098e-04 -1.96078431e-04\n",
      "  3.13725490e-04 -2.35294118e-04 -1.56862745e-04  0.00000000e+00\n",
      "  0.00000000e+00 -1.17647059e-04 -3.13725490e-04  1.05882353e-03\n",
      "  1.29411765e-03 -5.88235294e-04 -5.49019608e-04  0.00000000e+00\n",
      "  0.00000000e+00 -2.74509804e-04  3.92156863e-05  1.09803922e-03\n",
      "  1.41176471e-03 -2.74509804e-04 -9.01960784e-04  0.00000000e+00\n",
      "  0.00000000e+00 -4.70588235e-04 -7.84313725e-04  1.09803922e-03\n",
      "  1.45098039e-03 -7.84313725e-05 -9.41176471e-04  0.00000000e+00\n",
      "  0.00000000e+00 -4.31372549e-04 -1.09803922e-03  1.05882353e-03\n",
      "  1.33333333e-03 -2.74509804e-04 -6.66666667e-04  0.00000000e+00\n",
      "  0.00000000e+00 -7.84313725e-05 -9.41176471e-04 -3.92156863e-05\n",
      "  1.56862745e-04 -7.45098039e-04 -7.84313725e-05  0.00000000e+00\n",
      "  0.00000000e+00  0.00000000e+00 -2.35294118e-04 -5.09803922e-04\n",
      "  1.96078431e-04  3.13725490e-04  2.74509804e-04  0.00000000e+00]\n",
      "3 [ 0.00000000e+00  0.00000000e+00 -1.96078431e-04 -2.74509804e-04\n",
      "  1.17647059e-04  6.27450980e-04  2.74509804e-04  0.00000000e+00\n",
      "  0.00000000e+00 -1.56862745e-04 -8.62745098e-04 -1.96078431e-04\n",
      "  3.13725490e-04 -2.35294118e-04 -1.56862745e-04  0.00000000e+00\n",
      "  0.00000000e+00 -1.17647059e-04 -3.13725490e-04  1.05882353e-03\n",
      "  1.29411765e-03 -5.88235294e-04 -5.49019608e-04  0.00000000e+00\n",
      "  0.00000000e+00 -2.74509804e-04  3.92156863e-05  1.09803922e-03\n",
      "  1.41176471e-03 -2.74509804e-04 -9.01960784e-04  0.00000000e+00\n",
      "  0.00000000e+00 -4.70588235e-04 -7.84313725e-04  1.09803922e-03\n",
      "  1.45098039e-03 -7.84313725e-05 -9.41176471e-04  0.00000000e+00\n",
      "  0.00000000e+00 -4.31372549e-04 -1.09803922e-03  1.05882353e-03\n",
      "  1.33333333e-03 -2.74509804e-04 -6.66666667e-04  0.00000000e+00\n",
      "  0.00000000e+00 -7.84313725e-05 -9.41176471e-04 -3.92156863e-05\n",
      "  1.56862745e-04 -7.45098039e-04 -7.84313725e-05  0.00000000e+00\n",
      "  0.00000000e+00  0.00000000e+00 -2.35294118e-04 -5.09803922e-04\n",
      "  1.96078431e-04  3.13725490e-04  2.74509804e-04  0.00000000e+00]\n",
      "4 [ 0.00000000e+00  0.00000000e+00 -1.96078431e-04 -2.74509804e-04\n",
      "  1.17647059e-04  6.27450980e-04  2.74509804e-04  0.00000000e+00\n",
      "  0.00000000e+00 -1.56862745e-04 -8.62745098e-04 -1.96078431e-04\n",
      "  3.13725490e-04 -2.35294118e-04 -1.56862745e-04  0.00000000e+00\n",
      "  0.00000000e+00 -1.17647059e-04 -3.13725490e-04  1.05882353e-03\n",
      "  1.29411765e-03 -5.88235294e-04 -5.49019608e-04  0.00000000e+00\n",
      "  0.00000000e+00 -2.74509804e-04  3.92156863e-05  1.09803922e-03\n",
      "  1.41176471e-03 -2.74509804e-04 -9.01960784e-04  0.00000000e+00\n",
      "  0.00000000e+00 -4.70588235e-04 -7.84313725e-04  1.09803922e-03\n",
      "  1.45098039e-03 -7.84313725e-05 -9.41176471e-04  0.00000000e+00\n",
      "  0.00000000e+00 -4.31372549e-04 -1.09803922e-03  1.05882353e-03\n",
      "  1.33333333e-03 -2.74509804e-04 -6.66666667e-04  0.00000000e+00\n",
      "  0.00000000e+00 -7.84313725e-05 -9.41176471e-04 -3.92156863e-05\n",
      "  1.56862745e-04 -7.45098039e-04 -7.84313725e-05  0.00000000e+00\n",
      "  0.00000000e+00  0.00000000e+00 -2.35294118e-04 -5.09803922e-04\n",
      "  1.96078431e-04  3.13725490e-04  2.74509804e-04  0.00000000e+00]\n",
      "5 [ 0.00000000e+00  0.00000000e+00 -1.96078431e-04 -2.74509804e-04\n",
      "  1.17647059e-04  6.27450980e-04  2.74509804e-04  0.00000000e+00\n",
      "  0.00000000e+00 -1.56862745e-04 -8.62745098e-04 -1.96078431e-04\n",
      "  3.13725490e-04 -2.35294118e-04 -1.56862745e-04  0.00000000e+00\n",
      "  0.00000000e+00 -1.17647059e-04 -3.13725490e-04  1.05882353e-03\n",
      "  1.29411765e-03 -5.88235294e-04 -5.49019608e-04  0.00000000e+00\n",
      "  0.00000000e+00 -2.74509804e-04  3.92156863e-05  1.09803922e-03\n",
      "  1.41176471e-03 -2.74509804e-04 -9.01960784e-04  0.00000000e+00\n",
      "  0.00000000e+00 -4.70588235e-04 -7.84313725e-04  1.09803922e-03\n",
      "  1.45098039e-03 -7.84313725e-05 -9.41176471e-04  0.00000000e+00\n",
      "  0.00000000e+00 -4.31372549e-04 -1.09803922e-03  1.05882353e-03\n",
      "  1.33333333e-03 -2.74509804e-04 -6.66666667e-04  0.00000000e+00\n",
      "  0.00000000e+00 -7.84313725e-05 -9.41176471e-04 -3.92156863e-05\n",
      "  1.56862745e-04 -7.45098039e-04 -7.84313725e-05  0.00000000e+00\n",
      "  0.00000000e+00  0.00000000e+00 -2.35294118e-04 -5.09803922e-04\n",
      "  1.96078431e-04  3.13725490e-04  2.74509804e-04  0.00000000e+00]\n",
      "6 [ 0.00000000e+00  0.00000000e+00 -1.96078431e-04 -2.74509804e-04\n",
      "  1.17647059e-04  6.27450980e-04  2.74509804e-04  0.00000000e+00\n",
      "  0.00000000e+00 -1.56862745e-04 -8.62745098e-04 -1.96078431e-04\n",
      "  3.13725490e-04 -2.35294118e-04 -1.56862745e-04  0.00000000e+00\n",
      "  0.00000000e+00 -1.17647059e-04 -3.13725490e-04  1.05882353e-03\n",
      "  1.29411765e-03 -5.88235294e-04 -5.49019608e-04  0.00000000e+00\n",
      "  0.00000000e+00 -2.74509804e-04  3.92156863e-05  1.09803922e-03\n",
      "  1.41176471e-03 -2.74509804e-04 -9.01960784e-04  0.00000000e+00\n",
      "  0.00000000e+00 -4.70588235e-04 -7.84313725e-04  1.09803922e-03\n",
      "  1.45098039e-03 -7.84313725e-05 -9.41176471e-04  0.00000000e+00\n",
      "  0.00000000e+00 -4.31372549e-04 -1.09803922e-03  1.05882353e-03\n",
      "  1.33333333e-03 -2.74509804e-04 -6.66666667e-04  0.00000000e+00\n",
      "  0.00000000e+00 -7.84313725e-05 -9.41176471e-04 -3.92156863e-05\n",
      "  1.56862745e-04 -7.45098039e-04 -7.84313725e-05  0.00000000e+00\n",
      "  0.00000000e+00  0.00000000e+00 -2.35294118e-04 -5.09803922e-04\n",
      "  1.96078431e-04  3.13725490e-04  2.74509804e-04  0.00000000e+00]\n",
      "7 [ 0.00000000e+00  0.00000000e+00 -1.96078431e-04 -2.74509804e-04\n",
      "  1.17647059e-04  6.27450980e-04  2.74509804e-04  0.00000000e+00\n",
      "  0.00000000e+00 -1.56862745e-04 -8.62745098e-04 -1.96078431e-04\n",
      "  3.13725490e-04 -2.35294118e-04 -1.56862745e-04  0.00000000e+00\n",
      "  0.00000000e+00 -1.17647059e-04 -3.13725490e-04  1.05882353e-03\n",
      "  1.29411765e-03 -5.88235294e-04 -5.49019608e-04  0.00000000e+00\n",
      "  0.00000000e+00 -2.74509804e-04  3.92156863e-05  1.09803922e-03\n",
      "  1.41176471e-03 -2.74509804e-04 -9.01960784e-04  0.00000000e+00\n",
      "  0.00000000e+00 -4.70588235e-04 -7.84313725e-04  1.09803922e-03\n",
      "  1.45098039e-03 -7.84313725e-05 -9.41176471e-04  0.00000000e+00\n",
      "  0.00000000e+00 -4.31372549e-04 -1.09803922e-03  1.05882353e-03\n",
      "  1.33333333e-03 -2.74509804e-04 -6.66666667e-04  0.00000000e+00\n",
      "  0.00000000e+00 -7.84313725e-05 -9.41176471e-04 -3.92156863e-05\n",
      "  1.56862745e-04 -7.45098039e-04 -7.84313725e-05  0.00000000e+00\n",
      "  0.00000000e+00  0.00000000e+00 -2.35294118e-04 -5.09803922e-04\n",
      "  1.96078431e-04  3.13725490e-04  2.74509804e-04  0.00000000e+00]\n",
      "8 [ 0.00000000e+00  0.00000000e+00 -1.96078431e-04 -2.74509804e-04\n",
      "  1.17647059e-04  6.27450980e-04  2.74509804e-04  0.00000000e+00\n",
      "  0.00000000e+00 -1.56862745e-04 -8.62745098e-04 -1.96078431e-04\n",
      "  3.13725490e-04 -2.35294118e-04 -1.56862745e-04  0.00000000e+00\n",
      "  0.00000000e+00 -1.17647059e-04 -3.13725490e-04  1.05882353e-03\n",
      "  1.29411765e-03 -5.88235294e-04 -5.49019608e-04  0.00000000e+00\n",
      "  0.00000000e+00 -2.74509804e-04  3.92156863e-05  1.09803922e-03\n",
      "  1.41176471e-03 -2.74509804e-04 -9.01960784e-04  0.00000000e+00\n",
      "  0.00000000e+00 -4.70588235e-04 -7.84313725e-04  1.09803922e-03\n",
      "  1.45098039e-03 -7.84313725e-05 -9.41176471e-04  0.00000000e+00\n",
      "  0.00000000e+00 -4.31372549e-04 -1.09803922e-03  1.05882353e-03\n",
      "  1.33333333e-03 -2.74509804e-04 -6.66666667e-04  0.00000000e+00\n",
      "  0.00000000e+00 -7.84313725e-05 -9.41176471e-04 -3.92156863e-05\n",
      "  1.56862745e-04 -7.45098039e-04 -7.84313725e-05  0.00000000e+00\n",
      "  0.00000000e+00  0.00000000e+00 -2.35294118e-04 -5.09803922e-04\n",
      "  1.96078431e-04  3.13725490e-04  2.74509804e-04  0.00000000e+00]\n",
      "9 [ 0.00000000e+00  0.00000000e+00 -1.96078431e-04 -2.74509804e-04\n",
      "  1.17647059e-04  6.27450980e-04  2.74509804e-04  0.00000000e+00\n",
      "  0.00000000e+00 -1.56862745e-04 -8.62745098e-04 -1.96078431e-04\n",
      "  3.13725490e-04 -2.35294118e-04 -1.56862745e-04  0.00000000e+00\n",
      "  0.00000000e+00 -1.17647059e-04 -3.13725490e-04  1.05882353e-03\n",
      "  1.29411765e-03 -5.88235294e-04 -5.49019608e-04  0.00000000e+00\n",
      "  0.00000000e+00 -2.74509804e-04  3.92156863e-05  1.09803922e-03\n",
      "  1.41176471e-03 -2.74509804e-04 -9.01960784e-04  0.00000000e+00\n",
      "  0.00000000e+00 -4.70588235e-04 -7.84313725e-04  1.09803922e-03\n",
      "  1.45098039e-03 -7.84313725e-05 -9.41176471e-04  0.00000000e+00\n",
      "  0.00000000e+00 -4.31372549e-04 -1.09803922e-03  1.05882353e-03\n",
      "  1.33333333e-03 -2.74509804e-04 -6.66666667e-04  0.00000000e+00\n",
      "  0.00000000e+00 -7.84313725e-05 -9.41176471e-04 -3.92156863e-05\n",
      "  1.56862745e-04 -7.45098039e-04 -7.84313725e-05  0.00000000e+00\n",
      "  0.00000000e+00  0.00000000e+00 -2.35294118e-04 -5.09803922e-04\n",
      "  1.96078431e-04  3.13725490e-04  2.74509804e-04  0.00000000e+00]\n"
     ]
    }
   ],
   "source": [
    "clf=Perceptron(n_cols=X.shape[1])\n",
    "clf.fit(X,y)"
   ]
  },
  {
   "cell_type": "code",
   "execution_count": 47,
   "metadata": {},
   "outputs": [],
   "source": [
    "y_hat=[]\n",
    "for xi in X:\n",
    "    y_hat.append(clf.predict(xi))\n",
    "    "
   ]
  },
  {
   "cell_type": "code",
   "execution_count": 48,
   "metadata": {},
   "outputs": [
    {
     "data": {
      "text/plain": [
       "1.0"
      ]
     },
     "execution_count": 48,
     "metadata": {},
     "output_type": "execute_result"
    }
   ],
   "source": [
    "from sklearn.metrics import accuracy_score\n",
    "accuracy_score(y,y_hat)"
   ]
  }
 ],
 "metadata": {
  "kernelspec": {
   "display_name": "Python 3",
   "language": "python",
   "name": "python3"
  },
  "language_info": {
   "codemirror_mode": {
    "name": "ipython",
    "version": 3
   },
   "file_extension": ".py",
   "mimetype": "text/x-python",
   "name": "python",
   "nbconvert_exporter": "python",
   "pygments_lexer": "ipython3",
   "version": "3.6.5"
  }
 },
 "nbformat": 4,
 "nbformat_minor": 2
}
