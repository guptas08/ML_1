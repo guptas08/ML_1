{
 "cells": [
  {
   "cell_type": "code",
   "execution_count": 1,
   "metadata": {},
   "outputs": [],
   "source": [
    "import pandas as pd\n",
    "import numpy as np\n",
    "import matplotlib.pyplot as plt\n",
    "import seaborn as sns\n",
    "%matplotlib inline"
   ]
  },
  {
   "cell_type": "code",
   "execution_count": 2,
   "metadata": {},
   "outputs": [
    {
     "data": {
      "text/html": [
       "<div>\n",
       "<style scoped>\n",
       "    .dataframe tbody tr th:only-of-type {\n",
       "        vertical-align: middle;\n",
       "    }\n",
       "\n",
       "    .dataframe tbody tr th {\n",
       "        vertical-align: top;\n",
       "    }\n",
       "\n",
       "    .dataframe thead th {\n",
       "        text-align: right;\n",
       "    }\n",
       "</style>\n",
       "<table border=\"1\" class=\"dataframe\">\n",
       "  <thead>\n",
       "    <tr style=\"text-align: right;\">\n",
       "      <th></th>\n",
       "      <th>Loan_ID</th>\n",
       "      <th>Gender</th>\n",
       "      <th>Married</th>\n",
       "      <th>Dependents</th>\n",
       "      <th>Education</th>\n",
       "      <th>Self_Employed</th>\n",
       "      <th>ApplicantIncome</th>\n",
       "      <th>CoapplicantIncome</th>\n",
       "      <th>LoanAmount</th>\n",
       "      <th>Loan_Amount_Term</th>\n",
       "      <th>Credit_History</th>\n",
       "      <th>Property_Area</th>\n",
       "      <th>Loan_Status</th>\n",
       "    </tr>\n",
       "  </thead>\n",
       "  <tbody>\n",
       "    <tr>\n",
       "      <td>0</td>\n",
       "      <td>LP001002</td>\n",
       "      <td>Male</td>\n",
       "      <td>No</td>\n",
       "      <td>0</td>\n",
       "      <td>Graduate</td>\n",
       "      <td>No</td>\n",
       "      <td>5849</td>\n",
       "      <td>0.0</td>\n",
       "      <td>NaN</td>\n",
       "      <td>360.0</td>\n",
       "      <td>1.0</td>\n",
       "      <td>Urban</td>\n",
       "      <td>Y</td>\n",
       "    </tr>\n",
       "    <tr>\n",
       "      <td>1</td>\n",
       "      <td>LP001003</td>\n",
       "      <td>Male</td>\n",
       "      <td>Yes</td>\n",
       "      <td>1</td>\n",
       "      <td>Graduate</td>\n",
       "      <td>No</td>\n",
       "      <td>4583</td>\n",
       "      <td>1508.0</td>\n",
       "      <td>128.0</td>\n",
       "      <td>360.0</td>\n",
       "      <td>1.0</td>\n",
       "      <td>Rural</td>\n",
       "      <td>N</td>\n",
       "    </tr>\n",
       "    <tr>\n",
       "      <td>2</td>\n",
       "      <td>LP001005</td>\n",
       "      <td>Male</td>\n",
       "      <td>Yes</td>\n",
       "      <td>0</td>\n",
       "      <td>Graduate</td>\n",
       "      <td>Yes</td>\n",
       "      <td>3000</td>\n",
       "      <td>0.0</td>\n",
       "      <td>66.0</td>\n",
       "      <td>360.0</td>\n",
       "      <td>1.0</td>\n",
       "      <td>Urban</td>\n",
       "      <td>Y</td>\n",
       "    </tr>\n",
       "    <tr>\n",
       "      <td>3</td>\n",
       "      <td>LP001006</td>\n",
       "      <td>Male</td>\n",
       "      <td>Yes</td>\n",
       "      <td>0</td>\n",
       "      <td>Not Graduate</td>\n",
       "      <td>No</td>\n",
       "      <td>2583</td>\n",
       "      <td>2358.0</td>\n",
       "      <td>120.0</td>\n",
       "      <td>360.0</td>\n",
       "      <td>1.0</td>\n",
       "      <td>Urban</td>\n",
       "      <td>Y</td>\n",
       "    </tr>\n",
       "    <tr>\n",
       "      <td>4</td>\n",
       "      <td>LP001008</td>\n",
       "      <td>Male</td>\n",
       "      <td>No</td>\n",
       "      <td>0</td>\n",
       "      <td>Graduate</td>\n",
       "      <td>No</td>\n",
       "      <td>6000</td>\n",
       "      <td>0.0</td>\n",
       "      <td>141.0</td>\n",
       "      <td>360.0</td>\n",
       "      <td>1.0</td>\n",
       "      <td>Urban</td>\n",
       "      <td>Y</td>\n",
       "    </tr>\n",
       "  </tbody>\n",
       "</table>\n",
       "</div>"
      ],
      "text/plain": [
       "    Loan_ID Gender Married Dependents     Education Self_Employed  \\\n",
       "0  LP001002   Male      No          0      Graduate            No   \n",
       "1  LP001003   Male     Yes          1      Graduate            No   \n",
       "2  LP001005   Male     Yes          0      Graduate           Yes   \n",
       "3  LP001006   Male     Yes          0  Not Graduate            No   \n",
       "4  LP001008   Male      No          0      Graduate            No   \n",
       "\n",
       "   ApplicantIncome  CoapplicantIncome  LoanAmount  Loan_Amount_Term  \\\n",
       "0             5849                0.0         NaN             360.0   \n",
       "1             4583             1508.0       128.0             360.0   \n",
       "2             3000                0.0        66.0             360.0   \n",
       "3             2583             2358.0       120.0             360.0   \n",
       "4             6000                0.0       141.0             360.0   \n",
       "\n",
       "   Credit_History Property_Area Loan_Status  \n",
       "0             1.0         Urban           Y  \n",
       "1             1.0         Rural           N  \n",
       "2             1.0         Urban           Y  \n",
       "3             1.0         Urban           Y  \n",
       "4             1.0         Urban           Y  "
      ]
     },
     "execution_count": 2,
     "metadata": {},
     "output_type": "execute_result"
    }
   ],
   "source": [
    "df=pd.read_csv(\"credit_risk.csv\")\n",
    "df.head()"
   ]
  },
  {
   "cell_type": "code",
   "execution_count": 3,
   "metadata": {},
   "outputs": [
    {
     "data": {
      "text/plain": [
       "Loan_ID              0.000000\n",
       "Gender               0.021173\n",
       "Married              0.004886\n",
       "Dependents           0.024430\n",
       "Education            0.000000\n",
       "Self_Employed        0.052117\n",
       "ApplicantIncome      0.000000\n",
       "CoapplicantIncome    0.000000\n",
       "LoanAmount           0.035831\n",
       "Loan_Amount_Term     0.022801\n",
       "Credit_History       0.081433\n",
       "Property_Area        0.000000\n",
       "Loan_Status          0.000000\n",
       "dtype: float64"
      ]
     },
     "execution_count": 3,
     "metadata": {},
     "output_type": "execute_result"
    }
   ],
   "source": [
    "df.isna().sum()/len(df)"
   ]
  },
  {
   "cell_type": "code",
   "execution_count": 4,
   "metadata": {},
   "outputs": [
    {
     "data": {
      "text/plain": [
       "614"
      ]
     },
     "execution_count": 4,
     "metadata": {},
     "output_type": "execute_result"
    }
   ],
   "source": [
    "len(df)"
   ]
  },
  {
   "cell_type": "code",
   "execution_count": 5,
   "metadata": {},
   "outputs": [],
   "source": [
    "data=df.dropna()"
   ]
  },
  {
   "cell_type": "code",
   "execution_count": 6,
   "metadata": {},
   "outputs": [
    {
     "data": {
      "text/plain": [
       "480"
      ]
     },
     "execution_count": 6,
     "metadata": {},
     "output_type": "execute_result"
    }
   ],
   "source": [
    "len(data)"
   ]
  },
  {
   "cell_type": "markdown",
   "metadata": {},
   "source": [
    "# Exploratory Data Analysis"
   ]
  },
  {
   "cell_type": "code",
   "execution_count": 7,
   "metadata": {},
   "outputs": [
    {
     "data": {
      "text/plain": [
       "<matplotlib.axes._subplots.AxesSubplot at 0x15cf9413208>"
      ]
     },
     "execution_count": 7,
     "metadata": {},
     "output_type": "execute_result"
    },
    {
     "data": {
      "image/png": "[encoded data removed]",
      "text/plain": [
       "<Figure size 432x288 with 1 Axes>"
      ]
     },
     "metadata": {
      "needs_background": "light"
     },
     "output_type": "display_data"
    }
   ],
   "source": [
    "#1: Applicant and coapplicant \n",
    "sns.barplot(x='Loan_Status',y='ApplicantIncome',data=data)"
   ]
  },
  {
   "cell_type": "code",
   "execution_count": 8,
   "metadata": {},
   "outputs": [
    {
     "data": {
      "text/plain": [
       "Property_Area  Loan_Status\n",
       "Rural          N               54\n",
       "               Y               85\n",
       "Semiurban      N               42\n",
       "               Y              149\n",
       "Urban          N               52\n",
       "               Y               98\n",
       "Name: Loan_Status, dtype: int64"
      ]
     },
     "execution_count": 8,
     "metadata": {},
     "output_type": "execute_result"
    }
   ],
   "source": [
    "data.groupby(['Property_Area','Loan_Status'])['Loan_Status'].count()"
   ]
  },
  {
   "cell_type": "code",
   "execution_count": 9,
   "metadata": {},
   "outputs": [
    {
     "data": {
      "text/plain": [
       "Property_Area  Loan_Status\n",
       "Rural          N              0.388489\n",
       "               Y              0.611511\n",
       "Semiurban      N              0.219895\n",
       "               Y              0.780105\n",
       "Urban          N              0.346667\n",
       "               Y              0.653333\n",
       "Name: Loan_Status, dtype: float64"
      ]
     },
     "execution_count": 9,
     "metadata": {},
     "output_type": "execute_result"
    }
   ],
   "source": [
    "data.groupby(['Property_Area','Loan_Status'])['Loan_Status'].count()\\\n",
    "        /data.groupby(['Property_Area'])['Loan_Status'].count()"
   ]
  },
  {
   "cell_type": "code",
   "execution_count": 10,
   "metadata": {},
   "outputs": [
    {
     "data": {
      "text/plain": [
       "Credit_History  Loan_Status\n",
       "0.0             N              0.900000\n",
       "                Y              0.100000\n",
       "1.0             N              0.207317\n",
       "                Y              0.792683\n",
       "Name: Loan_Status, dtype: float64"
      ]
     },
     "execution_count": 10,
     "metadata": {},
     "output_type": "execute_result"
    }
   ],
   "source": [
    "data.groupby(['Credit_History','Loan_Status'])['Loan_Status'].count()\\\n",
    "        /data.groupby(['Credit_History'])['Loan_Status'].count()"
   ]
  },
  {
   "cell_type": "code",
   "execution_count": 11,
   "metadata": {},
   "outputs": [
    {
     "data": {
      "text/plain": [
       "360.0    0.856250\n",
       "180.0    0.075000\n",
       "480.0    0.025000\n",
       "300.0    0.018750\n",
       "84.0     0.006250\n",
       "120.0    0.006250\n",
       "36.0     0.004167\n",
       "240.0    0.004167\n",
       "60.0     0.004167\n",
       "Name: Loan_Amount_Term, dtype: float64"
      ]
     },
     "execution_count": 11,
     "metadata": {},
     "output_type": "execute_result"
    }
   ],
   "source": [
    "data.Loan_Amount_Term.value_counts()/len(data.Loan_Amount_Term)"
   ]
  },
  {
   "cell_type": "code",
   "execution_count": 12,
   "metadata": {},
   "outputs": [
    {
     "data": {
      "text/plain": [
       "Married  Loan_Status\n",
       "No       N              0.378698\n",
       "         Y              0.621302\n",
       "Yes      N              0.270096\n",
       "         Y              0.729904\n",
       "Name: Loan_Status, dtype: float64"
      ]
     },
     "execution_count": 12,
     "metadata": {},
     "output_type": "execute_result"
    }
   ],
   "source": [
    "data.groupby(['Married','Loan_Status'])['Loan_Status'].count()\\\n",
    "        /data.groupby(['Married'])['Loan_Status'].count()"
   ]
  },
  {
   "cell_type": "code",
   "execution_count": 13,
   "metadata": {},
   "outputs": [
    {
     "data": {
      "text/plain": [
       "Education     Loan_Status\n",
       "Graduate      N              0.292428\n",
       "              Y              0.707572\n",
       "Not Graduate  N              0.371134\n",
       "              Y              0.628866\n",
       "Name: Loan_Status, dtype: float64"
      ]
     },
     "execution_count": 13,
     "metadata": {},
     "output_type": "execute_result"
    }
   ],
   "source": [
    "data.groupby(['Education','Loan_Status'])['Loan_Status'].count()\\\n",
    "        /data.groupby(['Education'])['Loan_Status'].count()"
   ]
  },
  {
   "cell_type": "code",
   "execution_count": 14,
   "metadata": {},
   "outputs": [],
   "source": [
    "output=data[data.CoapplicantIncome==0].groupby(['Married','Loan_Status'])['Loan_Status'].count()\\\n",
    "        /data[data.CoapplicantIncome==0].groupby(['Married'])['Loan_Status'].count()"
   ]
  },
  {
   "cell_type": "code",
   "execution_count": 15,
   "metadata": {},
   "outputs": [
    {
     "data": {
      "text/plain": [
       "<matplotlib.axes._subplots.AxesSubplot at 0x15cf971b208>"
      ]
     },
     "execution_count": 15,
     "metadata": {},
     "output_type": "execute_result"
    },
    {
     "data": {
      "image/png": "[encoded data removed]",
      "text/plain": [
       "<Figure size 432x288 with 1 Axes>"
      ]
     },
     "metadata": {
      "needs_background": "light"
     },
     "output_type": "display_data"
    }
   ],
   "source": [
    "sns.barplot(output.index,output)"
   ]
  },
  {
   "cell_type": "code",
   "execution_count": 16,
   "metadata": {},
   "outputs": [
    {
     "data": {
      "text/plain": [
       "Education     Self_Employed\n",
       "Graduate      No               0.861619\n",
       "              Yes              0.138381\n",
       "Not Graduate  No               0.865979\n",
       "              Yes              0.134021\n",
       "Name: Loan_ID, dtype: float64"
      ]
     },
     "execution_count": 16,
     "metadata": {},
     "output_type": "execute_result"
    }
   ],
   "source": [
    "data.groupby(['Education','Self_Employed'])['Loan_ID'].count()\\\n",
    "        /data.groupby(['Education'])['Loan_ID'].count()"
   ]
  },
  {
   "cell_type": "code",
   "execution_count": 17,
   "metadata": {},
   "outputs": [
    {
     "data": {
      "text/plain": [
       "Education     Self_Employed\n",
       "Graduate      No               330\n",
       "              Yes               53\n",
       "Not Graduate  No                84\n",
       "              Yes               13\n",
       "Name: Loan_ID, dtype: int64"
      ]
     },
     "execution_count": 17,
     "metadata": {},
     "output_type": "execute_result"
    }
   ],
   "source": [
    "data.groupby(['Education','Self_Employed'])['Loan_ID'].count()\\\n"
   ]
  },
  {
   "cell_type": "code",
   "execution_count": 18,
   "metadata": {},
   "outputs": [
    {
     "data": {
      "text/plain": [
       "334.90909090909093"
      ]
     },
     "execution_count": 18,
     "metadata": {},
     "output_type": "execute_result"
    }
   ],
   "source": [
    "data[(data.Dependents.isin([\"2\",\"3+\"]))&(data.Gender==\"Male\")]\\\n",
    "                .Loan_Amount_Term.mean()"
   ]
  },
  {
   "cell_type": "code",
   "execution_count": 19,
   "metadata": {},
   "outputs": [
    {
     "data": {
      "text/plain": [
       "341.31868131868134"
      ]
     },
     "execution_count": 19,
     "metadata": {},
     "output_type": "execute_result"
    }
   ],
   "source": [
    "data[(data.Dependents.isin([\"0\",\"1\"]))&(data.Gender==\"Male\")]\\\n",
    "                .Loan_Amount_Term.mean()"
   ]
  },
  {
   "cell_type": "code",
   "execution_count": 20,
   "metadata": {},
   "outputs": [
    {
     "data": {
      "text/plain": [
       "384.0"
      ]
     },
     "execution_count": 20,
     "metadata": {},
     "output_type": "execute_result"
    }
   ],
   "source": [
    "data[(data.Dependents.isin([\"2\",\"3+\"]))&(data.Gender==\"Female\")]\\\n",
    "                .Loan_Amount_Term.mean()"
   ]
  },
  {
   "cell_type": "code",
   "execution_count": 21,
   "metadata": {},
   "outputs": [
    {
     "data": {
      "text/plain": [
       "352.5925925925926"
      ]
     },
     "execution_count": 21,
     "metadata": {},
     "output_type": "execute_result"
    }
   ],
   "source": [
    "data[(data.Dependents.isin([\"1\",\"0\"]))&(data.Gender==\"Female\")]\\\n",
    "                .Loan_Amount_Term.mean()"
   ]
  },
  {
   "cell_type": "code",
   "execution_count": 22,
   "metadata": {},
   "outputs": [
    {
     "data": {
      "text/plain": [
       "Gender  Married  Property_Area  Loan_Status\n",
       "Female  No       Rural          N              0.375000\n",
       "                                Y              0.625000\n",
       "                 Semiurban      N              0.413793\n",
       "                                Y              0.586207\n",
       "                 Urban          N              0.375000\n",
       "                                Y              0.625000\n",
       "        Yes      Rural          N              0.750000\n",
       "                                Y              0.250000\n",
       "                 Semiurban      N              0.066667\n",
       "                                Y              0.933333\n",
       "                 Urban          N              0.666667\n",
       "                                Y              0.333333\n",
       "Male    No       Rural          N              0.405405\n",
       "                                Y              0.594595\n",
       "                 Semiurban      N              0.216216\n",
       "                                Y              0.783784\n",
       "                 Urban          N              0.500000\n",
       "                                Y              0.500000\n",
       "        Yes      Rural          N              0.365854\n",
       "                                Y              0.634146\n",
       "                 Semiurban      N              0.190909\n",
       "                                Y              0.809091\n",
       "                 Urban          N              0.265957\n",
       "                                Y              0.734043\n",
       "Name: Loan_ID, dtype: float64"
      ]
     },
     "execution_count": 22,
     "metadata": {},
     "output_type": "execute_result"
    }
   ],
   "source": [
    "data.groupby(['Gender','Married','Property_Area',\"Loan_Status\"])['Loan_ID'].count()\\\n",
    "        /data.groupby(['Gender','Married','Property_Area'])['Loan_ID'].count()"
   ]
  },
  {
   "cell_type": "markdown",
   "metadata": {},
   "source": [
    "# Data Prep"
   ]
  },
  {
   "cell_type": "code",
   "execution_count": 23,
   "metadata": {},
   "outputs": [
    {
     "data": {
      "text/plain": [
       "Index(['Loan_ID', 'Gender', 'Married', 'Dependents', 'Education',\n",
       "       'Self_Employed', 'ApplicantIncome', 'CoapplicantIncome', 'LoanAmount',\n",
       "       'Loan_Amount_Term', 'Credit_History', 'Property_Area', 'Loan_Status'],\n",
       "      dtype='object')"
      ]
     },
     "execution_count": 23,
     "metadata": {},
     "output_type": "execute_result"
    }
   ],
   "source": [
    "data.columns"
   ]
  },
  {
   "cell_type": "code",
   "execution_count": 24,
   "metadata": {},
   "outputs": [
    {
     "data": {
      "text/plain": [
       "array([1., 0.])"
      ]
     },
     "execution_count": 24,
     "metadata": {},
     "output_type": "execute_result"
    }
   ],
   "source": [
    "data.Credit_History.unique()"
   ]
  },
  {
   "cell_type": "code",
   "execution_count": 25,
   "metadata": {},
   "outputs": [],
   "source": [
    "X=data[['Gender', 'Married', 'Dependents', 'Education', 'Self_Employed',\n",
    "        'ApplicantIncome', 'CoapplicantIncome', 'LoanAmount',\n",
    "       'Loan_Amount_Term', 'Credit_History', 'Property_Area']].copy()\n",
    "y=data[ 'Loan_Status'].copy()"
   ]
  },
  {
   "cell_type": "code",
   "execution_count": 26,
   "metadata": {},
   "outputs": [],
   "source": [
    "def data_cleaning(X):\n",
    "    X=X.copy()\n",
    "    X.Gender=X.Gender.map(lambda x:1 if x=='Male' else 0)\n",
    "    X.Married=X.Married.map(lambda x: 1 if x==\"Yes\" else 0)\n",
    "    X.Dependents=X.Dependents.map(lambda x: 3 if x==\"3+\" else int(x))\n",
    "    X.Education=X.Education.map(lambda x: 1 if x==\"Graduate\" else 0)\n",
    "    X.Self_Employed=X.Self_Employed.map(lambda x: 1 if x==\"Yes\" else 0)\n",
    "    X=X.join(pd.get_dummies(X.Property_Area)).drop([\"Property_Area\"],axis=1)\n",
    "    return X[['Gender', 'Married', 'Dependents', 'Education', 'Self_Employed',\n",
    "       'ApplicantIncome', 'CoapplicantIncome', 'LoanAmount',\n",
    "       'Loan_Amount_Term', 'Credit_History', 'Rural', 'Semiurban', 'Urban']]"
   ]
  },
  {
   "cell_type": "code",
   "execution_count": 27,
   "metadata": {},
   "outputs": [],
   "source": [
    "X_train=data_cleaning(X)"
   ]
  },
  {
   "cell_type": "code",
   "execution_count": 28,
   "metadata": {},
   "outputs": [],
   "source": [
    "y_train=y.map(lambda x: 1 if x==\"Y\" else 0)"
   ]
  },
  {
   "cell_type": "code",
   "execution_count": 29,
   "metadata": {},
   "outputs": [
    {
     "name": "stderr",
     "output_type": "stream",
     "text": [
      "C:\\Users\\48585\\Continuum\\anaconda3\\lib\\site-packages\\sklearn\\linear_model\\logistic.py:432: FutureWarning: Default solver will be changed to 'lbfgs' in 0.22. Specify a solver to silence this warning.\n",
      "  FutureWarning)\n"
     ]
    },
    {
     "data": {
      "text/plain": [
       "LogisticRegression(C=1.0, class_weight=None, dual=False, fit_intercept=True,\n",
       "                   intercept_scaling=1, l1_ratio=None, max_iter=100,\n",
       "                   multi_class='warn', n_jobs=None, penalty='l2',\n",
       "                   random_state=None, solver='warn', tol=0.0001, verbose=0,\n",
       "                   warm_start=False)"
      ]
     },
     "execution_count": 29,
     "metadata": {},
     "output_type": "execute_result"
    }
   ],
   "source": [
    "from sklearn.linear_model import LogisticRegression\n",
    "lr=LogisticRegression()\n",
    "lr.fit(X_train,y_train)"
   ]
  },
  {
   "cell_type": "code",
   "execution_count": 30,
   "metadata": {},
   "outputs": [
    {
     "name": "stdout",
     "output_type": "stream",
     "text": [
      "0.1895319923476763 * Gender +\n",
      "0.3979369153057798 * Married +\n",
      "0.0532337759221262 * Dependents +\n",
      "0.31208643672594927 * Education +\n",
      "-0.12588948456551205 * Self_Employed +\n",
      "-1.5863537024274261e-06 * ApplicantIncome +\n",
      "-4.730911938653908e-05 * CoapplicantIncome +\n",
      "-0.0028901740283690685 * LoanAmount +\n",
      "-0.004263075254672131 * Loan_Amount_Term +\n",
      "2.7640229863153793 * Credit_History +\n",
      "-0.2727527559366654 * Rural +\n",
      "0.4070273166484802 * Semiurban +\n",
      "-0.2685865887090895 * Urban +\n",
      "-0.134312027997271\n"
     ]
    }
   ],
   "source": [
    "for m,col in zip(lr.coef_[0],X_train.columns):\n",
    "    print(m,\"*\",col,\"+\")\n",
    "print(lr.intercept_[0])"
   ]
  },
  {
   "cell_type": "code",
   "execution_count": 31,
   "metadata": {},
   "outputs": [
    {
     "data": {
      "text/plain": [
       "array([0.79025871, 0.80290849, 0.72139922, 0.71320537, 0.67431614,\n",
       "       0.74343477, 0.3137467 , 0.78045884, 0.71236391, 0.83088821,\n",
       "       0.70392162, 0.70205279, 0.94008294, 0.72290382, 0.13578597,\n",
       "       0.73449985, 0.1593776 , 0.64410845, 0.24893221, 0.8466427 ,\n",
       "       0.8741276 , 0.75887639, 0.71351262, 0.75196853, 0.71857664,\n",
       "       0.87949855, 0.59795666, 0.84826124, 0.61029114, 0.78394177,\n",
       "       0.74859086, 0.75619972, 0.86961254, 0.83795325, 0.7859281 ,\n",
       "       0.14914249, 0.78312291, 0.82202329, 0.81189966, 0.81513198,\n",
       "       0.80811905, 0.10479273, 0.89735744, 0.88548999, 0.7724528 ,\n",
       "       0.75762672, 0.72383931, 0.7677412 , 0.83128218, 0.20472415,\n",
       "       0.21555264, 0.80681604, 0.18898894, 0.70274815, 0.91325844,\n",
       "       0.20590465, 0.74625242, 0.84528018, 0.88285803, 0.85847191,\n",
       "       0.61867503, 0.64306634, 0.76689185, 0.34041567, 0.81565872,\n",
       "       0.7444209 , 0.89472499, 0.81564158, 0.88046509, 0.66985083,\n",
       "       0.84417611, 0.86773568, 0.92090116, 0.76762607, 0.83814524,\n",
       "       0.93318677, 0.84595933, 0.90085621, 0.92538304, 0.86443932,\n",
       "       0.85095896, 0.79890942, 0.80793055, 0.75227255, 0.15030622,\n",
       "       0.80643339, 0.71637259, 0.87916831, 0.83942244, 0.75135593,\n",
       "       0.59228943, 0.84294971, 0.14503504, 0.90629889, 0.67850817,\n",
       "       0.2680384 , 0.73491584, 0.85778649, 0.96162039, 0.84567661,\n",
       "       0.79415354, 0.78282906, 0.78268342, 0.1848859 , 0.74441438,\n",
       "       0.76621278, 0.6971775 , 0.89362428, 0.87528065, 0.88500253,\n",
       "       0.84646135, 0.80486976, 0.8351597 , 0.59613052, 0.88009589,\n",
       "       0.1429316 , 0.72613751, 0.64755125, 0.76602122, 0.7646537 ,\n",
       "       0.22566752, 0.77269878, 0.80078504, 0.85246401, 0.71475477,\n",
       "       0.32643148, 0.78525545, 0.90566127, 0.7687568 , 0.76627996,\n",
       "       0.18883896, 0.87184022, 0.8906194 , 0.83004628, 0.84163645,\n",
       "       0.78382266, 0.8110012 , 0.1018611 , 0.8922191 , 0.06743423,\n",
       "       0.13491396, 0.95029468, 0.83884825, 0.86922972, 0.83781462,\n",
       "       0.25859301, 0.87336114, 0.70376791, 0.81915379, 0.71948084,\n",
       "       0.85543443, 0.72519927, 0.86251455, 0.64400246, 0.72007061,\n",
       "       0.85323732, 0.24204794, 0.73500346, 0.86192513, 0.75918521,\n",
       "       0.71138983, 0.67409792, 0.76016473, 0.83633059, 0.76490408,\n",
       "       0.34586731, 0.72057633, 0.74245394, 0.76531879, 0.87074609,\n",
       "       0.77664806, 0.87359079, 0.22882036, 0.88945679, 0.81010795,\n",
       "       0.88305973, 0.77299863, 0.85948436, 0.64789349, 0.88626226,\n",
       "       0.72941367, 0.87664417, 0.77124882, 0.70220596, 0.8977164 ,\n",
       "       0.77481056, 0.84967489, 0.86813499, 0.78898684, 0.82048564,\n",
       "       0.80346467, 0.8165803 , 0.86152772, 0.81697673, 0.79812456,\n",
       "       0.19121628, 0.69861069, 0.61744064, 0.85365565, 0.10502772,\n",
       "       0.63463514, 0.10966189, 0.83280925, 0.67272855, 0.81885253,\n",
       "       0.94240985, 0.68483787, 0.8175182 , 0.67214058, 0.88094836,\n",
       "       0.19258077, 0.70124998, 0.74013368, 0.78838658, 0.70419616,\n",
       "       0.86514955, 0.90393667, 0.88400795, 0.83781996, 0.80664166,\n",
       "       0.75368009, 0.08328117, 0.88430147, 0.9108512 , 0.71110246,\n",
       "       0.71447116, 0.82814414, 0.78151065, 0.8138473 , 0.68315822,\n",
       "       0.76868403, 0.34751032, 0.79679026, 0.85106363, 0.86598076,\n",
       "       0.76711626, 0.51454789, 0.78768758, 0.14671729, 0.67806703,\n",
       "       0.80437618, 0.68882396, 0.65912092, 0.11732165, 0.47614046,\n",
       "       0.82731489, 0.77770331, 0.72482257, 0.86184334, 0.89616642,\n",
       "       0.76590125, 0.87684542, 0.899083  , 0.72921832, 0.0793606 ,\n",
       "       0.13899335, 0.83651017, 0.74945226, 0.71928064, 0.72138444,\n",
       "       0.84758145, 0.72554306, 0.83234183, 0.72911609, 0.73058983,\n",
       "       0.72012975, 0.88394135, 0.86043511, 0.74053189, 0.70713249,\n",
       "       0.84918434, 0.55544066, 0.81819517, 0.15844668, 0.85919223,\n",
       "       0.76644552, 0.82912202, 0.09671241, 0.86119231, 0.83558728,\n",
       "       0.83815429, 0.77422833, 0.68560326, 0.64965639, 0.77041535,\n",
       "       0.87424292, 0.44867608, 0.81821035, 0.88613461, 0.61601046,\n",
       "       0.26210238, 0.89043552, 0.7782588 , 0.6471182 , 0.80971594,\n",
       "       0.71880089, 0.66331862, 0.69441346, 0.82290865, 0.77393127,\n",
       "       0.77115807, 0.79442845, 0.71795628, 0.74490738, 0.92802184,\n",
       "       0.80763258, 0.13755278, 0.79860056, 0.64833926, 0.20831219,\n",
       "       0.35184104, 0.74561033, 0.68044409, 0.79343196, 0.60729363,\n",
       "       0.81374562, 0.7240292 , 0.65203334, 0.37615718, 0.11390368,\n",
       "       0.77626823, 0.11983102, 0.72949213, 0.17725535, 0.7231903 ,\n",
       "       0.67374779, 0.51676335, 0.77993588, 0.87331097, 0.78813424,\n",
       "       0.79457782, 0.89095418, 0.762138  , 0.65341266, 0.89228012,\n",
       "       0.81229112, 0.83279714, 0.78486654, 0.14755182, 0.86689059,\n",
       "       0.73751055, 0.85427308, 0.10727693, 0.66465868, 0.7716775 ,\n",
       "       0.75069525, 0.78947516, 0.826029  , 0.77042027, 0.76689997,\n",
       "       0.18916083, 0.15813867, 0.17348856, 0.34173278, 0.83531113,\n",
       "       0.902426  , 0.79868715, 0.74998892, 0.73698693, 0.87279914,\n",
       "       0.90643024, 0.76338256, 0.25918301, 0.71294431, 0.32986594,\n",
       "       0.7833379 , 0.85282023, 0.28181475, 0.90592199, 0.67556417,\n",
       "       0.76757569, 0.88139205, 0.87517276, 0.59152269, 0.77520209,\n",
       "       0.86753256, 0.84658979, 0.85617188, 0.72431948, 0.17214133,\n",
       "       0.57567333, 0.85983517, 0.75164592, 0.66552381, 0.66784787,\n",
       "       0.18333721, 0.95647667, 0.73417737, 0.88592456, 0.09422683,\n",
       "       0.53019226, 0.82055157, 0.83659575, 0.87109701, 0.71330221,\n",
       "       0.71305244, 0.74175156, 0.65839977, 0.83587463, 0.78637512,\n",
       "       0.9338806 , 0.56029652, 0.78250215, 0.80217326, 0.79753223,\n",
       "       0.6323452 , 0.8786833 , 0.86303433, 0.80062848, 0.49086989,\n",
       "       0.62680952, 0.88871468, 0.23818736, 0.80333567, 0.78668875,\n",
       "       0.83059716, 0.16012519, 0.57699264, 0.64452019, 0.85755516,\n",
       "       0.76655921, 0.89888752, 0.92316255, 0.22453622, 0.72595936,\n",
       "       0.7644414 , 0.94460401, 0.69347907, 0.22174519, 0.78652321,\n",
       "       0.76197117, 0.12051912, 0.296528  , 0.91069728, 0.84129151,\n",
       "       0.85826383, 0.82782881, 0.8660586 , 0.59251834, 0.73212108,\n",
       "       0.76404217, 0.1556173 , 0.75406962, 0.20396853, 0.75189037,\n",
       "       0.1913446 , 0.7601355 , 0.73325574, 0.74218233, 0.89260203,\n",
       "       0.93523844, 0.7058711 , 0.79533205, 0.87047822, 0.3691672 ,\n",
       "       0.89119305, 0.1815233 , 0.90935769, 0.79408813, 0.78520901,\n",
       "       0.333468  , 0.94483717, 0.90818979, 0.87174913, 0.69488675,\n",
       "       0.66547367, 0.68834658, 0.74266777, 0.78046147, 0.81856936,\n",
       "       0.64963874, 0.69269004, 0.86189912, 0.72895997, 0.78789573,\n",
       "       0.71596519, 0.92599532, 0.73571857, 0.78244098, 0.18732925])"
      ]
     },
     "execution_count": 31,
     "metadata": {},
     "output_type": "execute_result"
    }
   ],
   "source": [
    "lr.predict_proba(X_train)[:,1]"
   ]
  },
  {
   "cell_type": "code",
   "execution_count": 32,
   "metadata": {},
   "outputs": [
    {
     "data": {
      "text/plain": [
       "array([1, 1, 1, 1, 1, 1, 0, 1, 1, 1, 1, 1, 1, 1, 0, 1, 0, 1, 0, 1, 1, 1,\n",
       "       1, 1, 1, 1, 1, 1, 1, 1, 1, 1, 1, 1, 1, 0, 1, 1, 1, 1, 1, 0, 1, 1,\n",
       "       1, 1, 1, 1, 1, 0, 0, 1, 0, 1, 1, 0, 1, 1, 1, 1, 1, 1, 1, 0, 1, 1,\n",
       "       1, 1, 1, 1, 1, 1, 1, 1, 1, 1, 1, 1, 1, 1, 1, 1, 1, 1, 0, 1, 1, 1,\n",
       "       1, 1, 1, 1, 0, 1, 1, 0, 1, 1, 1, 1, 1, 1, 1, 0, 1, 1, 1, 1, 1, 1,\n",
       "       1, 1, 1, 1, 1, 0, 1, 1, 1, 1, 0, 1, 1, 1, 1, 0, 1, 1, 1, 1, 0, 1,\n",
       "       1, 1, 1, 1, 1, 0, 1, 0, 0, 1, 1, 1, 1, 0, 1, 1, 1, 1, 1, 1, 1, 1,\n",
       "       1, 1, 0, 1, 1, 1, 1, 1, 1, 1, 1, 0, 1, 1, 1, 1, 1, 1, 0, 1, 1, 1,\n",
       "       1, 1, 1, 1, 1, 1, 1, 1, 1, 1, 1, 1, 1, 1, 1, 1, 1, 1, 1, 0, 1, 1,\n",
       "       1, 0, 1, 0, 1, 1, 1, 1, 1, 1, 1, 1, 0, 1, 1, 1, 1, 1, 1, 1, 1, 1,\n",
       "       1, 0, 1, 1, 1, 1, 1, 1, 1, 1, 1, 0, 1, 1, 1, 1, 1, 1, 0, 1, 1, 1,\n",
       "       1, 0, 0, 1, 1, 1, 1, 1, 1, 1, 1, 1, 0, 0, 1, 1, 1, 1, 1, 1, 1, 1,\n",
       "       1, 1, 1, 1, 1, 1, 1, 1, 1, 0, 1, 1, 1, 0, 1, 1, 1, 1, 1, 1, 1, 1,\n",
       "       0, 1, 1, 1, 0, 1, 1, 1, 1, 1, 1, 1, 1, 1, 1, 1, 1, 1, 1, 1, 0, 1,\n",
       "       1, 0, 0, 1, 1, 1, 1, 1, 1, 1, 0, 0, 1, 0, 1, 0, 1, 1, 1, 1, 1, 1,\n",
       "       1, 1, 1, 1, 1, 1, 1, 1, 0, 1, 1, 1, 0, 1, 1, 1, 1, 1, 1, 1, 0, 0,\n",
       "       0, 0, 1, 1, 1, 1, 1, 1, 1, 1, 0, 1, 0, 1, 1, 0, 1, 1, 1, 1, 1, 1,\n",
       "       1, 1, 1, 1, 1, 0, 1, 1, 1, 1, 1, 0, 1, 1, 1, 0, 1, 1, 1, 1, 1, 1,\n",
       "       1, 1, 1, 1, 1, 1, 1, 1, 1, 1, 1, 1, 1, 0, 1, 1, 0, 1, 1, 1, 0, 1,\n",
       "       1, 1, 1, 1, 1, 0, 1, 1, 1, 1, 0, 1, 1, 0, 0, 1, 1, 1, 1, 1, 1, 1,\n",
       "       1, 0, 1, 0, 1, 0, 1, 1, 1, 1, 1, 1, 1, 1, 0, 1, 0, 1, 1, 1, 0, 1,\n",
       "       1, 1, 1, 1, 1, 1, 1, 1, 1, 1, 1, 1, 1, 1, 1, 1, 1, 0], dtype=int64)"
      ]
     },
     "execution_count": 32,
     "metadata": {},
     "output_type": "execute_result"
    }
   ],
   "source": [
    "lr.predict(X_train)"
   ]
  },
  {
   "cell_type": "code",
   "execution_count": 33,
   "metadata": {},
   "outputs": [
    {
     "data": {
      "text/plain": [
       "0.8125"
      ]
     },
     "execution_count": 33,
     "metadata": {},
     "output_type": "execute_result"
    }
   ],
   "source": [
    "lr.score(X_train,y_train)"
   ]
  },
  {
   "cell_type": "code",
   "execution_count": 34,
   "metadata": {},
   "outputs": [
    {
     "name": "stdout",
     "output_type": "stream",
     "text": [
      "[[ 66  82]\n",
      " [  8 324]]\n"
     ]
    }
   ],
   "source": [
    "from sklearn.metrics import confusion_matrix\n",
    "print(confusion_matrix(y_train,lr.predict(X_train)))"
   ]
  },
  {
   "cell_type": "code",
   "execution_count": 35,
   "metadata": {},
   "outputs": [
    {
     "name": "stdout",
     "output_type": "stream",
     "text": [
      "              precision    recall  f1-score   support\n",
      "\n",
      "           0       0.89      0.45      0.59       148\n",
      "           1       0.80      0.98      0.88       332\n",
      "\n",
      "    accuracy                           0.81       480\n",
      "   macro avg       0.84      0.71      0.74       480\n",
      "weighted avg       0.83      0.81      0.79       480\n",
      "\n"
     ]
    }
   ],
   "source": [
    "from sklearn.metrics import classification_report\n",
    "print(classification_report(y_train,lr.predict(X_train)))"
   ]
  },
  {
   "cell_type": "code",
   "execution_count": 36,
   "metadata": {},
   "outputs": [],
   "source": [
    "#probability caliberation\n",
    "y_prob=lr.predict_proba(X_train)[:,1]"
   ]
  },
  {
   "cell_type": "code",
   "execution_count": 37,
   "metadata": {},
   "outputs": [
    {
     "name": "stdout",
     "output_type": "stream",
     "text": [
      "[[103  45]\n",
      " [102 230]]\n",
      "              precision    recall  f1-score   support\n",
      "\n",
      "           0       0.50      0.70      0.58       148\n",
      "           1       0.84      0.69      0.76       332\n",
      "\n",
      "    accuracy                           0.69       480\n",
      "   macro avg       0.67      0.69      0.67       480\n",
      "weighted avg       0.73      0.69      0.70       480\n",
      "\n"
     ]
    }
   ],
   "source": [
    "y_hat=[]\n",
    "for i in y_prob:\n",
    "    if i>0.75:\n",
    "        y_hat.append(1)\n",
    "    else:\n",
    "        y_hat.append(0)\n",
    "print(confusion_matrix(y_train,y_hat))\n",
    "print(classification_report(y_train,y_hat))"
   ]
  },
  {
   "cell_type": "code",
   "execution_count": 38,
   "metadata": {},
   "outputs": [
    {
     "name": "stdout",
     "output_type": "stream",
     "text": [
      "Compute confusion matrix to evaluate the accuracy of a classification\n",
      "\n",
      "    By definition a confusion matrix :math:`C` is such that :math:`C_{i, j}`\n",
      "    is equal to the number of observations known to be in group :math:`i` but\n",
      "    predicted to be in group :math:`j`.\n",
      "\n",
      "    Thus in binary classification, the count of true negatives is\n",
      "    :math:`C_{0,0}`, false negatives is :math:`C_{1,0}`, true positives is\n",
      "    :math:`C_{1,1}` and false positives is :math:`C_{0,1}`.\n",
      "\n",
      "    Read more in the :ref:`User Guide <confusion_matrix>`.\n",
      "\n",
      "    Parameters\n",
      "    ----------\n",
      "    y_true : array, shape = [n_samples]\n",
      "        Ground truth (correct) target values.\n",
      "\n",
      "    y_pred : array, shape = [n_samples]\n",
      "        Estimated targets as returned by a classifier.\n",
      "\n",
      "    labels : array, shape = [n_classes], optional\n",
      "        List of labels to index the matrix. This may be used to reorder\n",
      "        or select a subset of labels.\n",
      "        If none is given, those that appear at least once\n",
      "        in ``y_true`` or ``y_pred`` are used in sorted order.\n",
      "\n",
      "    sample_weight : array-like of shape = [n_samples], optional\n",
      "        Sample weights.\n",
      "\n",
      "    Returns\n",
      "    -------\n",
      "    C : array, shape = [n_classes, n_classes]\n",
      "        Confusion matrix\n",
      "\n",
      "    References\n",
      "    ----------\n",
      "    .. [1] `Wikipedia entry for the Confusion matrix\n",
      "           <https://en.wikipedia.org/wiki/Confusion_matrix>`_\n",
      "           (Wikipedia and other references may use a different\n",
      "           convention for axes)\n",
      "\n",
      "    Examples\n",
      "    --------\n",
      "    >>> from sklearn.metrics import confusion_matrix\n",
      "    >>> y_true = [2, 0, 2, 2, 0, 1]\n",
      "    >>> y_pred = [0, 0, 2, 2, 0, 2]\n",
      "    >>> confusion_matrix(y_true, y_pred)\n",
      "    array([[2, 0, 0],\n",
      "           [0, 0, 1],\n",
      "           [1, 0, 2]])\n",
      "\n",
      "    >>> y_true = [\"cat\", \"ant\", \"cat\", \"cat\", \"ant\", \"bird\"]\n",
      "    >>> y_pred = [\"ant\", \"ant\", \"cat\", \"cat\", \"ant\", \"cat\"]\n",
      "    >>> confusion_matrix(y_true, y_pred, labels=[\"ant\", \"bird\", \"cat\"])\n",
      "    array([[2, 0, 0],\n",
      "           [0, 0, 1],\n",
      "           [1, 0, 2]])\n",
      "\n",
      "    In the binary case, we can extract true positives, etc as follows:\n",
      "\n",
      "    >>> tn, fp, fn, tp = confusion_matrix([0, 1, 0, 1], [1, 1, 1, 0]).ravel()\n",
      "    >>> (tn, fp, fn, tp)\n",
      "    (0, 2, 1, 1)\n",
      "\n",
      "    \n"
     ]
    }
   ],
   "source": [
    "print(confusion_matrix.__doc__)"
   ]
  },
  {
   "cell_type": "code",
   "execution_count": 39,
   "metadata": {},
   "outputs": [],
   "source": [
    "test=df[~df.index.isin(data.index)]"
   ]
  },
  {
   "cell_type": "code",
   "execution_count": 40,
   "metadata": {},
   "outputs": [
    {
     "data": {
      "text/plain": [
       "Loan_ID               0\n",
       "Gender               13\n",
       "Married               3\n",
       "Dependents           15\n",
       "Education             0\n",
       "Self_Employed        32\n",
       "ApplicantIncome       0\n",
       "CoapplicantIncome     0\n",
       "LoanAmount           22\n",
       "Loan_Amount_Term     14\n",
       "Credit_History       50\n",
       "Property_Area         0\n",
       "Loan_Status           0\n",
       "dtype: int64"
      ]
     },
     "execution_count": 40,
     "metadata": {},
     "output_type": "execute_result"
    }
   ],
   "source": [
    "test.isna().sum()"
   ]
  },
  {
   "cell_type": "code",
   "execution_count": 41,
   "metadata": {},
   "outputs": [
    {
     "data": {
      "text/plain": [
       "1.0    0.854167\n",
       "0.0    0.145833\n",
       "Name: Credit_History, dtype: float64"
      ]
     },
     "execution_count": 41,
     "metadata": {},
     "output_type": "execute_result"
    }
   ],
   "source": [
    "data.Credit_History.value_counts()/len(data)"
   ]
  },
  {
   "cell_type": "code",
   "execution_count": 42,
   "metadata": {},
   "outputs": [
    {
     "data": {
      "text/plain": [
       "360.0"
      ]
     },
     "execution_count": 42,
     "metadata": {},
     "output_type": "execute_result"
    }
   ],
   "source": [
    "data.Loan_Amount_Term.median()"
   ]
  },
  {
   "cell_type": "code",
   "execution_count": 43,
   "metadata": {},
   "outputs": [],
   "source": [
    "def data_imputation(x):\n",
    "    x=x.copy()\n",
    "    x.Gender=x.Gender.fillna(\"Female\")\n",
    "    x.Married=x.Married.fillna(\"No\")\n",
    "    x.Dependents=x.Dependents.fillna('0')\n",
    "    x.Self_Employed=x.Self_Employed.fillna(\"No\")\n",
    "    x.LoanAmount=x.LoanAmount.fillna(128.0)\n",
    "    x.Loan_Amount_Term=x.Loan_Amount_Term.fillna(360.0)\n",
    "    x.Credit_History=x.Credit_History.fillna(1.0)\n",
    "    return x   \n"
   ]
  },
  {
   "cell_type": "code",
   "execution_count": 44,
   "metadata": {},
   "outputs": [],
   "source": [
    "X_test=data_cleaning(data_imputation(test))\n",
    "y_test=test.Loan_Status.map(lambda x:1 if x==\"Y\" else 0)"
   ]
  },
  {
   "cell_type": "code",
   "execution_count": 45,
   "metadata": {},
   "outputs": [
    {
     "name": "stdout",
     "output_type": "stream",
     "text": [
      "accuracy 0.7985074626865671\n",
      "[[20 24]\n",
      " [ 3 87]]\n",
      "              precision    recall  f1-score   support\n",
      "\n",
      "           0       0.87      0.45      0.60        44\n",
      "           1       0.78      0.97      0.87        90\n",
      "\n",
      "    accuracy                           0.80       134\n",
      "   macro avg       0.83      0.71      0.73       134\n",
      "weighted avg       0.81      0.80      0.78       134\n",
      "\n"
     ]
    }
   ],
   "source": [
    "y_hat_test=lr.predict(X_test)\n",
    "print(\"accuracy\",lr.score(X_test,y_test))\n",
    "print(confusion_matrix(y_test,y_hat_test))\n",
    "print(classification_report(y_test,y_hat_test))"
   ]
  },
  {
   "cell_type": "markdown",
   "metadata": {},
   "source": [
    "# Entropy"
   ]
  },
  {
   "cell_type": "code",
   "execution_count": 46,
   "metadata": {},
   "outputs": [],
   "source": [
    "import numpy as np\n",
    "def entropy(p):\n",
    "    if (p==0) or (p==1):\n",
    "        return 0\n",
    "    return -p*np.log2(p)-(1-p)*np.log2(1-p)"
   ]
  },
  {
   "cell_type": "code",
   "execution_count": 47,
   "metadata": {},
   "outputs": [
    {
     "data": {
      "text/plain": [
       "1.0"
      ]
     },
     "execution_count": 47,
     "metadata": {},
     "output_type": "execute_result"
    }
   ],
   "source": [
    "entropy(0.5)"
   ]
  },
  {
   "cell_type": "code",
   "execution_count": 48,
   "metadata": {},
   "outputs": [
    {
     "data": {
      "text/plain": [
       "0.6098403047164005"
      ]
     },
     "execution_count": 48,
     "metadata": {},
     "output_type": "execute_result"
    }
   ],
   "source": [
    "entropy(0.85)"
   ]
  },
  {
   "cell_type": "code",
   "execution_count": 49,
   "metadata": {},
   "outputs": [],
   "source": [
    "a=np.arange(101)/100\n",
    "e=[]\n",
    "for i in a:\n",
    "    e.append(entropy(i)) "
   ]
  },
  {
   "cell_type": "code",
   "execution_count": 50,
   "metadata": {},
   "outputs": [
    {
     "data": {
      "text/plain": [
       "Text(0, 0.5, 'Entropy')"
      ]
     },
     "execution_count": 50,
     "metadata": {},
     "output_type": "execute_result"
    },
    {
     "data": {
      "image/png": "[encoded data removed]",
      "text/plain": [
       "<Figure size 432x288 with 1 Axes>"
      ]
     },
     "metadata": {
      "needs_background": "light"
     },
     "output_type": "display_data"
    }
   ],
   "source": [
    "plt.plot(e)\n",
    "plt.xlabel(\"Probability of an Event\")\n",
    "plt.ylabel(\"Entropy\")"
   ]
  },
  {
   "cell_type": "code",
   "execution_count": 51,
   "metadata": {},
   "outputs": [
    {
     "data": {
      "text/plain": [
       "0.9402859586706311"
      ]
     },
     "execution_count": 51,
     "metadata": {},
     "output_type": "execute_result"
    }
   ],
   "source": [
    "p=9/14\n",
    "entropy(p)"
   ]
  },
  {
   "cell_type": "code",
   "execution_count": 52,
   "metadata": {},
   "outputs": [
    {
     "data": {
      "text/plain": [
       "0.9709505944546686"
      ]
     },
     "execution_count": 52,
     "metadata": {},
     "output_type": "execute_result"
    }
   ],
   "source": [
    "sunny=5/14\n",
    "play_sunny=2/5\n",
    "entropy(play_sunny)"
   ]
  },
  {
   "cell_type": "code",
   "execution_count": 53,
   "metadata": {},
   "outputs": [
    {
     "data": {
      "text/plain": [
       "0"
      ]
     },
     "execution_count": 53,
     "metadata": {},
     "output_type": "execute_result"
    }
   ],
   "source": [
    "overcast=4/14\n",
    "play_ov=4/4\n",
    "entropy(play_ov)"
   ]
  },
  {
   "cell_type": "code",
   "execution_count": 54,
   "metadata": {},
   "outputs": [
    {
     "data": {
      "text/plain": [
       "0.9709505944546686"
      ]
     },
     "execution_count": 54,
     "metadata": {},
     "output_type": "execute_result"
    }
   ],
   "source": [
    "rainy=5/14\n",
    "play_rainy=3/5\n",
    "entropy(play_rainy)"
   ]
  },
  {
   "cell_type": "code",
   "execution_count": 55,
   "metadata": {},
   "outputs": [
    {
     "data": {
      "text/plain": [
       "0.24674981977443933"
      ]
     },
     "execution_count": 55,
     "metadata": {},
     "output_type": "execute_result"
    }
   ],
   "source": [
    "entropy(9/14)-(sunny*entropy(play_sunny)+rainy*entropy(play_rainy)+overcast*entropy(play_ov))"
   ]
  },
  {
   "cell_type": "code",
   "execution_count": 56,
   "metadata": {},
   "outputs": [
    {
     "data": {
      "text/plain": [
       "0.9852281360342515"
      ]
     },
     "execution_count": 56,
     "metadata": {},
     "output_type": "execute_result"
    }
   ],
   "source": [
    "high=7/14\n",
    "play_high=3/7\n",
    "entropy(play_high)"
   ]
  },
  {
   "cell_type": "code",
   "execution_count": 57,
   "metadata": {},
   "outputs": [
    {
     "data": {
      "text/plain": [
       "0.5916727785823275"
      ]
     },
     "execution_count": 57,
     "metadata": {},
     "output_type": "execute_result"
    }
   ],
   "source": [
    "normal=7/14\n",
    "play_normal=6/7\n",
    "entropy(play_normal)"
   ]
  },
  {
   "cell_type": "code",
   "execution_count": 58,
   "metadata": {},
   "outputs": [
    {
     "data": {
      "text/plain": [
       "0.15183550136234159"
      ]
     },
     "execution_count": 58,
     "metadata": {},
     "output_type": "execute_result"
    }
   ],
   "source": [
    "entropy(9/14)-(high*entropy(play_high)+normal*entropy(play_normal))"
   ]
  },
  {
   "cell_type": "code",
   "execution_count": 59,
   "metadata": {},
   "outputs": [],
   "source": [
    "#!pip install pydotplus pygraphviz"
   ]
  },
  {
   "cell_type": "markdown",
   "metadata": {},
   "source": [
    "# Decision Tree Model"
   ]
  },
  {
   "cell_type": "code",
   "execution_count": 60,
   "metadata": {},
   "outputs": [
    {
     "name": "stdout",
     "output_type": "stream",
     "text": [
      "accuracy of training 1.0\n",
      "accuracy of testing 0.6567164179104478\n"
     ]
    }
   ],
   "source": [
    "from sklearn.tree import DecisionTreeClassifier\n",
    "dtc=DecisionTreeClassifier(criterion=\"entropy\")\n",
    "dtc.fit(X_train,y_train)\n",
    "print(\"accuracy of training\",dtc.score(X_train,y_train))\n",
    "print(\"accuracy of testing\",dtc.score(X_test,y_test))"
   ]
  },
  {
   "cell_type": "code",
   "execution_count": 65,
   "metadata": {},
   "outputs": [],
   "source": [
    "from sklearn.tree import export_graphviz\n",
    "export_graphviz(decision_tree=dtc,out_file=\"tree.dot\",\\\n",
    "                     feature_names=X_train.columns) \n",
    "#print(export_graphviz.__doc__)"
   ]
  },
  {
   "cell_type": "code",
   "execution_count": 66,
   "metadata": {},
   "outputs": [
    {
     "name": "stdout",
     "output_type": "stream",
     "text": [
      "1 accuracy of training 0.8083333333333333\n",
      "1 accuracy of testing 0.8134328358208955\n",
      "2 accuracy of training 0.8083333333333333\n",
      "2 accuracy of testing 0.8134328358208955\n",
      "3 accuracy of training 0.81875\n",
      "3 accuracy of testing 0.7835820895522388\n",
      "4 accuracy of training 0.83125\n",
      "4 accuracy of testing 0.7761194029850746\n",
      "5 accuracy of training 0.8395833333333333\n",
      "5 accuracy of testing 0.7761194029850746\n",
      "6 accuracy of training 0.85\n",
      "6 accuracy of testing 0.7611940298507462\n",
      "7 accuracy of training 0.8645833333333334\n",
      "7 accuracy of testing 0.7761194029850746\n",
      "8 accuracy of training 0.8666666666666667\n",
      "8 accuracy of testing 0.7611940298507462\n",
      "9 accuracy of training 0.8708333333333333\n",
      "9 accuracy of testing 0.753731343283582\n",
      "10 accuracy of training 0.8791666666666667\n",
      "10 accuracy of testing 0.746268656716418\n",
      "11 accuracy of training 0.8895833333333333\n",
      "11 accuracy of testing 0.753731343283582\n",
      "12 accuracy of training 0.89375\n",
      "12 accuracy of testing 0.746268656716418\n",
      "13 accuracy of training 0.9020833333333333\n",
      "13 accuracy of testing 0.7611940298507462\n",
      "14 accuracy of training 0.9208333333333333\n",
      "14 accuracy of testing 0.7089552238805971\n",
      "15 accuracy of training 0.9479166666666666\n",
      "15 accuracy of testing 0.6791044776119403\n",
      "16 accuracy of training 0.96875\n",
      "16 accuracy of testing 0.6940298507462687\n",
      "17 accuracy of training 0.9770833333333333\n",
      "17 accuracy of testing 0.6940298507462687\n",
      "18 accuracy of training 0.9895833333333334\n",
      "18 accuracy of testing 0.6567164179104478\n",
      "19 accuracy of training 0.9958333333333333\n",
      "19 accuracy of testing 0.6865671641791045\n",
      "20 accuracy of training 1.0\n",
      "20 accuracy of testing 0.7014925373134329\n"
     ]
    }
   ],
   "source": [
    "for depth in range(1,21):\n",
    "    dtc=DecisionTreeClassifier(criterion=\"entropy\",max_depth=depth)\n",
    "    dtc.fit(X_train,y_train)\n",
    "    print(depth,\"accuracy of training\",dtc.score(X_train,y_train))\n",
    "    print(depth,\"accuracy of testing\",dtc.score(X_test,y_test))"
   ]
  },
  {
   "cell_type": "code",
   "execution_count": 68,
   "metadata": {},
   "outputs": [
    {
     "name": "stdout",
     "output_type": "stream",
     "text": [
      "20 accuracy of training 0.81875\n",
      "20 accuracy of testing 0.7835820895522388\n"
     ]
    }
   ],
   "source": [
    "dtc=DecisionTreeClassifier(criterion=\"entropy\",max_depth=3)\n",
    "dtc.fit(X_train,y_train)\n",
    "print(depth,\"accuracy of training\",dtc.score(X_train,y_train))\n",
    "print(depth,\"accuracy of testing\",dtc.score(X_test,y_test))\n",
    "from sklearn.tree import export_graphviz\n",
    "export_graphviz(decision_tree=dtc,out_file=\"tree.dot\",\\\n",
    "                     feature_names=X_train.columns) \n",
    "#print(export_graphviz.__doc__)"
   ]
  },
  {
   "cell_type": "code",
   "execution_count": 72,
   "metadata": {
    "collapsed": true
   },
   "outputs": [
    {
     "name": "stdout",
     "output_type": "stream",
     "text": [
      "Fitting 5 folds for each of 60 candidates, totalling 300 fits\n"
     ]
    },
    {
     "name": "stderr",
     "output_type": "stream",
     "text": [
      "[Parallel(n_jobs=-1)]: Using backend LokyBackend with 8 concurrent workers.\n",
      "[Parallel(n_jobs=-1)]: Done  34 tasks      | elapsed:    2.9s\n",
      "[Parallel(n_jobs=-1)]: Done 300 out of 300 | elapsed:    3.1s finished\n",
      "C:\\Users\\48585\\Continuum\\anaconda3\\lib\\site-packages\\sklearn\\model_selection\\_search.py:814: DeprecationWarning: The default of the `iid` parameter will change from True to False in version 0.22 and will be removed in 0.24. This will change numeric results when test-set sizes are unequal.\n",
      "  DeprecationWarning)\n"
     ]
    },
    {
     "data": {
      "text/plain": [
       "GridSearchCV(cv=5, error_score='raise-deprecating',\n",
       "             estimator=DecisionTreeClassifier(class_weight=None,\n",
       "                                              criterion='entropy',\n",
       "                                              max_depth=None, max_features=None,\n",
       "                                              max_leaf_nodes=None,\n",
       "                                              min_impurity_decrease=0.0,\n",
       "                                              min_impurity_split=None,\n",
       "                                              min_samples_leaf=1,\n",
       "                                              min_samples_split=2,\n",
       "                                              min_weight_fraction_leaf=0.0,\n",
       "                                              presort=False, random_state=2,\n",
       "                                              splitter='best'),\n",
       "             iid='warn', n_jobs=-1,\n",
       "             param_grid={'class_weight': ['balanced', None],\n",
       "                         'max_depth': [1, 2, 3, 4, 5, 6],\n",
       "                         'min_samples_split': [2, 3, 4, 5, 6]},\n",
       "             pre_dispatch='2*n_jobs', refit=True, return_train_score=False,\n",
       "             scoring=None, verbose=1)"
      ]
     },
     "execution_count": 72,
     "metadata": {},
     "output_type": "execute_result"
    }
   ],
   "source": [
    "#grid search approach\n",
    "\n",
    "from sklearn.model_selection import GridSearchCV\n",
    "from sklearn.metrics import make_scorer,accuracy_score\n",
    "\n",
    "scorer=make_scorer(accuracy_score,greater_is_better=True)\n",
    "\n",
    "parameters = {'max_depth':[1,2,3,4,5,6], 'min_samples_split':[2,3,4,5,6],\\\n",
    "             'class_weight':[\"balanced\",None] }\n",
    "dtc = DecisionTreeClassifier(criterion=\"entropy\",random_state=2)\n",
    "clf = GridSearchCV(dtc, parameters, cv=5,n_jobs=-1,verbose=1)\n",
    "clf.fit(X_train,y_train)"
   ]
  },
  {
   "cell_type": "code",
   "execution_count": 75,
   "metadata": {},
   "outputs": [
    {
     "name": "stdout",
     "output_type": "stream",
     "text": [
      "0.8083333333333333\n",
      "0.8134328358208955\n"
     ]
    }
   ],
   "source": [
    "#print(clf.best_score_)\n",
    "final_model=clf.best_estimator_\n",
    "final_model.fit(X_train,y_train)\n",
    "print(final_model.score(X_train,y_train))\n",
    "print(final_model.score(X_test,y_test))"
   ]
  },
  {
   "cell_type": "code",
   "execution_count": 76,
   "metadata": {},
   "outputs": [],
   "source": [
    "import pickle\n",
    "with open('dctmodel.pickle', 'wb') as f:\n",
    "    # Pickle the 'data' dictionary using the highest protocol available.\n",
    "    pickle.dump(final_model, f, pickle.HIGHEST_PROTOCOL)"
   ]
  },
  {
   "cell_type": "code",
   "execution_count": null,
   "metadata": {},
   "outputs": [],
   "source": []
  }
 ],
 "metadata": {
  "kernelspec": {
   "display_name": "Python 3",
   "language": "python",
   "name": "python3"
  },
  "language_info": {
   "codemirror_mode": {
    "name": "ipython",
    "version": 3
   },
   "file_extension": ".py",
   "mimetype": "text/x-python",
   "name": "python",
   "nbconvert_exporter": "python",
   "pygments_lexer": "ipython3",
   "version": "3.6.5"
  }
 },
 "nbformat": 4,
 "nbformat_minor": 2
}
