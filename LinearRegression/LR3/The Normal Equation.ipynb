{
 "cells": [
  {
   "cell_type": "markdown",
   "metadata": {},
   "source": [
    "# Linear Regression Using Normal Equation"
   ]
  },
  {
   "cell_type": "code",
   "execution_count": 4,
   "metadata": {},
   "outputs": [
    {
     "name": "stdout",
     "output_type": "stream",
     "text": [
      ".\n"
     ]
    }
   ],
   "source": [
    "from __future__ import division, print_function, unicode_literals\n",
    "\n",
    "# Common imports\n",
    "import numpy as np\n",
    "import os\n",
    "\n",
    "# to make this notebook's output stable across runs\n",
    "np.random.seed(42)\n",
    "\n",
    "# To plot pretty figures\n",
    "%matplotlib inline\n",
    "import matplotlib as mpl\n",
    "import matplotlib.pyplot as plt\n",
    "mpl.rc('axes', labelsize=14)\n",
    "mpl.rc('xtick', labelsize=12)\n",
    "mpl.rc('ytick', labelsize=12)\n",
    "\n",
    "# Where to save the figures\n",
    "PROJECT_ROOT_DIR = \".\"\n",
    "CHAPTER_ID = \"Linear regression Using Normal Equation\"\n",
    "\n",
    "def save_fig(fig_id, tight_layout=True):\n",
    "    path = os.path.join(PROJECT_ROOT_DIR, \"images\", CHAPTER_ID, fig_id + \".png\")\n",
    "    print(\"Saving figure\", fig_id)\n",
    "    if tight_layout:\n",
    "        plt.tight_layout()\n",
    "    plt.savefig(path, format='png', dpi=300)\n",
    "\n",
    "# Ignore useless warnings (see SciPy issue #5998)\n",
    "import warnings\n",
    "warnings.filterwarnings(action=\"ignore\", message=\"^internal gelsd\")"
   ]
  },
  {
   "cell_type": "code",
   "execution_count": 9,
   "metadata": {},
   "outputs": [],
   "source": [
    "import numpy as np\n",
    "X = 2 * np.random.rand(100, 1)\n",
    "y = 4 + 3 * X + np.random.randn(100, 1)"
   ]
  },
  {
   "cell_type": "code",
   "execution_count": 12,
   "metadata": {},
   "outputs": [
    {
     "name": "stdout",
     "output_type": "stream",
     "text": [
      "[[ 4.71349782]\n",
      " [ 8.18059541]\n",
      " [ 3.37289619]\n",
      " [ 5.39895896]\n",
      " [ 5.76358197]\n",
      " [ 6.13652233]\n",
      " [ 7.29301076]\n",
      " [ 5.46098041]\n",
      " [ 9.50362846]\n",
      " [ 6.96676573]\n",
      " [ 7.21662957]\n",
      " [ 9.28568955]\n",
      " [ 6.97019058]\n",
      " [ 8.39923378]\n",
      " [ 2.36954441]\n",
      " [ 9.76372526]\n",
      " [ 4.64302492]\n",
      " [ 9.31416393]\n",
      " [ 5.09876455]\n",
      " [ 9.86866874]\n",
      " [ 3.13830989]\n",
      " [ 7.99279826]\n",
      " [10.18241346]\n",
      " [ 6.19870728]\n",
      " [ 7.26252491]\n",
      " [ 7.11527861]\n",
      " [ 6.66456729]\n",
      " [ 8.7204908 ]\n",
      " [ 6.52015983]\n",
      " [ 9.91099458]\n",
      " [ 3.74242066]\n",
      " [ 4.89290631]\n",
      " [ 9.59543854]\n",
      " [ 8.30634038]\n",
      " [ 6.18029121]\n",
      " [ 6.52291769]\n",
      " [ 7.62901223]\n",
      " [ 5.16399051]\n",
      " [ 6.08246492]\n",
      " [ 6.33409328]\n",
      " [ 7.38960862]\n",
      " [ 4.24543822]\n",
      " [10.46053555]\n",
      " [10.67477218]\n",
      " [ 7.65846914]\n",
      " [ 6.64075996]\n",
      " [ 5.582114  ]\n",
      " [ 6.58084895]\n",
      " [ 6.59319597]\n",
      " [ 6.3425759 ]\n",
      " [11.11053082]\n",
      " [ 8.68618742]\n",
      " [10.27535644]\n",
      " [ 8.6655672 ]\n",
      " [10.75937198]\n",
      " [ 7.62903313]\n",
      " [ 9.46845331]\n",
      " [ 8.2408429 ]\n",
      " [ 2.6648657 ]\n",
      " [ 4.36166548]\n",
      " [ 5.50242946]\n",
      " [ 7.44106628]\n",
      " [ 9.27708389]\n",
      " [ 3.82095334]\n",
      " [ 9.25192593]\n",
      " [ 7.1669849 ]\n",
      " [ 9.81151375]\n",
      " [10.53265768]\n",
      " [ 9.10734054]\n",
      " [ 5.95087476]\n",
      " [ 8.01204109]\n",
      " [ 6.17935248]\n",
      " [ 3.30100683]\n",
      " [ 8.99799558]\n",
      " [ 8.0017878 ]\n",
      " [ 8.61550631]\n",
      " [10.90599857]\n",
      " [ 9.24200687]\n",
      " [ 7.21535692]\n",
      " [10.23156362]\n",
      " [ 8.44724177]\n",
      " [ 4.99696323]\n",
      " [ 6.11087089]\n",
      " [ 3.91096572]\n",
      " [ 9.77282779]\n",
      " [ 6.80609769]\n",
      " [ 5.64231366]\n",
      " [ 7.979966  ]\n",
      " [ 7.4698214 ]\n",
      " [ 5.24141265]\n",
      " [ 4.10457422]\n",
      " [ 8.7848304 ]\n",
      " [ 7.62276339]\n",
      " [ 7.65635511]\n",
      " [ 7.22031331]\n",
      " [ 9.86447613]\n",
      " [ 5.64203575]\n",
      " [ 7.90898802]\n",
      " [ 8.59729786]\n",
      " [ 6.99149587]]\n"
     ]
    }
   ],
   "source": []
  },
  {
   "cell_type": "code",
   "execution_count": 13,
   "metadata": {},
   "outputs": [
    {
     "data": {
      "image/png": "[encoded data removed]",
      "text/plain": [
       "<Figure size 432x288 with 1 Axes>"
      ]
     },
     "metadata": {},
     "output_type": "display_data"
    }
   ],
   "source": [
    "\n",
    "plt.plot(X, y, \"b.\")\n",
    "plt.xlabel(\"$x_1$\", fontsize=18)\n",
    "plt.ylabel(\"$y$\", rotation=0, fontsize=18)\n",
    "plt.axis([0, 2, 0, 15])\n",
    "plt.show()"
   ]
  },
  {
   "cell_type": "code",
   "execution_count": 20,
   "metadata": {},
   "outputs": [
    {
     "name": "stdout",
     "output_type": "stream",
     "text": [
      "[[1.         0.02270729]\n",
      " [1.         0.93732128]\n",
      " [1.         0.11260655]\n",
      " [1.         0.23763583]\n",
      " [1.         0.23505249]\n",
      " [1.         1.2984206 ]\n",
      " [1.         1.49208976]\n",
      " [1.         1.16673753]\n",
      " [1.         1.9243451 ]\n",
      " [1.         0.74974116]\n",
      " [1.         0.57142417]\n",
      " [1.         1.73719826]\n",
      " [1.         0.44719168]\n",
      " [1.         1.92644508]\n",
      " [1.         0.02430895]\n",
      " [1.         1.93975765]\n",
      " [1.         0.08631982]\n",
      " [1.         1.78228623]\n",
      " [1.         1.05540222]\n",
      " [1.         1.98592959]\n",
      " [1.         0.14759313]\n",
      " [1.         1.10770857]\n",
      " [1.         1.93860507]\n",
      " [1.         1.04619569]\n",
      " [1.         1.25879728]\n",
      " [1.         1.39149738]\n",
      " [1.         0.90908213]\n",
      " [1.         1.25511616]\n",
      " [1.         1.16862862]\n",
      " [1.         1.80231602]\n",
      " [1.         0.09089276]\n",
      " [1.         0.56192638]\n",
      " [1.         1.90082297]\n",
      " [1.         1.78052757]\n",
      " [1.         0.91131351]\n",
      " [1.         1.2402652 ]\n",
      " [1.         0.55476237]\n",
      " [1.         0.37624232]\n",
      " [1.         0.92739681]\n",
      " [1.         0.70670446]\n",
      " [1.         1.16731222]\n",
      " [1.         0.15546927]\n",
      " [1.         1.94878962]\n",
      " [1.         1.97242149]\n",
      " [1.         1.39632343]\n",
      " [1.         1.07219273]\n",
      " [1.         0.61905523]\n",
      " [1.         1.62759004]\n",
      " [1.         1.36946235]\n",
      " [1.         0.32523388]\n",
      " [1.         1.82185437]\n",
      " [1.         1.64507449]\n",
      " [1.         1.89959983]\n",
      " [1.         1.45143902]\n",
      " [1.         1.22683039]\n",
      " [1.         0.83648607]\n",
      " [1.         1.86545697]\n",
      " [1.         1.73212778]\n",
      " [1.         0.09043734]\n",
      " [1.         0.05273395]\n",
      " [1.         0.75292673]\n",
      " [1.         1.62110666]\n",
      " [1.         1.97455226]\n",
      " [1.         0.30083378]\n",
      " [1.         1.18826143]\n",
      " [1.         0.76178171]\n",
      " [1.         1.9398288 ]\n",
      " [1.         1.68423785]\n",
      " [1.         1.67665741]\n",
      " [1.         0.93738632]\n",
      " [1.         0.829639  ]\n",
      " [1.         0.54681414]\n",
      " [1.         0.11275099]\n",
      " [1.         1.72944475]\n",
      " [1.         1.62580202]\n",
      " [1.         1.99943535]\n",
      " [1.         1.99327367]\n",
      " [1.         1.11086341]\n",
      " [1.         1.53797483]\n",
      " [1.         1.88953146]\n",
      " [1.         1.69929478]\n",
      " [1.         0.4946962 ]\n",
      " [1.         0.90108827]\n",
      " [1.         0.25831883]\n",
      " [1.         1.90810205]\n",
      " [1.         1.21234927]\n",
      " [1.         0.45728561]\n",
      " [1.         1.34340137]\n",
      " [1.         1.23625648]\n",
      " [1.         0.71632544]\n",
      " [1.         0.22711518]\n",
      " [1.         1.34314639]\n",
      " [1.         1.0406154 ]\n",
      " [1.         1.54463678]\n",
      " [1.         1.040327  ]\n",
      " [1.         1.704363  ]\n",
      " [1.         1.10381368]\n",
      " [1.         1.12187594]\n",
      " [1.         1.75330721]\n",
      " [1.         0.80696573]]\n"
     ]
    }
   ],
   "source": [
    "# adding a new column for x0 and assigning 1. Creating a matrix of 2x2.\n",
    "X_b = np.c_[np.ones((100, 1)), X] # add x0 = 1 to each instance\n",
    "print(X_b)\n"
   ]
  },
  {
   "cell_type": "code",
   "execution_count": 22,
   "metadata": {},
   "outputs": [
    {
     "name": "stdout",
     "output_type": "stream",
     "text": [
      "[[3.9202609]\n",
      " [2.9609808]]\n"
     ]
    }
   ],
   "source": [
    "#Putting in the normal equation\n",
    "theta_best = np.linalg.inv(X_b.T.dot(X_b)).dot(X_b.T).dot(y)\n",
    "print (theta_best)\n",
    "\n",
    "#The equation which was used above was y=3x+4 and we got the value of x= 2.96 (almost 3) and 3.92 (almost 4)"
   ]
  },
  {
   "cell_type": "code",
   "execution_count": 28,
   "metadata": {},
   "outputs": [
    {
     "name": "stdout",
     "output_type": "stream",
     "text": [
      "[[1. 0.]\n",
      " [1. 2.]]\n"
     ]
    }
   ],
   "source": [
    "#Creating the new test data of 2x2 matrix. \n",
    "X_new = np.array([[0], [2]])\n",
    "#print(X_new)\n",
    "X_new_b = np.c_[np.ones((2, 1)), X_new] # add x0 = 1 to each instance\n",
    "print(X_new_b)\n"
   ]
  },
  {
   "cell_type": "code",
   "execution_count": 30,
   "metadata": {},
   "outputs": [
    {
     "data": {
      "text/plain": [
       "array([[3.9202609],\n",
       "       [9.8422225]])"
      ]
     },
     "execution_count": 30,
     "metadata": {},
     "output_type": "execute_result"
    }
   ],
   "source": [
    ">>> y_predict = X_new_b.dot(theta_best)\n",
    ">>> y_predict"
   ]
  },
  {
   "cell_type": "code",
   "execution_count": 32,
   "metadata": {},
   "outputs": [
    {
     "data": {
      "image/png": "[encoded data removed]",
      "text/plain": [
       "<Figure size 432x288 with 1 Axes>"
      ]
     },
     "metadata": {},
     "output_type": "display_data"
    }
   ],
   "source": [
    "plt.plot(X_new, y_predict, \"r-\")\n",
    "plt.plot(X, y, \"b.\")\n",
    "plt.axis([0, 2, 0, 15])\n",
    "plt.show()"
   ]
  },
  {
   "cell_type": "code",
   "execution_count": 37,
   "metadata": {},
   "outputs": [
    {
     "data": {
      "text/plain": [
       "(array([3.9202609]), array([[2.9609808]]))"
      ]
     },
     "execution_count": 37,
     "metadata": {},
     "output_type": "execute_result"
    }
   ],
   "source": [
    "#The equivalent code using Scikit-Learn looks like this and gives the same result\n",
    ">>> from sklearn.linear_model import LinearRegression\n",
    ">>> lin_reg = LinearRegression()\n",
    ">>> lin_reg.fit(X, y)\n",
    ">>> lin_reg.intercept_, lin_reg.coef_\n",
    "\n"
   ]
  },
  {
   "cell_type": "code",
   "execution_count": 38,
   "metadata": {},
   "outputs": [
    {
     "data": {
      "text/plain": [
       "array([[3.9202609],\n",
       "       [9.8422225]])"
      ]
     },
     "execution_count": 38,
     "metadata": {},
     "output_type": "execute_result"
    }
   ],
   "source": [
    ">>> lin_reg.predict(X_new)"
   ]
  }
 ],
 "metadata": {
  "kernelspec": {
   "display_name": "Python 3",
   "language": "python",
   "name": "python3"
  },
  "language_info": {
   "codemirror_mode": {
    "name": "ipython",
    "version": 3
   },
   "file_extension": ".py",
   "mimetype": "text/x-python",
   "name": "python",
   "nbconvert_exporter": "python",
   "pygments_lexer": "ipython3",
   "version": "3.6.5"
  }
 },
 "nbformat": 4,
 "nbformat_minor": 2
}
