{
 "cells": [
  {
   "cell_type": "code",
   "execution_count": null,
   "metadata": {
    "collapsed": true
   },
   "outputs": [],
   "source": [
    "import pandas as pd"
   ]
  }
 ],
 "metadata": {
  "anaconda-cloud": {},
  "kernelspec": {
   "display_name": "R [py36]",
   "language": "R",
   "name": "R [py36]"
  }
 },
 "nbformat": 4,
 "nbformat_minor": 2
}
