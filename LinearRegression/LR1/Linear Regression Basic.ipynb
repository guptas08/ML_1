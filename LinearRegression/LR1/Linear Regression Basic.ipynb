{
 "cells": [
  {
   "cell_type": "code",
   "execution_count": 156,
   "metadata": {},
   "outputs": [],
   "source": [
    "import pandas as pd\n",
    "import numpy as np\n",
    "from matplotlib import pyplot as plt\n",
    "\n",
    "%matplotlib inline"
   ]
  },
  {
   "cell_type": "code",
   "execution_count": 157,
   "metadata": {},
   "outputs": [],
   "source": [
    "nasdaqFile=(\"C:\\\\Users\\\\Ankitude\\\\PracticeProjects\\\\ML_1\\\\LinearRegression\\\\LR1\\\\dataset\\\\NASDAQ.csv\")\n",
    "\n",
    "googFile=(\"C:\\\\Users\\\\Ankitude\\\\PracticeProjects\\\\ML_1\\\\LinearRegression\\\\LR1\\\\dataset\\\\GOOG.csv\" )\n",
    "\n",
    "exxonFile=(\"C:\\\\Users\\\\Ankitude\\\\PracticeProjects\\\\ML_1\\\\LinearRegression\\\\LR1\\\\dataset\\\\XOM.csv\" )\n",
    "\n",
    "usoFile=(\"C:\\\\Users\\\\Ankitude\\\\PracticeProjects\\\\ML_1\\\\LinearRegression\\\\LR1\\\\dataset\\\\USO.csv\" )\n"
   ]
  },
  {
   "cell_type": "code",
   "execution_count": null,
   "metadata": {},
   "outputs": [],
   "source": []
  },
  {
   "cell_type": "code",
   "execution_count": 158,
   "metadata": {},
   "outputs": [],
   "source": [
    "def readFile(filename):\n",
    "    data=pd.read_csv(filename,sep=\",\",usecols=[0,5],names=['Date','Price'],header=0)\n",
    "    returns=np.array(data[\"Price\"][:-1],np.float)/np.array(data[\"Price\"][1:],np.float)-1\n",
    "    data[\"Returns\"]=np.append(returns,np.nan)\n",
    "    data.index=data[\"Date\"]\n",
    "    return data"
   ]
  },
  {
   "cell_type": "code",
   "execution_count": 159,
   "metadata": {},
   "outputs": [],
   "source": [
    "googData=readFile(googFile)\n",
    "nasdaqData=readFile(nasdaqFile)"
   ]
  },
  {
   "cell_type": "code",
   "execution_count": 160,
   "metadata": {},
   "outputs": [
    {
     "data": {
      "text/html": [
       "<div>\n",
       "<style scoped>\n",
       "    .dataframe tbody tr th:only-of-type {\n",
       "        vertical-align: middle;\n",
       "    }\n",
       "\n",
       "    .dataframe tbody tr th {\n",
       "        vertical-align: top;\n",
       "    }\n",
       "\n",
       "    .dataframe thead th {\n",
       "        text-align: right;\n",
       "    }\n",
       "</style>\n",
       "<table border=\"1\" class=\"dataframe\">\n",
       "  <thead>\n",
       "    <tr style=\"text-align: right;\">\n",
       "      <th></th>\n",
       "      <th>Date</th>\n",
       "      <th>Price</th>\n",
       "      <th>Returns</th>\n",
       "    </tr>\n",
       "    <tr>\n",
       "      <th>Date</th>\n",
       "      <th></th>\n",
       "      <th></th>\n",
       "      <th></th>\n",
       "    </tr>\n",
       "  </thead>\n",
       "  <tbody>\n",
       "    <tr>\n",
       "      <th>2019-07-18</th>\n",
       "      <td>2019-07-18</td>\n",
       "      <td>1146.329956</td>\n",
       "      <td>0.014362</td>\n",
       "    </tr>\n",
       "    <tr>\n",
       "      <th>2019-07-19</th>\n",
       "      <td>2019-07-19</td>\n",
       "      <td>1130.099976</td>\n",
       "      <td>-0.007003</td>\n",
       "    </tr>\n",
       "    <tr>\n",
       "      <th>2019-07-22</th>\n",
       "      <td>2019-07-22</td>\n",
       "      <td>1138.069946</td>\n",
       "      <td>-0.007102</td>\n",
       "    </tr>\n",
       "    <tr>\n",
       "      <th>2019-07-23</th>\n",
       "      <td>2019-07-23</td>\n",
       "      <td>1146.209961</td>\n",
       "      <td>0.007383</td>\n",
       "    </tr>\n",
       "    <tr>\n",
       "      <th>2019-07-24</th>\n",
       "      <td>2019-07-24</td>\n",
       "      <td>1137.810059</td>\n",
       "      <td>NaN</td>\n",
       "    </tr>\n",
       "  </tbody>\n",
       "</table>\n",
       "</div>"
      ],
      "text/plain": [
       "                  Date        Price   Returns\n",
       "Date                                         \n",
       "2019-07-18  2019-07-18  1146.329956  0.014362\n",
       "2019-07-19  2019-07-19  1130.099976 -0.007003\n",
       "2019-07-22  2019-07-22  1138.069946 -0.007102\n",
       "2019-07-23  2019-07-23  1146.209961  0.007383\n",
       "2019-07-24  2019-07-24  1137.810059       NaN"
      ]
     },
     "execution_count": 160,
     "metadata": {},
     "output_type": "execute_result"
    }
   ],
   "source": [
    "googData.tail()"
   ]
  },
  {
   "cell_type": "code",
   "execution_count": 161,
   "metadata": {},
   "outputs": [
    {
     "data": {
      "text/html": [
       "<div>\n",
       "<style scoped>\n",
       "    .dataframe tbody tr th:only-of-type {\n",
       "        vertical-align: middle;\n",
       "    }\n",
       "\n",
       "    .dataframe tbody tr th {\n",
       "        vertical-align: top;\n",
       "    }\n",
       "\n",
       "    .dataframe thead th {\n",
       "        text-align: right;\n",
       "    }\n",
       "</style>\n",
       "<table border=\"1\" class=\"dataframe\">\n",
       "  <thead>\n",
       "    <tr style=\"text-align: right;\">\n",
       "      <th></th>\n",
       "      <th>Date</th>\n",
       "      <th>Price</th>\n",
       "      <th>Returns</th>\n",
       "    </tr>\n",
       "    <tr>\n",
       "      <th>Date</th>\n",
       "      <th></th>\n",
       "      <th></th>\n",
       "      <th></th>\n",
       "    </tr>\n",
       "  </thead>\n",
       "  <tbody>\n",
       "    <tr>\n",
       "      <th>2019-07-18</th>\n",
       "      <td>2019-07-18</td>\n",
       "      <td>8207.240234</td>\n",
       "      <td>0.007457</td>\n",
       "    </tr>\n",
       "    <tr>\n",
       "      <th>2019-07-19</th>\n",
       "      <td>2019-07-19</td>\n",
       "      <td>8146.490234</td>\n",
       "      <td>-0.007027</td>\n",
       "    </tr>\n",
       "    <tr>\n",
       "      <th>2019-07-22</th>\n",
       "      <td>2019-07-22</td>\n",
       "      <td>8204.139648</td>\n",
       "      <td>-0.005728</td>\n",
       "    </tr>\n",
       "    <tr>\n",
       "      <th>2019-07-23</th>\n",
       "      <td>2019-07-23</td>\n",
       "      <td>8251.400391</td>\n",
       "      <td>-0.008424</td>\n",
       "    </tr>\n",
       "    <tr>\n",
       "      <th>2019-07-24</th>\n",
       "      <td>2019-07-24</td>\n",
       "      <td>8321.500000</td>\n",
       "      <td>NaN</td>\n",
       "    </tr>\n",
       "  </tbody>\n",
       "</table>\n",
       "</div>"
      ],
      "text/plain": [
       "                  Date        Price   Returns\n",
       "Date                                         \n",
       "2019-07-18  2019-07-18  8207.240234  0.007457\n",
       "2019-07-19  2019-07-19  8146.490234 -0.007027\n",
       "2019-07-22  2019-07-22  8204.139648 -0.005728\n",
       "2019-07-23  2019-07-23  8251.400391 -0.008424\n",
       "2019-07-24  2019-07-24  8321.500000       NaN"
      ]
     },
     "execution_count": 161,
     "metadata": {},
     "output_type": "execute_result"
    }
   ],
   "source": [
    "nasdaqData.tail()"
   ]
  },
  {
   "cell_type": "code",
   "execution_count": 162,
   "metadata": {},
   "outputs": [],
   "source": [
    "xData=nasdaqData[\"Returns\"][0:-1].values.reshape(-1,1)"
   ]
  },
  {
   "cell_type": "code",
   "execution_count": 163,
   "metadata": {},
   "outputs": [],
   "source": [
    "yData=googData['Returns'][0:-1]"
   ]
  },
  {
   "cell_type": "code",
   "execution_count": 164,
   "metadata": {},
   "outputs": [
    {
     "data": {
      "text/plain": [
       "array([[ 1.01959018e-02],\n",
       "       [ 1.48318503e-02],\n",
       "       [ 1.40786267e-02],\n",
       "       [-5.44723445e-03],\n",
       "       [-4.60602881e-03],\n",
       "       [-1.22265402e-02],\n",
       "       [-1.19301246e-03],\n",
       "       [-6.06518445e-03],\n",
       "       [-3.04173183e-03],\n",
       "       [-5.92003878e-04],\n",
       "       [-4.37126617e-04],\n",
       "       [ 6.71886514e-03],\n",
       "       [ 2.48089790e-03],\n",
       "       [-6.50246352e-03],\n",
       "       [ 1.24477135e-02],\n",
       "       [-4.15036443e-03],\n",
       "       [-1.25507212e-03],\n",
       "       [-5.98348313e-04],\n",
       "       [-4.85549446e-03],\n",
       "       [-3.79386440e-03],\n",
       "       [ 1.35053514e-03],\n",
       "       [-8.49738096e-03],\n",
       "       [-8.96992016e-03],\n",
       "       [-1.51184016e-03],\n",
       "       [-9.82157180e-03],\n",
       "       [ 2.63713266e-03],\n",
       "       [-2.61176046e-03],\n",
       "       [ 2.26047137e-03],\n",
       "       [ 1.20172653e-02],\n",
       "       [ 9.14330568e-03],\n",
       "       [ 2.55486728e-03],\n",
       "       [-2.72837961e-03],\n",
       "       [-6.05960984e-03],\n",
       "       [ 2.29314906e-03],\n",
       "       [-7.42227773e-03],\n",
       "       [ 4.58165250e-04],\n",
       "       [ 1.44697363e-02],\n",
       "       [-7.58157253e-03],\n",
       "       [ 7.63496029e-04],\n",
       "       [-9.73937483e-03],\n",
       "       [ 5.16717490e-03],\n",
       "       [-7.86918838e-04],\n",
       "       [-1.77586861e-03],\n",
       "       [ 2.14008835e-03],\n",
       "       [-6.41635030e-03],\n",
       "       [-5.44331647e-04],\n",
       "       [ 1.12603651e-03],\n",
       "       [ 4.71901556e-03],\n",
       "       [-3.18252375e-03],\n",
       "       [ 1.84757786e-02],\n",
       "       [ 1.16916163e-02],\n",
       "       [ 6.78649664e-03],\n",
       "       [-2.67487677e-04],\n",
       "       [ 4.25718263e-02],\n",
       "       [ 1.26878133e-02],\n",
       "       [-2.23866263e-02],\n",
       "       [ 8.90219560e-03],\n",
       "       [-2.80884539e-02],\n",
       "       [ 3.65059328e-04],\n",
       "       [ 2.10497138e-02],\n",
       "       [ 4.84765843e-03],\n",
       "       [-2.62432311e-03],\n",
       "       [ 4.18012459e-03],\n",
       "       [ 4.63029854e-02],\n",
       "       [-2.86868260e-02],\n",
       "       [ 2.10862921e-02],\n",
       "       [ 1.65837038e-02],\n",
       "       [-1.55494704e-02],\n",
       "       [-1.97443165e-02],\n",
       "       [-1.72395913e-02],\n",
       "       [ 1.04757275e-02],\n",
       "       [ 3.83963864e-03],\n",
       "       [-6.38694668e-03],\n",
       "       [-2.57292922e-02],\n",
       "       [ 5.29421762e-03],\n",
       "       [ 1.67384442e-02],\n",
       "       [ 2.86117902e-02],\n",
       "       [ 0.00000000e+00],\n",
       "       [ 9.03537766e-03],\n",
       "       [-1.68947713e-02],\n",
       "       [ 1.53971689e-03],\n",
       "       [ 3.12144500e-02],\n",
       "       [ 1.73199127e-02],\n",
       "       [-9.09751888e-03],\n",
       "       [ 4.79465571e-03],\n",
       "       [-2.01741234e-02],\n",
       "       [-1.20024422e-04],\n",
       "       [-2.86480251e-02],\n",
       "       [ 2.54496937e-03],\n",
       "       [-7.83843492e-03],\n",
       "       [-1.49122598e-02],\n",
       "       [ 3.95449258e-02],\n",
       "       [-4.14976517e-03],\n",
       "       [ 3.14251556e-02],\n",
       "       [-7.30288068e-03],\n",
       "       [-1.60840889e-03],\n",
       "       [-9.36560681e-03],\n",
       "       [ 3.95737974e-03],\n",
       "       [ 2.31048725e-02],\n",
       "       [ 2.32360749e-02],\n",
       "       [-4.44878769e-03],\n",
       "       [ 2.21611939e-02],\n",
       "       [ 1.66074005e-02],\n",
       "       [ 3.08574488e-02],\n",
       "       [ 2.26178142e-02],\n",
       "       [-5.51449644e-02],\n",
       "       [-3.81950122e-03],\n",
       "       [-7.63880432e-04],\n",
       "       [-7.64998111e-03],\n",
       "       [-4.59952479e-03],\n",
       "       [ 3.13204829e-02],\n",
       "       [-4.08614912e-02],\n",
       "       [-1.23999005e-02],\n",
       "       [-1.06611259e-02],\n",
       "       [-8.63581809e-03],\n",
       "       [-4.14965019e-03],\n",
       "       [ 2.09279006e-03],\n",
       "       [ 9.49331280e-03],\n",
       "       [-1.67871595e-02],\n",
       "       [-1.54375859e-03],\n",
       "       [-7.02523838e-03],\n",
       "       [-1.01673440e-02],\n",
       "       [ 1.94961682e-02],\n",
       "       [-7.70044705e-04],\n",
       "       [-6.74209528e-03],\n",
       "       [-1.27566908e-02],\n",
       "       [ 1.11746064e-02],\n",
       "       [ 8.16559030e-03],\n",
       "       [-2.15492570e-02],\n",
       "       [-1.35489804e-02],\n",
       "       [ 2.46013719e-03],\n",
       "       [-1.13874741e-02],\n",
       "       [-7.36820440e-03],\n",
       "       [ 3.63380018e-03],\n",
       "       [ 1.19272107e-02],\n",
       "       [-1.34966111e-03],\n",
       "       [-1.32729062e-03],\n",
       "       [-1.43932141e-02],\n",
       "       [-7.76209047e-04],\n",
       "       [-8.84658147e-04],\n",
       "       [-6.08370794e-03],\n",
       "       [-1.91803194e-03],\n",
       "       [-3.07088070e-04],\n",
       "       [ 3.93579149e-03],\n",
       "       [-9.01092225e-03],\n",
       "       [-3.56344757e-03],\n",
       "       [ 6.83527762e-04],\n",
       "       [-6.89649118e-04],\n",
       "       [ 2.91800784e-03],\n",
       "       [-8.27089103e-03],\n",
       "       [ 2.34643486e-03],\n",
       "       [ 1.59702155e-04],\n",
       "       [ 9.38458467e-03],\n",
       "       [ 1.13805048e-02],\n",
       "       [ 1.79799838e-03],\n",
       "       [-1.98357675e-02],\n",
       "       [-4.34324814e-03],\n",
       "       [-6.85301062e-03],\n",
       "       [ 1.63807459e-03],\n",
       "       [-7.49423240e-03],\n",
       "       [-3.36382946e-03],\n",
       "       [-1.22608442e-03],\n",
       "       [-6.49506967e-04],\n",
       "       [-1.40311657e-02],\n",
       "       [ 2.56834380e-02],\n",
       "       [ 6.71666921e-04],\n",
       "       [-7.01811617e-03],\n",
       "       [ 6.29827874e-03],\n",
       "       [-3.36282013e-03],\n",
       "       [-7.78204336e-03],\n",
       "       [-1.27208424e-02],\n",
       "       [-2.52013841e-03],\n",
       "       [-5.93497162e-03],\n",
       "       [ 4.77714800e-04],\n",
       "       [-5.90905506e-03],\n",
       "       [-1.90975250e-03],\n",
       "       [ 5.63895819e-03],\n",
       "       [-6.90090296e-03],\n",
       "       [ 2.12402248e-03],\n",
       "       [-4.60916268e-03],\n",
       "       [ 1.02186309e-03],\n",
       "       [-3.02743972e-03],\n",
       "       [ 5.18992051e-04],\n",
       "       [-2.47557656e-04],\n",
       "       [-2.14714675e-03],\n",
       "       [-1.29974321e-02],\n",
       "       [ 2.32165334e-03],\n",
       "       [-2.05333991e-03],\n",
       "       [-3.40269645e-03],\n",
       "       [-1.89297718e-03],\n",
       "       [ 8.20960570e-03],\n",
       "       [ 5.68348389e-03],\n",
       "       [ 1.60140417e-03],\n",
       "       [-1.55842700e-02],\n",
       "       [ 5.01151144e-03],\n",
       "       [ 2.00320298e-02],\n",
       "       [ 2.57322410e-03],\n",
       "       [ 4.13748919e-03],\n",
       "       [-8.02089829e-04],\n",
       "       [ 3.52973995e-02],\n",
       "       [-1.13091117e-02],\n",
       "       [-1.12065953e-02],\n",
       "       [-9.60995497e-03],\n",
       "       [ 1.04615012e-02],\n",
       "       [ 1.47876246e-02],\n",
       "       [-1.07042547e-02],\n",
       "       [ 4.50020536e-03],\n",
       "       [ 1.60665396e-02],\n",
       "       [-1.14311508e-03],\n",
       "       [ 3.89881728e-03],\n",
       "       [ 7.95515734e-03],\n",
       "       [-2.69700193e-03],\n",
       "       [ 1.53720661e-02],\n",
       "       [ 1.63820475e-02],\n",
       "       [-2.57867676e-02],\n",
       "       [-6.38373583e-03],\n",
       "       [-5.26158006e-03],\n",
       "       [-1.63457320e-02],\n",
       "       [-1.03627845e-02],\n",
       "       [ 7.67136649e-05],\n",
       "       [ 3.83044793e-03],\n",
       "       [-5.66657292e-03],\n",
       "       [ 5.19064910e-03],\n",
       "       [-6.16440288e-03],\n",
       "       [-1.36863851e-02],\n",
       "       [-4.18662852e-03],\n",
       "       [-7.95147407e-03],\n",
       "       [ 2.44404779e-03],\n",
       "       [ 3.24890583e-03],\n",
       "       [ 1.53435983e-02],\n",
       "       [-3.19217384e-03],\n",
       "       [-7.25292337e-03],\n",
       "       [-4.80630944e-03],\n",
       "       [-1.04953950e-02],\n",
       "       [-2.21106047e-03],\n",
       "       [-7.48328213e-03],\n",
       "       [ 1.03407965e-03],\n",
       "       [ 7.82998043e-03],\n",
       "       [-5.32443315e-03],\n",
       "       [-7.41238264e-03],\n",
       "       [ 7.91874365e-04],\n",
       "       [-5.83440008e-03],\n",
       "       [-1.70143594e-03],\n",
       "       [ 4.30396286e-03],\n",
       "       [ 4.59241048e-03],\n",
       "       [-2.68424859e-03],\n",
       "       [ 7.45719914e-03],\n",
       "       [-7.02686893e-03],\n",
       "       [-5.72760268e-03],\n",
       "       [-8.42391504e-03]])"
      ]
     },
     "execution_count": 164,
     "metadata": {},
     "output_type": "execute_result"
    }
   ],
   "source": [
    "xData"
   ]
  },
  {
   "cell_type": "code",
   "execution_count": 165,
   "metadata": {},
   "outputs": [
    {
     "data": {
      "text/plain": [
       "Date\n",
       "2018-07-25   -0.003650\n",
       "2018-07-26    0.024086\n",
       "2018-07-27    0.015380\n",
       "2018-07-30    0.002037\n",
       "2018-07-31   -0.002254\n",
       "2018-08-01   -0.005008\n",
       "2018-08-02    0.001994\n",
       "2018-08-03   -0.000866\n",
       "2018-08-06   -0.014047\n",
       "2018-08-07   -0.002722\n",
       "2018-08-08   -0.002794\n",
       "2018-08-09    0.009284\n",
       "2018-08-10    0.002105\n",
       "2018-08-13   -0.005708\n",
       "2018-08-14    0.022826\n",
       "2018-08-15    0.006540\n",
       "2018-08-16    0.004605\n",
       "2018-08-17   -0.005639\n",
       "2018-08-20    0.005118\n",
       "2018-08-21   -0.004729\n",
       "2018-08-22    0.001618\n",
       "2018-08-23   -0.012510\n",
       "2018-08-24   -0.017047\n",
       "2018-08-27    0.008667\n",
       "2018-08-28   -0.014528\n",
       "2018-08-29    0.008216\n",
       "2018-08-30    0.017181\n",
       "2018-08-31    0.017703\n",
       "2018-09-04    0.008867\n",
       "2018-09-05    0.012839\n",
       "                ...   \n",
       "2019-06-11    0.001569\n",
       "2019-06-12   -0.010783\n",
       "2019-06-13    0.003151\n",
       "2019-06-14   -0.006545\n",
       "2019-06-17   -0.010058\n",
       "2019-06-18    0.001152\n",
       "2019-06-19   -0.008179\n",
       "2019-06-20   -0.009324\n",
       "2019-06-21    0.005701\n",
       "2019-06-24    0.026851\n",
       "2019-06-25    0.006066\n",
       "2019-06-26    0.003522\n",
       "2019-06-27   -0.004533\n",
       "2019-06-28   -0.015520\n",
       "2019-07-01   -0.011969\n",
       "2019-07-02   -0.009210\n",
       "2019-07-03   -0.008846\n",
       "2019-07-05    0.013652\n",
       "2019-07-08   -0.007539\n",
       "2019-07-09   -0.013722\n",
       "2019-07-10   -0.003260\n",
       "2019-07-11   -0.000603\n",
       "2019-07-12   -0.004729\n",
       "2019-07-15   -0.002809\n",
       "2019-07-16    0.006307\n",
       "2019-07-17    0.000017\n",
       "2019-07-18    0.014362\n",
       "2019-07-19   -0.007003\n",
       "2019-07-22   -0.007102\n",
       "2019-07-23    0.007383\n",
       "Name: Returns, Length: 250, dtype: float64"
      ]
     },
     "execution_count": 165,
     "metadata": {},
     "output_type": "execute_result"
    }
   ],
   "source": [
    "yData"
   ]
  },
  {
   "cell_type": "code",
   "execution_count": 166,
   "metadata": {
    "collapsed": true
   },
   "outputs": [],
   "source": [
    "from sklearn import datasets, linear_model\n"
   ]
  },
  {
   "cell_type": "code",
   "execution_count": 167,
   "metadata": {},
   "outputs": [
    {
     "data": {
      "text/plain": [
       "LinearRegression(copy_X=True, fit_intercept=True, n_jobs=1, normalize=False)"
      ]
     },
     "execution_count": 167,
     "metadata": {},
     "output_type": "execute_result"
    }
   ],
   "source": [
    "goodGoogModel=linear_model.LinearRegression()\n",
    "goodGoogModel.fit(xData,yData)"
   ]
  },
  {
   "cell_type": "code",
   "execution_count": 168,
   "metadata": {},
   "outputs": [
    {
     "data": {
      "text/plain": [
       "0.6690490366257789"
      ]
     },
     "execution_count": 168,
     "metadata": {},
     "output_type": "execute_result"
    }
   ],
   "source": [
    "goodGoogModel.score(xData,yData)"
   ]
  },
  {
   "cell_type": "code",
   "execution_count": 169,
   "metadata": {},
   "outputs": [
    {
     "data": {
      "text/plain": [
       "array([1.10361047])"
      ]
     },
     "execution_count": 169,
     "metadata": {},
     "output_type": "execute_result"
    }
   ],
   "source": [
    "goodGoogModel.coef_"
   ]
  },
  {
   "cell_type": "code",
   "execution_count": 174,
   "metadata": {},
   "outputs": [
    {
     "data": {
      "text/plain": [
       "<function matplotlib.pyplot.show(*args, **kw)>"
      ]
     },
     "execution_count": 174,
     "metadata": {},
     "output_type": "execute_result"
    },
    {
     "data": {
      "image/png": "[encoded data removed]",
      "text/plain": [
       "<Figure size 432x288 with 1 Axes>"
      ]
     },
     "metadata": {},
     "output_type": "display_data"
    }
   ],
   "source": [
    "plt.scatter(xData,yData,color='blue')\n",
    "plt.plot(xData,goodGoogModel.predict(xData),color='black',linewidth=3)\n",
    "plt.show"
   ]
  }
 ],
 "metadata": {
  "anaconda-cloud": {},
  "kernelspec": {
   "display_name": "Python 3",
   "language": "python",
   "name": "python3"
  },
  "language_info": {
   "codemirror_mode": {
    "name": "ipython",
    "version": 3
   },
   "file_extension": ".py",
   "mimetype": "text/x-python",
   "name": "python",
   "nbconvert_exporter": "python",
   "pygments_lexer": "ipython3",
   "version": "3.6.5"
  }
 },
 "nbformat": 4,
 "nbformat_minor": 2
}
