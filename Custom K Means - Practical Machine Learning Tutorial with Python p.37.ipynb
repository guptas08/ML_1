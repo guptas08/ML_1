{
 "cells": [
  {
   "cell_type": "code",
   "execution_count": 24,
   "metadata": {},
   "outputs": [],
   "source": [
    "import numpy as np\n",
    "import pandas as pd\n",
    "from matplotlib import style\n",
    "from sklearn.cluster import KMeans\n",
    "import matplotlib.pyplot as plt\n",
    "style.use('ggplot')\n",
    "\n",
    "from sklearn import preprocessing"
   ]
  },
  {
   "cell_type": "code",
   "execution_count": 25,
   "metadata": {
    "collapsed": true
   },
   "outputs": [],
   "source": [
    "X=np.array([[1,2],[1.5,5.8],[5,8],[8,8],[1,0.6],[9,11]])"
   ]
  },
  {
   "cell_type": "code",
   "execution_count": 26,
   "metadata": {
    "collapsed": true
   },
   "outputs": [],
   "source": [
    "plt.scatter(X[:,0],X[:,1],s=150)\n",
    "plt.show()"
   ]
  },
  {
   "cell_type": "code",
   "execution_count": 27,
   "metadata": {
    "collapsed": true
   },
   "outputs": [],
   "source": [
    "colors=10*[\"g.\",\"c.\",\"b.\",\"r.\",\"k.\",\"o.\"]"
   ]
  },
  {
   "cell_type": "code",
   "execution_count": 33,
   "metadata": {},
   "outputs": [
    {
     "ename": "SyntaxError",
     "evalue": "'break' outside loop (<ipython-input-33-cbe876a506be>, line 34)",
     "output_type": "error",
     "traceback": [
      "\u001b[1;36m  File \u001b[1;32m\"<ipython-input-33-cbe876a506be>\"\u001b[1;36m, line \u001b[1;32m34\u001b[0m\n\u001b[1;33m    break\u001b[0m\n\u001b[1;31mSyntaxError\u001b[0m\u001b[1;31m:\u001b[0m 'break' outside loop\n"
     ]
    }
   ],
   "source": [
    "class K_Means:\n",
    "    def _init_(self,k=2,tol=0.001,max_iter=300):\n",
    "        self.k=k\n",
    "        self.tol=tol\n",
    "        self.max_ier=max_iter\n",
    "    def fit(self,data):\n",
    "        self.centroids={}\n",
    "        \n",
    "        for i in range(self.k):\n",
    "            self.centroid[i]=data[i]\n",
    "        for i in range(self.max_iter):\n",
    "            self.classifications={}\n",
    "            \n",
    "        for i in range(self.k):\n",
    "               self.classifications[i]=[]\n",
    "        for featureset in X:\n",
    "            distances=[np.linalg.norm(featureset-self.centroids[centroid]) for centroid in self.centroids]\n",
    "            classification=distances.index(min(distances))\n",
    "            self.classifications[classification].append(featureset)\n",
    "            prev_ccentroids=dict(self.centroids)\n",
    "        \n",
    "        for classification in self.classfications:\n",
    "            pass\n",
    "            #self.centroids[classification]=np.average(self.classifications[classification],axis=0)\n",
    "        optimized=True\n",
    "        \n",
    "        for c in self.centroids:\n",
    "            original_centroid=prev_centroids[c]\n",
    "            current_centroid=self.centroids[c]\n",
    "            if np.sum((current_centroid-original_centroid)/original_centroid*100.0) > self.tol:\n",
    "                optimized=False\n",
    "                \n",
    "        if optimized:\n",
    "            break\n",
    "            \n",
    "    def predict(self,data):\n",
    "        pass\n",
    "    "
   ]
  },
  {
   "cell_type": "code",
   "execution_count": null,
   "metadata": {
    "collapsed": true
   },
   "outputs": [],
   "source": []
  }
 ],
 "metadata": {
  "kernelspec": {
   "display_name": "Python 3",
   "language": "python",
   "name": "python3"
  },
  "language_info": {
   "codemirror_mode": {
    "name": "ipython",
    "version": 3
   },
   "file_extension": ".py",
   "mimetype": "text/x-python",
   "name": "python",
   "nbconvert_exporter": "python",
   "pygments_lexer": "ipython3",
   "version": "3.6.5"
  }
 },
 "nbformat": 4,
 "nbformat_minor": 1
}
